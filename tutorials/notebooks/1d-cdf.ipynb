{
 "cells": [
  {
   "cell_type": "markdown",
   "metadata": {},
   "source": [
    "# IRF - Uppsala Python Workshop: Snakes in Space 🐍\n",
    "author: Louis Richard\n",
    "e-mail: louisr@irfu.se\n",
    "date: 29/02/2024"
   ]
  },
  {
   "cell_type": "markdown",
   "metadata": {},
   "source": [
    "## CDF files with Python:\n",
    "- Common Data Format (CDF) structure\n",
    "- International Solar Terrestrial Physics (ISTP) compliance\n",
    "- Reading/writing CDF files with Python"
   ]
  },
  {
   "cell_type": "markdown",
   "metadata": {},
   "source": [
    "## Install PyCDFPP (PyCDF++) (see https://pycdfpp.readthedocs.io/en/stable/)"
   ]
  },
  {
   "cell_type": "code",
   "execution_count": 1,
   "metadata": {
    "scrolled": true
   },
   "outputs": [
    {
     "name": "stdout",
     "output_type": "stream",
     "text": [
      "Requirement already satisfied: pycdfpp in /usr/local/lib/python3.11/site-packages (0.6.0)\n",
      "Requirement already satisfied: numpy in /usr/local/lib/python3.11/site-packages (from pycdfpp) (1.24.3)\n",
      "Requirement already satisfied: pyyaml in /usr/local/lib/python3.11/site-packages (from pycdfpp) (6.0.1)\n",
      "Note: you may need to restart the kernel to use updated packages.\n"
     ]
    }
   ],
   "source": [
    "pip install pycdfpp"
   ]
  },
  {
   "cell_type": "markdown",
   "metadata": {},
   "source": [
    "## CDF file structure"
   ]
  },
  {
   "cell_type": "markdown",
   "metadata": {},
   "source": [
    "### import package"
   ]
  },
  {
   "cell_type": "code",
   "execution_count": 2,
   "metadata": {},
   "outputs": [],
   "source": [
    "import pycdfpp"
   ]
  },
  {
   "cell_type": "markdown",
   "metadata": {},
   "source": [
    "### Read CDF file"
   ]
  },
  {
   "cell_type": "code",
   "execution_count": 3,
   "metadata": {},
   "outputs": [],
   "source": [
    "cdf = pycdfpp.load(\n",
    "    \"/Volumes/mms/mms1/fgm/srvy/l2/2019/09/mms1_fgm_srvy_l2_20190914_v5.211.0.cdf\"\n",
    ")"
   ]
  },
  {
   "cell_type": "code",
   "execution_count": 4,
   "metadata": {},
   "outputs": [
    {
     "data": {
      "text/plain": [
       "CDF:\n",
       "  version: 3.6.3\n",
       "  majority: Adaptative column\n",
       "  compression: None\n",
       "\n",
       "Attributes:\n",
       "  Project: \"STP>Solar-Terrestrial Physics\"\n",
       "  Source_name: \"MMS1>MMS Satellite Number 1\"\n",
       "  Discipline: \"Space Physics>Magnetospheric Science\"\n",
       "  Data_type: \"srvy_l2\"\n",
       "  Descriptor: \"FGM>Flux Gate Magnetometer\"\n",
       "  File_naming_convention: \"source_descriptor_datatype_yyyyMMdd\"\n",
       "  Data_version: \"5.211.0\"\n",
       "  PI_name: \"J. Burch, C. Russell, W. Magnus\"\n",
       "  PI_affiliation: \"SWRI, UCLA, IWF\"\n",
       "  TEXT: [ [ \"The Fluxgate Magnetometers (FGM) on Magnetospheric Multiscale consist of a traditional Analog Fluxgate Magnetometer (AFG), and a Digital Fluxgate magnetometer (DFG). The dual magnetometers are operated as a single instrument providing a single intercalibrated data product. Range changes occur at different times on the two instruments so the gains checked each periapsis can be carried out unambiguously to apoapsis. Cross correlation of calibration parameters can separate causes of the any apparent calibration changes. Use of Electron Drift Instrument (EDI) to determine the field along the rotation axis allows accurate monitoring of the zero levels along the rotation axis.  Prior to launch the magnetometers were calibrated at the Technical University, Braunschweig, except for the AFG magnetometers on MMS3 and MMS4, which were calibrated at UCLA.  Both sets of sensors are operated for the entire MMS orbit, with slow survey (8 samples per second) outside of the Region of Interest (ROI), and fast survey (16 samples per second) inside the ROI. Within the ROI burst mode data (128 samples per second) are also acquired.  A detailed description of the MMS fluxgate magnetometers, including science objectives, instrument description, calibration, magnetic cleanliness program, and data flow can be found at http://link.springer.com/article/10.1007%2Fs11214-014-0057-3 (DOI 10.1007/s11214-014-0057-3).Additional information can also be found at http://www-spc.igpp.ucla.edu/ssc/mms (UCLA),and http://www.iwf.oeaw.ac.at (IWF, Graz).\", \"For the purpose of creating a unified FGM Level2 data product, burst mode data is taken from DFG and survey mode data is taken from AFG.  Because AFG and DFG are cross-calibrated on an orbit-averaged basis, small differences in offset may be observed between Level2 burst and survey mode data.  Consequently, any differences are within the error of the measurement. Based on preliminary analysis of the data, the absolute error within the Region of Interest (ROI) is estimated to be no more than 0.1 nT in the spin-plane, 0.15 nT along the spin-axis and 0.2 nT in total magnitude.\" ] ]\n",
       "  Instrument_type: \"Magnetic Fields (space)\"\n",
       "  Mission_group: \"MMS\"\n",
       "  Logical_source: \"mms1_fgm_srvy_l2\"\n",
       "  Logical_file_id: \"mms1_fgm_srvy_l2_20190914_v5.211.0\"\n",
       "  Logical_source_description: \"Level2 Flux Gate Magnetometer Combined Fast/Slow Survey DC Magnetic Field for MMS Satellite Number 1\"\n",
       "  Time_resolution: \"0.0625 to 0.125 sec\"\n",
       "  Rules_of_use: \"See MMS Data Rights and Rules for Use https://lasp.colorado.edu/galaxy/display/mms/MMS+Data+Rights+and+Rules+for+Data+Use\"\n",
       "  Generated_by: \"UCLA\"\n",
       "  Generation_date: \"20191026\"\n",
       "  Acknowledgement: [ [  ] ]\n",
       "  MODS: \"version X=5:  * Y-version number comes from cal file entries. \n",
       "              * Ensures there are 2 ephemeris points before/after data to enable proper spline.  \n",
       "              * Fix to depend_0 of rdeltahalf:  fixes bug when reading position data.\n",
       "              * L-vector for DMPA2GSE transformation is smoothed with a gaussian filter, instead \n",
       "                of using a single average value for the day.  This short-term filter avoids  \n",
       "                introduding artificial jumps at 00:00 UTC and removes 7-minute 'wobble' after  \n",
       "                maneuvers in the GSE result.   \n",
       "              * Fixes error with DEFATT file selection found when choosing the \n",
       "                daily DEFATT files to be used in Phase 2.\n",
       "              * Fixed bug where reference Etemp was used for high range gain.  Now uses measured Etemp.\n",
       "version X=4:  First version for public release of L2.\n",
       "              Renamed variables to conform with new MMS variable name guidelines \n",
       "              (obs_instr_paramName[_coordSys]_mode_level):  \n",
       "                Mag field parameters include 'b' for paramName.  \n",
       "                Use 'r' instead of 'pos' for S/C position paramName.  \n",
       "                Eliminated 'rate', replaced with 'bdeltahalf'.  Added 'rdeltahalf'.\n",
       "                l1a_mode is now just 'mode'.\n",
       "version X=3:  fixed removal of overlap between modes.\n",
       "              fixed a bug that caused stemp and etemp to be empty.\n",
       "version X=2:  flag parameter name corrected: was 'status'\n",
       "                        added bits 4, 5, 6 to flag saturation on B1, B2, and B3, respectively\n",
       "                        added bit 7 to flag bad data at range changes\n",
       "              Added etemp and l1a_mode parameters.  \n",
       "              rate, hirange, and stemp parameters now comply with MMS CDF Guidlelines, e.g.\n",
       "              FILLVAL now defined for stemp and etemp, and is set to !values.f_nan\n",
       "              No longer use Var_Parents attribute in stemp -- see Parents instead\n",
       "              In this version, temperature-corrected gains are applied.  Reference temperatures are used when \n",
       "              stemp or etemp are set to FILLVAL. \n",
       "              Non-linearity correction is applied to high rage DFG data.\n",
       "version X=1:  added 'flag', rate and hirange parameters (but 'flag' is actually called 'status')\"\n",
       "  ADID_ref: [ [  ] ]\n",
       "  LINK_TEXT: [ [ \"MMS home page\", \"SMART package home page\", \"Science Data Center\", \"FGM team home page\", \"FGM team\" ] ]\n",
       "  LINK_TITLE: [ [ \"at GSFC\", \"at SWRI\", \"at LASP\", \"at UCLA\", \"at IWF\" ] ]\n",
       "  HTTP_LINK: [ [ \"http://mms.gsfc.nasa.gov/\", \"http://mms.space.swri.edu/index.html\", \"https://lasp.colorado.edu/mms/sdc\", \"http://www-spc.igpp.ucla.edu/ssc/mms\", \"http://www.iwf.oeaw.ac.at\" ] ]\n",
       "  Parents: [ [ \"CDF>mms1_afg_fast_l1a_20190914_v1.7.5\", \"CDF>mms1_afg_slow_l1a_20190914_v1.7.5\", \"CDF>mms1_fields_hk_l1b_10e_20190914_v0.5.5\", \"MMS1_DEFATT_2019256_2019257.V00\", \"MMS1_DEFATT_2019257_2019258.V00\", \"MMS1_DEFEPH_2019256_2019257.V01\", \"MMS1_DEFEPH_2019257_2019258.V01\", \"CDF>mms1_afg_lorangecal_l2pre_20100101_v13.211.0\", \"CDF>mms1_afg_hirangecal_l2pre_20100101_v13.211.0\" ] ]\n",
       "\n",
       "Variables:\n",
       "  Epoch: [ 1244615 ], [CDF_TIME_TT2000], record varry:True, compression: None\n",
       "  mms1_fgm_b_gse_srvy_l2: [ 1244615, 4 ], [CDF_REAL4], record varry:True, compression: GNU GZIP\n",
       "  mms1_fgm_b_gsm_srvy_l2: [ 1244615, 4 ], [CDF_REAL4], record varry:True, compression: GNU GZIP\n",
       "  mms1_fgm_b_dmpa_srvy_l2: [ 1244615, 4 ], [CDF_REAL4], record varry:True, compression: GNU GZIP\n",
       "  mms1_fgm_b_bcs_srvy_l2: [ 1244615, 4 ], [CDF_REAL4], record varry:True, compression: GNU GZIP\n",
       "  mms1_fgm_flag_srvy_l2: [ 1244615 ], [CDF_UINT4], record varry:True, compression: GNU GZIP\n",
       "  Epoch_state: [ 2884 ], [CDF_TIME_TT2000], record varry:True, compression: None\n",
       "  mms1_fgm_r_gse_srvy_l2: [ 2884, 4 ], [CDF_REAL4], record varry:True, compression: GNU GZIP\n",
       "  mms1_fgm_r_gsm_srvy_l2: [ 2884, 4 ], [CDF_REAL4], record varry:True, compression: GNU GZIP\n",
       "  label_b_gse: [ 1, 4, 10 ], [CDF_CHAR], record varry:Flase, compression: None\n",
       "  label_b_gsm: [ 1, 4, 11 ], [CDF_CHAR], record varry:Flase, compression: None\n",
       "  label_b_dmpa: [ 1, 4, 10 ], [CDF_CHAR], record varry:Flase, compression: None\n",
       "  label_b_bcs: [ 1, 4, 10 ], [CDF_CHAR], record varry:Flase, compression: None\n",
       "  label_r_gse: [ 1, 4, 10 ], [CDF_CHAR], record varry:Flase, compression: None\n",
       "  label_r_gsm: [ 1, 4, 10 ], [CDF_CHAR], record varry:Flase, compression: None\n",
       "  represent_vec_tot: [ 1, 4, 1 ], [CDF_CHAR], record varry:Flase, compression: None\n",
       "  mms1_fgm_hirange_srvy_l2: [ 1244615 ], [CDF_UINT1], record varry:True, compression: GNU GZIP\n",
       "  mms1_fgm_bdeltahalf_srvy_l2: [ 1244615 ], [CDF_FLOAT], record varry:True, compression: GNU GZIP\n",
       "  mms1_fgm_stemp_srvy_l2: [ 1244615 ], [CDF_FLOAT], record varry:True, compression: GNU GZIP\n",
       "  mms1_fgm_etemp_srvy_l2: [ 1244615 ], [CDF_FLOAT], record varry:True, compression: GNU GZIP\n",
       "  mms1_fgm_mode_srvy_l2: [ 1244615 ], [CDF_FLOAT], record varry:True, compression: GNU GZIP\n",
       "  mms1_fgm_rdeltahalf_srvy_l2: [ 2884 ], [CDF_FLOAT], record varry:True, compression: GNU GZIP\n"
      ]
     },
     "execution_count": 4,
     "metadata": {},
     "output_type": "execute_result"
    }
   ],
   "source": [
    "cdf"
   ]
  },
  {
   "cell_type": "markdown",
   "metadata": {},
   "source": [
    "### Global attributes"
   ]
  },
  {
   "cell_type": "code",
   "execution_count": 5,
   "metadata": {},
   "outputs": [
    {
     "data": {
      "text/plain": [
       "Project: \"STP>Solar-Terrestrial Physics\"\n",
       "Source_name: \"MMS1>MMS Satellite Number 1\"\n",
       "Discipline: \"Space Physics>Magnetospheric Science\"\n",
       "Data_type: \"srvy_l2\"\n",
       "Descriptor: \"FGM>Flux Gate Magnetometer\"\n",
       "File_naming_convention: \"source_descriptor_datatype_yyyyMMdd\"\n",
       "Data_version: \"5.211.0\"\n",
       "PI_name: \"J. Burch, C. Russell, W. Magnus\"\n",
       "PI_affiliation: \"SWRI, UCLA, IWF\"\n",
       "TEXT: [ [ \"The Fluxgate Magnetometers (FGM) on Magnetospheric Multiscale consist of a traditional Analog Fluxgate Magnetometer (AFG), and a Digital Fluxgate magnetometer (DFG). The dual magnetometers are operated as a single instrument providing a single intercalibrated data product. Range changes occur at different times on the two instruments so the gains checked each periapsis can be carried out unambiguously to apoapsis. Cross correlation of calibration parameters can separate causes of the any apparent calibration changes. Use of Electron Drift Instrument (EDI) to determine the field along the rotation axis allows accurate monitoring of the zero levels along the rotation axis.  Prior to launch the magnetometers were calibrated at the Technical University, Braunschweig, except for the AFG magnetometers on MMS3 and MMS4, which were calibrated at UCLA.  Both sets of sensors are operated for the entire MMS orbit, with slow survey (8 samples per second) outside of the Region of Interest (ROI), and fast survey (16 samples per second) inside the ROI. Within the ROI burst mode data (128 samples per second) are also acquired.  A detailed description of the MMS fluxgate magnetometers, including science objectives, instrument description, calibration, magnetic cleanliness program, and data flow can be found at http://link.springer.com/article/10.1007%2Fs11214-014-0057-3 (DOI 10.1007/s11214-014-0057-3).Additional information can also be found at http://www-spc.igpp.ucla.edu/ssc/mms (UCLA),and http://www.iwf.oeaw.ac.at (IWF, Graz).\", \"For the purpose of creating a unified FGM Level2 data product, burst mode data is taken from DFG and survey mode data is taken from AFG.  Because AFG and DFG are cross-calibrated on an orbit-averaged basis, small differences in offset may be observed between Level2 burst and survey mode data.  Consequently, any differences are within the error of the measurement. Based on preliminary analysis of the data, the absolute error within the Region of Interest (ROI) is estimated to be no more than 0.1 nT in the spin-plane, 0.15 nT along the spin-axis and 0.2 nT in total magnitude.\" ] ]\n",
       "Instrument_type: \"Magnetic Fields (space)\"\n",
       "Mission_group: \"MMS\"\n",
       "Logical_source: \"mms1_fgm_srvy_l2\"\n",
       "Logical_file_id: \"mms1_fgm_srvy_l2_20190914_v5.211.0\"\n",
       "Logical_source_description: \"Level2 Flux Gate Magnetometer Combined Fast/Slow Survey DC Magnetic Field for MMS Satellite Number 1\"\n",
       "Time_resolution: \"0.0625 to 0.125 sec\"\n",
       "Rules_of_use: \"See MMS Data Rights and Rules for Use https://lasp.colorado.edu/galaxy/display/mms/MMS+Data+Rights+and+Rules+for+Data+Use\"\n",
       "Generated_by: \"UCLA\"\n",
       "Generation_date: \"20191026\"\n",
       "Acknowledgement: [ [  ] ]\n",
       "MODS: \"version X=5:  * Y-version number comes from cal file entries. \n",
       "              * Ensures there are 2 ephemeris points before/after data to enable proper spline.  \n",
       "              * Fix to depend_0 of rdeltahalf:  fixes bug when reading position data.\n",
       "              * L-vector for DMPA2GSE transformation is smoothed with a gaussian filter, instead \n",
       "                of using a single average value for the day.  This short-term filter avoids  \n",
       "                introduding artificial jumps at 00:00 UTC and removes 7-minute 'wobble' after  \n",
       "                maneuvers in the GSE result.   \n",
       "              * Fixes error with DEFATT file selection found when choosing the \n",
       "                daily DEFATT files to be used in Phase 2.\n",
       "              * Fixed bug where reference Etemp was used for high range gain.  Now uses measured Etemp.\n",
       "version X=4:  First version for public release of L2.\n",
       "              Renamed variables to conform with new MMS variable name guidelines \n",
       "              (obs_instr_paramName[_coordSys]_mode_level):  \n",
       "                Mag field parameters include 'b' for paramName.  \n",
       "                Use 'r' instead of 'pos' for S/C position paramName.  \n",
       "                Eliminated 'rate', replaced with 'bdeltahalf'.  Added 'rdeltahalf'.\n",
       "                l1a_mode is now just 'mode'.\n",
       "version X=3:  fixed removal of overlap between modes.\n",
       "              fixed a bug that caused stemp and etemp to be empty.\n",
       "version X=2:  flag parameter name corrected: was 'status'\n",
       "                        added bits 4, 5, 6 to flag saturation on B1, B2, and B3, respectively\n",
       "                        added bit 7 to flag bad data at range changes\n",
       "              Added etemp and l1a_mode parameters.  \n",
       "              rate, hirange, and stemp parameters now comply with MMS CDF Guidlelines, e.g.\n",
       "              FILLVAL now defined for stemp and etemp, and is set to !values.f_nan\n",
       "              No longer use Var_Parents attribute in stemp -- see Parents instead\n",
       "              In this version, temperature-corrected gains are applied.  Reference temperatures are used when \n",
       "              stemp or etemp are set to FILLVAL. \n",
       "              Non-linearity correction is applied to high rage DFG data.\n",
       "version X=1:  added 'flag', rate and hirange parameters (but 'flag' is actually called 'status')\"\n",
       "ADID_ref: [ [  ] ]\n",
       "LINK_TEXT: [ [ \"MMS home page\", \"SMART package home page\", \"Science Data Center\", \"FGM team home page\", \"FGM team\" ] ]\n",
       "LINK_TITLE: [ [ \"at GSFC\", \"at SWRI\", \"at LASP\", \"at UCLA\", \"at IWF\" ] ]\n",
       "HTTP_LINK: [ [ \"http://mms.gsfc.nasa.gov/\", \"http://mms.space.swri.edu/index.html\", \"https://lasp.colorado.edu/mms/sdc\", \"http://www-spc.igpp.ucla.edu/ssc/mms\", \"http://www.iwf.oeaw.ac.at\" ] ]\n",
       "Parents: [ [ \"CDF>mms1_afg_fast_l1a_20190914_v1.7.5\", \"CDF>mms1_afg_slow_l1a_20190914_v1.7.5\", \"CDF>mms1_fields_hk_l1b_10e_20190914_v0.5.5\", \"MMS1_DEFATT_2019256_2019257.V00\", \"MMS1_DEFATT_2019257_2019258.V00\", \"MMS1_DEFEPH_2019256_2019257.V01\", \"MMS1_DEFEPH_2019257_2019258.V01\", \"CDF>mms1_afg_lorangecal_l2pre_20100101_v13.211.0\", \"CDF>mms1_afg_hirangecal_l2pre_20100101_v13.211.0\" ] ]"
      ]
     },
     "execution_count": 5,
     "metadata": {},
     "output_type": "execute_result"
    }
   ],
   "source": [
    "cdf.attributes"
   ]
  },
  {
   "cell_type": "markdown",
   "metadata": {},
   "source": [
    "### Variables"
   ]
  },
  {
   "cell_type": "code",
   "execution_count": 6,
   "metadata": {},
   "outputs": [
    {
     "data": {
      "text/plain": [
       "mms1_fgm_b_gse_srvy_l2:\n",
       "  shape: [ 1244615, 4 ]\n",
       "  type: CDF_REAL4\n",
       "  record varry: True\n",
       "  compression: GNU GZIP\n",
       "\n",
       "  Attributes:\n",
       "    CATDESC: \"Magnetic field vector in Geocentric Solar Ecliptic (GSE) cartesian coordinates plus Btotal (8 or 16 S/s)\"\n",
       "    DEPEND_0: \"Epoch\"\n",
       "    DISPLAY_TYPE: \"time_series\"\n",
       "    FIELDNAM: \"Magnetic field vector in GSE plus Btotal (8 or 16 S/s)\"\n",
       "    FILLVAL: [ [ [ -1e+31 ] ] ]\n",
       "    FORMAT: \"E13.5\"\n",
       "    LABL_PTR_1: \"label_b_gse\"\n",
       "    UNITS: \"nT\"\n",
       "    VALIDMIN: [ [ [ -17000, -17000, -17000, 0 ] ] ]\n",
       "    VALIDMAX: [ [ [ 17000, 17000, 17000, 17000 ] ] ]\n",
       "    VAR_TYPE: \"data\"\n",
       "    SCALETYP: \"linear\"\n",
       "    COORDINATE_SYSTEM: \"GSE\"\n",
       "    SI_CONVERSION: \"1.0e-9>T\"\n",
       "    TENSOR_ORDER: [ [ [ 1 ] ] ]\n",
       "    REPRESENTATION_1: \"represent_vec_tot\""
      ]
     },
     "execution_count": 6,
     "metadata": {},
     "output_type": "execute_result"
    }
   ],
   "source": [
    "zvariable = \"mms1_fgm_b_gse_srvy_l2\"\n",
    "cdf[zvariable]"
   ]
  },
  {
   "cell_type": "markdown",
   "metadata": {},
   "source": [
    "### Variables attributes"
   ]
  },
  {
   "cell_type": "code",
   "execution_count": 7,
   "metadata": {},
   "outputs": [
    {
     "data": {
      "text/plain": [
       "CATDESC: \"Magnetic field vector in Geocentric Solar Ecliptic (GSE) cartesian coordinates plus Btotal (8 or 16 S/s)\"\n",
       "DEPEND_0: \"Epoch\"\n",
       "DISPLAY_TYPE: \"time_series\"\n",
       "FIELDNAM: \"Magnetic field vector in GSE plus Btotal (8 or 16 S/s)\"\n",
       "FILLVAL: [ [ [ -1e+31 ] ] ]\n",
       "FORMAT: \"E13.5\"\n",
       "LABL_PTR_1: \"label_b_gse\"\n",
       "UNITS: \"nT\"\n",
       "VALIDMIN: [ [ [ -17000, -17000, -17000, 0 ] ] ]\n",
       "VALIDMAX: [ [ [ 17000, 17000, 17000, 17000 ] ] ]\n",
       "VAR_TYPE: \"data\"\n",
       "SCALETYP: \"linear\"\n",
       "COORDINATE_SYSTEM: \"GSE\"\n",
       "SI_CONVERSION: \"1.0e-9>T\"\n",
       "TENSOR_ORDER: [ [ [ 1 ] ] ]\n",
       "REPRESENTATION_1: \"represent_vec_tot\""
      ]
     },
     "execution_count": 7,
     "metadata": {},
     "output_type": "execute_result"
    }
   ],
   "source": [
    "cdf[zvariable].attributes"
   ]
  },
  {
   "cell_type": "code",
   "execution_count": 8,
   "metadata": {},
   "outputs": [
    {
     "data": {
      "text/plain": [
       "pycdfpp._pycdfpp.AttributeMap"
      ]
     },
     "execution_count": 8,
     "metadata": {},
     "output_type": "execute_result"
    }
   ],
   "source": [
    "type(cdf[zvariable].attributes)"
   ]
  },
  {
   "cell_type": "code",
   "execution_count": 9,
   "metadata": {},
   "outputs": [
    {
     "data": {
      "text/plain": [
       "TENSOR_ORDER: [ [ [ 1 ] ] ]"
      ]
     },
     "execution_count": 9,
     "metadata": {},
     "output_type": "execute_result"
    }
   ],
   "source": [
    "cdf[zvariable].attributes[\"TENSOR_ORDER\"]"
   ]
  },
  {
   "cell_type": "code",
   "execution_count": 10,
   "metadata": {},
   "outputs": [
    {
     "data": {
      "text/plain": [
       "pycdfpp._pycdfpp.Attribute"
      ]
     },
     "execution_count": 10,
     "metadata": {},
     "output_type": "execute_result"
    }
   ],
   "source": [
    "type(cdf[zvariable].attributes[\"TENSOR_ORDER\"])"
   ]
  },
  {
   "cell_type": "markdown",
   "metadata": {},
   "source": [
    "## PyCDFPP"
   ]
  },
  {
   "cell_type": "markdown",
   "metadata": {},
   "source": [
    "### PyCDFPP supports file names and byte stream"
   ]
  },
  {
   "cell_type": "code",
   "execution_count": 11,
   "metadata": {},
   "outputs": [],
   "source": [
    "import requests"
   ]
  },
  {
   "cell_type": "code",
   "execution_count": 12,
   "metadata": {},
   "outputs": [],
   "source": [
    "themis_cdf_content = requests.get(\n",
    "    \"https://spdf.gsfc.nasa.gov/pub/data/themis/tha/l2/fgm/2016/tha_l2_fgm_20160101_v01.cdf\"\n",
    ").content"
   ]
  },
  {
   "cell_type": "code",
   "execution_count": 13,
   "metadata": {},
   "outputs": [
    {
     "data": {
      "text/plain": [
       "bytes"
      ]
     },
     "execution_count": 13,
     "metadata": {},
     "output_type": "execute_result"
    }
   ],
   "source": [
    "type(themis_cdf_content)"
   ]
  },
  {
   "cell_type": "code",
   "execution_count": 14,
   "metadata": {},
   "outputs": [
    {
     "data": {
      "text/plain": [
       "b'\\xcd\\xf3\\x00\\x01\\x00\\x00\\xff\\xff\\x00\\x00\\x00\\x00\\x00\\x00\\x018\\x00\\x00\\x00\\x01\\x00\\x00\\x00\\x00\\x00\\x00\\x01@\\x00\\x00\\x00\\x03\\x00\\x00\\x00\\x08\\x00\\x00\\x00\\x01\\x00\\x00\\x00\\x03\\x00\\x00\\x00\\x00\\x00\\x00\\x00\\x00\\x00\\x00\\x00\\x00\\xff\\xff\\xff\\xff\\xff\\xff\\xff\\xff\\nCommon Data Format (CDF)\\nhttps://cd'"
      ]
     },
     "execution_count": 14,
     "metadata": {},
     "output_type": "execute_result"
    }
   ],
   "source": [
    "themis_cdf_content[:100]"
   ]
  },
  {
   "cell_type": "code",
   "execution_count": 15,
   "metadata": {},
   "outputs": [
    {
     "data": {
      "text/plain": [
       "CDF:\n",
       "  version: 3.8.0\n",
       "  majority: row\n",
       "  compression: None\n",
       "\n",
       "Attributes:\n",
       "  Project: \"THEMIS\"\n",
       "  Source_name: \"THA>Themis Probe A\"\n",
       "  Discipline: \"Space Physics>Magnetospheric Science\"\n",
       "  Data_type: \"FGM\"\n",
       "  Descriptor: \"L2>L2 DATA\"\n",
       "  Data_version: \"1\"\n",
       "  PI_name: \"V. Angelopoulos, U. Auster & K.H. Glassmeier and W. Baumjohann\"\n",
       "  PI_affiliation: \"UCB, TUBS and IWF respectively, NASA NAS5-02099\"\n",
       "  TITLE: \"Fluxgate Magnetometer Measurements\"\n",
       "  TEXT: \"Sensor and electronics design provided by TUBS (Glassmeier, Auster) and IWF (Baumjohann, Magnes)\"\n",
       "  Instrument_type: \"Magnetic Fields (space)\"\n",
       "  Mission_group: \"THEMIS\"\n",
       "  Logical_source: \"tha_l2_fgm\"\n",
       "  Logical_file_id: \"tha_l2_fgm_20160101_v01\"\n",
       "  Logical_source_description: \"Spacecraft-collected fluxgate magnetometer, Decimated TeleMetry High, DSL, GSE and GSM coordinates\"\n",
       "  Time_resolution: \"1/4-1/128s\"\n",
       "  Rules_of_use: \"Open Data for Scientific Use\"\n",
       "  Generated_by: \"THEMIS SOC\"\n",
       "  Generation_date: \"Tue Aug 22 10:49:28 2023\"\n",
       "  Acknowledgement: \"NASA Contract NAS5-02099\"\n",
       "  MODS: \"Rev- 2006-09-18\"\n",
       "  ADID_ref: \"NSSD0110\"\n",
       "  LINK_TEXT: [ [ \"THEMIS FGM \", \"Higher resolution data and analysis s/w from \", \"Detailed description of the \" ] ]\n",
       "  LINK_TITLE: [ [ \"Processing History\", \"THEMIS mission website\", \"FGM instrument\" ] ]\n",
       "  HTTP_LINK: [ [ \"http://themis.ssl.berkeley.edu/fgm_proc_history.shtml\", \"http://themis.ssl.berkeley.edu/\", \"http://themis.ssl.berkeley.edu/instrument_fgm.shtml\" ] ]\n",
       "  File_naming_convention: \"source_descriptor_datatype\"\n",
       "  Caveats: \"See THEMIS website for caveats\"\n",
       "  Validity: \"to be validated\"\n",
       "  Validator: \"tbd\"\n",
       "  Validate: \"Compatible with the ISTP CDF Standards\"\n",
       "  Inst_mod: \"THM>xxxx\"\n",
       "  Parents: \"xxxx\"\n",
       "  Inst_settings: \"Not used\"\n",
       "  Software_version: \"31980\"\n",
       "\n",
       "Variables:\n",
       "  tha_fgm_fgs_quality: [ 29892 ], [CDF_INT1], record varry:True, compression: GNU GZIP\n",
       "  tha_fgm_fgl_quality: [ 944128 ], [CDF_INT1], record varry:True, compression: GNU GZIP\n",
       "  tha_fgm_fgh_quality: [ 536576 ], [CDF_INT1], record varry:True, compression: GNU GZIP\n",
       "  tha_fgm_fge_quality: [ 63872 ], [CDF_INT1], record varry:True, compression: GNU GZIP\n",
       "  tha_fgs_btotalQ: [ 0 ], [CDF_FLOAT], record varry:True, compression: GNU GZIP\n",
       "  tha_fgs_btotal: [ 29892 ], [CDF_FLOAT], record varry:True, compression: GNU GZIP\n",
       "  tha_fgs_gseQ: [ 0, 3 ], [CDF_FLOAT], record varry:True, compression: GNU GZIP\n",
       "  tha_fgs_gse: [ 29892, 3 ], [CDF_FLOAT], record varry:True, compression: GNU GZIP\n",
       "  tha_fgs_gsmQ: [ 0, 3 ], [CDF_FLOAT], record varry:True, compression: GNU GZIP\n",
       "  tha_fgs_gsm: [ 29892, 3 ], [CDF_FLOAT], record varry:True, compression: GNU GZIP\n",
       "  tha_fgs_dslQ: [ 0, 3 ], [CDF_FLOAT], record varry:True, compression: GNU GZIP\n",
       "  tha_fgs_dsl: [ 29892, 3 ], [CDF_FLOAT], record varry:True, compression: GNU GZIP\n",
       "  tha_fgs_compno: [ 1, 3 ], [CDF_INT1], record varry:Flase, compression: None\n",
       "  tha_fgs_time: [ 29892 ], [CDF_DOUBLE], record varry:True, compression: GNU GZIP\n",
       "  tha_fgs_epoch0: [ 1 ], [CDF_EPOCH], record varry:Flase, compression: None\n",
       "  tha_fgs_epoch: [ 0 ], [CDF_EPOCH], record varry:True, compression: None\n",
       "  tha_fgl_btotalQ: [ 0 ], [CDF_FLOAT], record varry:True, compression: GNU GZIP\n",
       "  tha_fgl_btotal: [ 944128 ], [CDF_FLOAT], record varry:True, compression: GNU GZIP\n",
       "  tha_fgl_gseQ: [ 0, 3 ], [CDF_FLOAT], record varry:True, compression: GNU GZIP\n",
       "  tha_fgl_gse: [ 944128, 3 ], [CDF_FLOAT], record varry:True, compression: GNU GZIP\n",
       "  tha_fgl_gsmQ: [ 0, 3 ], [CDF_FLOAT], record varry:True, compression: GNU GZIP\n",
       "  tha_fgl_gsm: [ 944128, 3 ], [CDF_FLOAT], record varry:True, compression: GNU GZIP\n",
       "  tha_fgl_dslQ: [ 0, 3 ], [CDF_FLOAT], record varry:True, compression: GNU GZIP\n",
       "  tha_fgl_dsl: [ 944128, 3 ], [CDF_FLOAT], record varry:True, compression: GNU GZIP\n",
       "  tha_fgl_sslQ: [ 0, 3 ], [CDF_FLOAT], record varry:True, compression: GNU GZIP\n",
       "  tha_fgl_ssl: [ 944128, 3 ], [CDF_FLOAT], record varry:True, compression: GNU GZIP\n",
       "  tha_fgl_compno: [ 1, 3 ], [CDF_INT1], record varry:Flase, compression: None\n",
       "  tha_fgl_time: [ 944128 ], [CDF_DOUBLE], record varry:True, compression: GNU GZIP\n",
       "  tha_fgl_epoch0: [ 1 ], [CDF_EPOCH], record varry:Flase, compression: None\n",
       "  tha_fgl_epoch16: [ 0 ], [CDF_EPOCH16], record varry:True, compression: None\n",
       "  tha_fgh_btotalQ: [ 0 ], [CDF_FLOAT], record varry:True, compression: GNU GZIP\n",
       "  tha_fgh_btotal: [ 536576 ], [CDF_FLOAT], record varry:True, compression: GNU GZIP\n",
       "  tha_fgh_gseQ: [ 0, 3 ], [CDF_FLOAT], record varry:True, compression: GNU GZIP\n",
       "  tha_fgh_gse: [ 536576, 3 ], [CDF_FLOAT], record varry:True, compression: GNU GZIP\n",
       "  tha_fgh_gsmQ: [ 0, 3 ], [CDF_FLOAT], record varry:True, compression: GNU GZIP\n",
       "  tha_fgh_gsm: [ 536576, 3 ], [CDF_FLOAT], record varry:True, compression: GNU GZIP\n",
       "  tha_fgh_dslQ: [ 0, 3 ], [CDF_FLOAT], record varry:True, compression: GNU GZIP\n",
       "  tha_fgh_dsl: [ 536576, 3 ], [CDF_FLOAT], record varry:True, compression: GNU GZIP\n",
       "  tha_fgh_sslQ: [ 0, 3 ], [CDF_FLOAT], record varry:True, compression: GNU GZIP\n",
       "  tha_fgh_ssl: [ 536576, 3 ], [CDF_FLOAT], record varry:True, compression: GNU GZIP\n",
       "  tha_fgh_compno: [ 1, 3 ], [CDF_INT1], record varry:Flase, compression: None\n",
       "  tha_fgh_time: [ 536576 ], [CDF_DOUBLE], record varry:True, compression: GNU GZIP\n",
       "  tha_fgh_epoch0: [ 1 ], [CDF_EPOCH], record varry:Flase, compression: None\n",
       "  tha_fgh_epoch16: [ 0 ], [CDF_EPOCH16], record varry:True, compression: None\n",
       "  tha_fge_btotalQ: [ 0 ], [CDF_FLOAT], record varry:True, compression: GNU GZIP\n",
       "  tha_fge_btotal: [ 63872 ], [CDF_FLOAT], record varry:True, compression: GNU GZIP\n",
       "  tha_fge_gseQ: [ 0, 3 ], [CDF_FLOAT], record varry:True, compression: GNU GZIP\n",
       "  tha_fge_gse: [ 63872, 3 ], [CDF_FLOAT], record varry:True, compression: GNU GZIP\n",
       "  tha_fge_gsmQ: [ 0, 3 ], [CDF_FLOAT], record varry:True, compression: GNU GZIP\n",
       "  tha_fge_gsm: [ 63872, 3 ], [CDF_FLOAT], record varry:True, compression: GNU GZIP\n",
       "  tha_fge_dslQ: [ 0, 3 ], [CDF_FLOAT], record varry:True, compression: GNU GZIP\n",
       "  tha_fge_dsl: [ 63872, 3 ], [CDF_FLOAT], record varry:True, compression: GNU GZIP\n",
       "  tha_fge_sslQ: [ 0, 3 ], [CDF_FLOAT], record varry:True, compression: GNU GZIP\n",
       "  tha_fge_ssl: [ 63872, 3 ], [CDF_FLOAT], record varry:True, compression: GNU GZIP\n",
       "  tha_fge_compno: [ 1, 3 ], [CDF_INT1], record varry:Flase, compression: None\n",
       "  tha_fge_labl: [ 1, 3, 8 ], [CDF_CHAR], record varry:Flase, compression: None\n",
       "  tha_fge_time: [ 63872 ], [CDF_DOUBLE], record varry:True, compression: GNU GZIP\n",
       "  tha_fge_epoch0: [ 1 ], [CDF_EPOCH], record varry:Flase, compression: None\n",
       "  tha_fge_epoch16: [ 0 ], [CDF_EPOCH16], record varry:True, compression: None\n",
       "  Rep_xyz: [ 1, 3, 1 ], [CDF_CHAR], record varry:Flase, compression: None\n",
       "  range_epoch: [ 2 ], [CDF_EPOCH], record varry:True, compression: None\n",
       "  tha_fgl_labl: [ 1, 3, 8 ], [CDF_CHAR], record varry:Flase, compression: None\n",
       "  tha_fgh_labl: [ 1, 3, 8 ], [CDF_CHAR], record varry:Flase, compression: None\n",
       "  tha_fgs_labl: [ 1, 3, 8 ], [CDF_CHAR], record varry:Flase, compression: None\n"
      ]
     },
     "execution_count": 15,
     "metadata": {},
     "output_type": "execute_result"
    }
   ],
   "source": [
    "themis_cdf = pycdfpp.load(themis_cdf_content)\n",
    "themis_cdf"
   ]
  },
  {
   "cell_type": "markdown",
   "metadata": {},
   "source": [
    "## PyCDFPP zVariables values are in numpy.ndarray"
   ]
  },
  {
   "cell_type": "code",
   "execution_count": 16,
   "metadata": {
    "scrolled": true
   },
   "outputs": [
    {
     "data": {
      "text/plain": [
       "array([[-1.52942822e+03, -1.55773682e+03,  7.16686182e+03,\n",
       "         7.49196924e+03],\n",
       "       [-1.53003918e+03, -1.55756970e+03,  7.16635791e+03,\n",
       "         7.49157666e+03],\n",
       "       [-1.53064270e+03, -1.55738599e+03,  7.16582275e+03,\n",
       "         7.49115039e+03],\n",
       "       ...,\n",
       "       [ 1.48616123e+01, -7.14207983e+00, -4.19276178e-01,\n",
       "         1.64940166e+01],\n",
       "       [ 1.48605795e+01, -7.15654135e+00, -4.25224960e-01,\n",
       "         1.64995060e+01],\n",
       "       [ 1.48555517e+01, -7.14239359e+00, -4.20699000e-01,\n",
       "         1.64887295e+01]], dtype=float32)"
      ]
     },
     "execution_count": 16,
     "metadata": {},
     "output_type": "execute_result"
    }
   ],
   "source": [
    "cdf[zvariable].values"
   ]
  },
  {
   "cell_type": "code",
   "execution_count": 17,
   "metadata": {
    "scrolled": true
   },
   "outputs": [],
   "source": [
    "import numpy as np"
   ]
  },
  {
   "cell_type": "code",
   "execution_count": 18,
   "metadata": {},
   "outputs": [
    {
     "data": {
      "text/plain": [
       "array([7491.969   , 7491.577   , 7491.1504  , ...,   16.494017,\n",
       "         16.499508,   16.48873 ], dtype=float32)"
      ]
     },
     "execution_count": 18,
     "metadata": {},
     "output_type": "execute_result"
    }
   ],
   "source": [
    "np.linalg.norm(cdf[zvariable].values[:, :3], axis=1)"
   ]
  },
  {
   "cell_type": "markdown",
   "metadata": {},
   "source": [
    "### PyCDFPP Variables can be plotted"
   ]
  },
  {
   "cell_type": "code",
   "execution_count": 19,
   "metadata": {},
   "outputs": [],
   "source": [
    "%matplotlib widget\n",
    "import matplotlib.pyplot as plt"
   ]
  },
  {
   "cell_type": "code",
   "execution_count": 20,
   "metadata": {},
   "outputs": [
    {
     "data": {
      "text/plain": [
       "[<matplotlib.lines.Line2D at 0x1234368d0>,\n",
       " <matplotlib.lines.Line2D at 0x123452150>,\n",
       " <matplotlib.lines.Line2D at 0x1234524d0>,\n",
       " <matplotlib.lines.Line2D at 0x1234526d0>]"
      ]
     },
     "execution_count": 20,
     "metadata": {},
     "output_type": "execute_result"
    },
    {
     "data": {
      "application/vnd.jupyter.widget-view+json": {
       "model_id": "b5829f49ee3b454c9705d5af9077577e",
       "version_major": 2,
       "version_minor": 0
      },
      "image/png": "[encoded data removed]",
      "text/html": [
       "\n",
       "            <div style=\"display: inline-block;\">\n",
       "                <div class=\"jupyter-widgets widget-label\" style=\"text-align: center;\">\n",
       "                    Figure\n",
       "                </div>\n",
       "                <img src='data:image/png;base64,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' width=640.0/>\n",
       "            </div>\n",
       "        "
      ],
      "text/plain": [
       "Canvas(toolbar=Toolbar(toolitems=[('Home', 'Reset original view', 'home', 'home'), ('Back', 'Back to previous …"
      ]
     },
     "metadata": {},
     "output_type": "display_data"
    }
   ],
   "source": [
    "f, ax = plt.subplots(1)\n",
    "ax.plot(cdf[zvariable])"
   ]
  },
  {
   "cell_type": "markdown",
   "metadata": {},
   "source": [
    "### but time stays in EPOCH format"
   ]
  },
  {
   "cell_type": "markdown",
   "metadata": {},
   "source": [
    "## Epoch format can be convert to datetime and numpy.datetime64 (faster) ~2ns/element"
   ]
  },
  {
   "cell_type": "code",
   "execution_count": 21,
   "metadata": {},
   "outputs": [],
   "source": [
    "epoch_dt64 = pycdfpp.to_datetime64(cdf[\"Epoch\"])"
   ]
  },
  {
   "cell_type": "code",
   "execution_count": 22,
   "metadata": {},
   "outputs": [
    {
     "data": {
      "text/plain": [
       "array(['2019-09-14T00:00:07.573877213', '2019-09-14T00:00:07.698878838',\n",
       "       '2019-09-14T00:00:07.823880463', ...,\n",
       "       '2019-09-15T00:00:01.015255246', '2019-09-15T00:00:01.077756064',\n",
       "       '2019-09-15T00:00:01.140256882'], dtype='datetime64[ns]')"
      ]
     },
     "execution_count": 22,
     "metadata": {},
     "output_type": "execute_result"
    }
   ],
   "source": [
    "epoch_dt64"
   ]
  },
  {
   "cell_type": "code",
   "execution_count": 23,
   "metadata": {},
   "outputs": [
    {
     "data": {
      "text/plain": [
       "[<matplotlib.lines.Line2D at 0x10b64f5d0>,\n",
       " <matplotlib.lines.Line2D at 0x12349c6d0>,\n",
       " <matplotlib.lines.Line2D at 0x1234f8790>,\n",
       " <matplotlib.lines.Line2D at 0x1234f8710>]"
      ]
     },
     "execution_count": 23,
     "metadata": {},
     "output_type": "execute_result"
    },
    {
     "data": {
      "application/vnd.jupyter.widget-view+json": {
       "model_id": "09e68f777f6f45b6aa71050cd9dbf4b1",
       "version_major": 2,
       "version_minor": 0
      },
      "image/png": "[encoded data removed]",
      "text/html": [
       "\n",
       "            <div style=\"display: inline-block;\">\n",
       "                <div class=\"jupyter-widgets widget-label\" style=\"text-align: center;\">\n",
       "                    Figure\n",
       "                </div>\n",
       "                <img src='data:image/png;base64,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' width=640.0/>\n",
       "            </div>\n",
       "        "
      ],
      "text/plain": [
       "Canvas(toolbar=Toolbar(toolitems=[('Home', 'Reset original view', 'home', 'home'), ('Back', 'Back to previous …"
      ]
     },
     "metadata": {},
     "output_type": "display_data"
    }
   ],
   "source": [
    "f, ax = plt.subplots(1)\n",
    "ax.plot(epoch_dt64, cdf[zvariable])"
   ]
  }
 ],
 "metadata": {
  "kernelspec": {
   "display_name": "Python 3 (ipykernel)",
   "language": "python",
   "name": "python3"
  },
  "language_info": {
   "codemirror_mode": {
    "name": "ipython",
    "version": 3
   },
   "file_extension": ".py",
   "mimetype": "text/x-python",
   "name": "python",
   "nbconvert_exporter": "python",
   "pygments_lexer": "ipython3",
   "version": "3.11.8"
  }
 },
 "nbformat": 4,
 "nbformat_minor": 4
}
