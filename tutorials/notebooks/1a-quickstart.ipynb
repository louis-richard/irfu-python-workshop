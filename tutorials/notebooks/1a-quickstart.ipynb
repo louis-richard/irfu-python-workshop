{
 "cells": [
  {
   "cell_type": "markdown",
   "id": "7cd734b7-a95e-45e9-bb66-78e50bc69277",
   "metadata": {},
   "source": [
    "# IRF - Uppsala Python Workshop: Snakes in Space 🐍\n",
    "author: Louis Richard\n",
    "e-mail: louisr@irfu.se\n",
    "date: 29/02/2024"
   ]
  },
  {
   "cell_type": "markdown",
   "id": "12036d17-23be-4cfd-b388-a12eb5dcc663",
   "metadata": {},
   "source": [
    "## Quickstart:\n",
    "- How to import packages?\n",
    "- Name variable, name reference\n",
    "- Data structures: lists, dictionaries, tuples\n",
    "- Lists and dictionaries in comprehension\n",
    "- Generators\n",
    "- lambdas\n",
    "- maps and filters\n",
    "- exceptions"
   ]
  },
  {
   "cell_type": "markdown",
   "id": "1eba1b27-f7de-44a4-a42b-26b0009499cc",
   "metadata": {},
   "source": [
    "## How to import packages?"
   ]
  },
  {
   "cell_type": "code",
   "execution_count": null,
   "id": "448979fe-46b4-4f22-b99b-eb0cb02ad45d",
   "metadata": {},
   "outputs": [],
   "source": [
    "import os, glob\n",
    "# os.getenv(\"USER\")\n",
    "# os.getcwd()\n",
    "# glob.glob(os.path.expanduser(\"~/Desktop/*.pdf\"))"
   ]
  },
  {
   "cell_type": "markdown",
   "id": "7d708377-9d16-4480-b32c-1d23108ea690",
   "metadata": {},
   "source": [
    "### To import a specific function or (sub-)module from a package"
   ]
  },
  {
   "cell_type": "code",
   "execution_count": null,
   "id": "0f011f7c-44cb-4c6f-a1b3-2929becd5acc",
   "metadata": {},
   "outputs": [],
   "source": [
    "from scipy.signal import lombscargle\n",
    "from scipy.io import loadmat"
   ]
  },
  {
   "cell_type": "markdown",
   "id": "0290dbd5-796f-42f5-a45f-295de560d3b9",
   "metadata": {},
   "source": [
    "## Name variable, name reference"
   ]
  },
  {
   "cell_type": "code",
   "execution_count": null,
   "id": "7d74b94e-e780-4ed2-b19c-c8376ab0f500",
   "metadata": {},
   "outputs": [],
   "source": [
    "a = 10\n",
    "b = 2"
   ]
  },
  {
   "cell_type": "code",
   "execution_count": null,
   "id": "eed42026-1352-4ce6-86a9-e075df176153",
   "metadata": {},
   "outputs": [],
   "source": [
    "print(a, b)  # print is a function"
   ]
  },
  {
   "cell_type": "code",
   "execution_count": null,
   "id": "5cff45dd-eb35-4afa-837c-9de71ca4038a",
   "metadata": {},
   "outputs": [],
   "source": [
    "a, b = 10, 2  # Simultaneous assignment"
   ]
  },
  {
   "cell_type": "code",
   "execution_count": null,
   "id": "2b2fd6d5-6b95-4b28-a99e-97e481fd135a",
   "metadata": {},
   "outputs": [],
   "source": [
    "a, b = b, a # What happens here?\n",
    "print(a, b)"
   ]
  },
  {
   "cell_type": "markdown",
   "id": "ebcedb40-8ea0-4046-b04c-17356d212bd4",
   "metadata": {},
   "source": [
    "## Functions\n",
    "`def` to define a function.  Note; python forces you to use consistent indentation."
   ]
  },
  {
   "cell_type": "code",
   "execution_count": null,
   "id": "44192c93-823c-4b64-84c2-d9b340fed595",
   "metadata": {},
   "outputs": [],
   "source": [
    "# A function definition:\n",
    "def something():\n",
    "    \"\"\"Functions should be documented\"\"\"\n",
    "    return False"
   ]
  },
  {
   "cell_type": "code",
   "execution_count": null,
   "id": "e2b227be-f108-4030-8eb2-ea55096b0af7",
   "metadata": {},
   "outputs": [],
   "source": [
    "# Call it:\n",
    "print(something())\n",
    "\n",
    "# Everything is object in python.  Attributes, methods accessed with '.'\n",
    "print(something.__doc__)"
   ]
  },
  {
   "cell_type": "markdown",
   "id": "555f1fbe-04d8-4e87-be7e-7b417b343796",
   "metadata": {},
   "source": [
    "## Flow control\n",
    "If, else, ... etc."
   ]
  },
  {
   "cell_type": "code",
   "execution_count": null,
   "id": "bc4de26a-79ee-4287-8e4b-ad63d8147a81",
   "metadata": {},
   "outputs": [],
   "source": [
    "swarm, mms, juice = 3, 4, 1\n",
    "\n",
    "# if, elif, else\n",
    "if swarm > mms:\n",
    "    print('\"Swarm\" of three') # Quotes for strings can be mixed easily\n",
    "elif mms > juice:\n",
    "    print(\"Too many sensors\")\n",
    "else:\n",
    "    print(\"Nope\")\n",
    "\n",
    "# Python >3.10 also has a `match ... case` switch thing as well.  "
   ]
  },
  {
   "cell_type": "code",
   "execution_count": null,
   "id": "32011b4f-1519-4d22-ab30-f868bd485019",
   "metadata": {},
   "outputs": [],
   "source": [
    "# for ... in, loop. Tightly connected to iterators, generators ... (later)\n",
    "for i in range(10):\n",
    "    print(i)\n",
    "\n",
    "for c in \"irfu\":\n",
    "    print(c)"
   ]
  },
  {
   "cell_type": "markdown",
   "id": "3d5eae4a-89dc-47da-9bd6-ebc4fca39006",
   "metadata": {},
   "source": [
    "---\n",
    "## Lists, dictionaries, tuples, and sets"
   ]
  },
  {
   "cell_type": "markdown",
   "id": "2c80a8d1-04dc-400e-b892-f8f6cff8fd71",
   "metadata": {},
   "source": [
    "### Lists\n",
    "Lists in python are linked lists of items.  Anything can be put into a list.  They are _not_ arrays, matrices or anything of the sort."
   ]
  },
  {
   "cell_type": "code",
   "execution_count": null,
   "id": "4e50e987-a721-493d-bb7c-52a3c352a5fc",
   "metadata": {},
   "outputs": [],
   "source": [
    "a_variable = 42\n",
    "a_list = [None, a_variable, \"Everything\", 0xDEADBEEF, [\"fido\", \"scooby\", \"laika\"], something] \n",
    "phd_students = [\"Louis\", \"Ahmad\", \"Ida\", \"Jordi\", \"Konstantin\"]"
   ]
  },
  {
   "cell_type": "code",
   "execution_count": null,
   "id": "eb87ad6d-43e0-479b-b18f-f707328b9224",
   "metadata": {},
   "outputs": [],
   "source": [
    "a_new_list = [1, phd_students, 1e6, False, *a_list]\n",
    "\n",
    "for i, element in enumerate(a_new_list):\n",
    "    print(f\"a_new_list {i}th element ({element}) is a {type(element)}\")  # So-called \"f-strings\" are very helpful!"
   ]
  },
  {
   "cell_type": "markdown",
   "id": "f7d637d9-79db-47c0-815d-89857c95f79a",
   "metadata": {},
   "source": [
    "#### Index start at 0, not 1"
   ]
  },
  {
   "cell_type": "code",
   "execution_count": null,
   "id": "5748519a-c74f-4b8d-b460-ac4d36aced07",
   "metadata": {},
   "outputs": [],
   "source": [
    "print(f\"The 'oldest' PhD student is {phd_students[0]}\")"
   ]
  },
  {
   "cell_type": "markdown",
   "id": "106d4a46-9a3f-43c3-a8a8-764ab290497e",
   "metadata": {},
   "source": [
    "#### Remove elements from lists"
   ]
  },
  {
   "cell_type": "code",
   "execution_count": null,
   "id": "b686c715-faf1-41a6-b389-79c613d118a4",
   "metadata": {},
   "outputs": [],
   "source": [
    "phd_students = [\"Louis\", \"Ahmad\", \"Ida\", \"Jordi\", \"Konstantin\"]\n",
    "print(f\"There are {len(phd_students)} phd students\")\n",
    "fired = phd_students.pop(0)\n",
    "print(f\"Goodbye {fired:s}!!\")\n",
    "print(f\"There are {len(phd_students)} phd students\")"
   ]
  },
  {
   "cell_type": "markdown",
   "id": "c9a97285-fc6f-485d-b9e0-6a4f7cfb43e5",
   "metadata": {},
   "source": [
    "#### Concatenate lists"
   ]
  },
  {
   "cell_type": "code",
   "execution_count": null,
   "id": "7015788b-0a32-4e04-bb5a-e1afc1d1b2d2",
   "metadata": {},
   "outputs": [],
   "source": [
    "phd_students = [\"Louis\", \"Ahmad\", \"Ida\", \"Jordi\", \"Konstantin\"]\n",
    "phd_students + [\"Jack\"]"
   ]
  },
  {
   "cell_type": "markdown",
   "id": "74ead1eb-f3b2-4ad6-bc44-5fa4120098b1",
   "metadata": {},
   "source": [
    "or"
   ]
  },
  {
   "cell_type": "code",
   "execution_count": null,
   "id": "d4b32464-0bd5-4a68-a562-d63ba52fdd31",
   "metadata": {},
   "outputs": [],
   "source": [
    "[*phd_students, \"Jack\"]"
   ]
  },
  {
   "cell_type": "code",
   "execution_count": null,
   "id": "cfe2ce66-0ae5-47ef-88ca-84d3fde0d1b4",
   "metadata": {},
   "outputs": [],
   "source": [
    "phd_students.append(\"Jack\")\n",
    "phd_students.extend(['No \"Name\"', \"Another new 'victim'\"])  # Nested quotes\n",
    "print(phd_students)\n",
    "print(\"Jack\" in phd_students) # Test membership"
   ]
  },
  {
   "cell_type": "markdown",
   "id": "dbade43a-1678-4d7b-a190-2187e38bcab2",
   "metadata": {},
   "source": [
    "#### Lists allow negative indices to access the last elements"
   ]
  },
  {
   "cell_type": "code",
   "execution_count": null,
   "id": "42d84f43-6db0-4d08-881b-322fe80e7f76",
   "metadata": {},
   "outputs": [],
   "source": [
    "f\"Welcome, {phd_students[-1]}!!\""
   ]
  },
  {
   "cell_type": "markdown",
   "id": "a316874e-cbb0-4dc5-8d3a-f5a6b79fc8ef",
   "metadata": {},
   "source": [
    "### Tuples"
   ]
  },
  {
   "cell_type": "markdown",
   "id": "22e21441-1979-4e19-8907-4cf4662fbbef",
   "metadata": {},
   "source": [
    "Tuples are immutable objects that can contain stuff."
   ]
  },
  {
   "cell_type": "code",
   "execution_count": null,
   "id": "5b7beb3f-9af9-4b7b-8270-9fbbed0effdf",
   "metadata": {
    "scrolled": true
   },
   "outputs": [],
   "source": [
    "a_tuple = (1,2,3,4.123123)"
   ]
  },
  {
   "cell_type": "markdown",
   "id": "c7028b4d-ca3f-4f69-8e20-76d3929159ac",
   "metadata": {},
   "source": [
    "or "
   ]
  },
  {
   "cell_type": "code",
   "execution_count": null,
   "id": "eca7227a-325e-49d9-93aa-267dd5159f71",
   "metadata": {},
   "outputs": [],
   "source": [
    "phd_students_tpl = tuple(phd_students)\n",
    "phd_students_tpl"
   ]
  },
  {
   "cell_type": "markdown",
   "id": "318a4626-da37-42c6-bd4a-8cbf1b3fadde",
   "metadata": {},
   "source": [
    "Immutable means, \"cannot be changed\":"
   ]
  },
  {
   "cell_type": "code",
   "execution_count": null,
   "id": "c3eede79-d7a8-48c6-adca-7be578313cec",
   "metadata": {
    "scrolled": true
   },
   "outputs": [],
   "source": [
    "phd_students_tpl[-2] = \"Kim\""
   ]
  },
  {
   "cell_type": "markdown",
   "id": "efe4ac43-5003-419e-bff1-d396a981505e",
   "metadata": {},
   "source": [
    "### Dictionaries\n",
    "Dictionaries are a map between unique \"keys\" and \"values\".  Powerful concept, to organize data.  In python, _most_ things can be keys, and anything can be a value."
   ]
  },
  {
   "cell_type": "code",
   "execution_count": null,
   "id": "67917460-6849-4d6f-96ab-485cc95b0819",
   "metadata": {},
   "outputs": [],
   "source": [
    "a_dict = {None:None, 42:\"Everything\", 0xDEADBEEF:\"MEAT\", \"dog\":\"cat\", \"various_dogs\":[\"fido\", \"scooby\", \"laika\"]}"
   ]
  },
  {
   "cell_type": "code",
   "execution_count": null,
   "id": "9fa59f86-a2a2-49a2-974c-9c040ce84ab2",
   "metadata": {},
   "outputs": [],
   "source": [
    "phd_students_supervisor = {\"Ahmad\": \"Yuri\", \"Ida\": \"Emiliya\", \"Jordi\": \"Daniel\", \"Konstantin\": \"Niklas\", \"Jack\": \"Yuri\"}"
   ]
  },
  {
   "cell_type": "markdown",
   "id": "b80697fb-c55a-4990-ae4f-dd680ed4dd3a",
   "metadata": {},
   "source": [
    "or (with exactly the same result):"
   ]
  },
  {
   "cell_type": "code",
   "execution_count": null,
   "id": "861bcf68-fc69-4e85-82d0-c64ac0b97117",
   "metadata": {},
   "outputs": [],
   "source": [
    "phd_students_supervisor = dict(Ahmad=\"Yuri\", Ida=\"Emiliya\", Jordi=\"Daniel\", Konstantin=\"Niklas\", Jack=\"Yuri\")"
   ]
  },
  {
   "cell_type": "markdown",
   "id": "02f3274f-3559-410a-ad66-44dbadaf83be",
   "metadata": {},
   "source": [
    "Dictionaries are indexed by keys"
   ]
  },
  {
   "cell_type": "code",
   "execution_count": null,
   "id": "4ff56819-36bf-428b-8401-e1d3a73a0c20",
   "metadata": {},
   "outputs": [],
   "source": [
    "phd_students_supervisor[\"Ida\"]"
   ]
  },
  {
   "cell_type": "code",
   "execution_count": null,
   "id": "d3afced1-0737-49f4-9387-91f20234dc85",
   "metadata": {},
   "outputs": [],
   "source": [
    "# Let's count:\n",
    "phd_students = [\"Louis\", \"Ahmad\", \"Ida\", \"Jordi\", \"Konstantin\", \"Jack\"]\n",
    "phd_students_supervisor = dict(Ahmad=\"Yuri\", Ida=\"Emiliya\", Jordi=\"Daniel\", Konstantin=\"Niklas\", Jack=\"Yuri\")\n",
    "\n",
    "all_supervisors = set(list(phd_students_supervisor.values()))\n",
    "print(all_supervisors)\n",
    "counters = {s:0 for s in all_supervisors} \n",
    "for s in phd_students:\n",
    "    counters[s] += 1\n",
    "\n",
    "print(counters)"
   ]
  },
  {
   "cell_type": "markdown",
   "id": "c654d407-7981-4c53-883a-eab779f19fba",
   "metadata": {},
   "source": [
    "#### To get the keys and values"
   ]
  },
  {
   "cell_type": "code",
   "execution_count": null,
   "id": "e21265e1-f817-4e48-9432-9bf9f04f3280",
   "metadata": {},
   "outputs": [],
   "source": [
    "phd_students_supervisor.keys()"
   ]
  },
  {
   "cell_type": "code",
   "execution_count": null,
   "id": "689bacfa-8636-44b7-a941-cef210f0082f",
   "metadata": {},
   "outputs": [],
   "source": [
    "phd_students_supervisor.values()"
   ]
  },
  {
   "cell_type": "code",
   "execution_count": null,
   "id": "5f6de050-d8d9-4e98-a773-9626fa7be575",
   "metadata": {},
   "outputs": [],
   "source": [
    "phd_students_supervisor.items()"
   ]
  },
  {
   "cell_type": "code",
   "execution_count": null,
   "id": "b4970db9-e7fc-4d3b-8f30-018e572e626b",
   "metadata": {
    "scrolled": true
   },
   "outputs": [],
   "source": [
    "for student, supervisor in phd_students_supervisor.items():\n",
    "    print(f\"{student:s}'s supervisor is {supervisor:s}\")  # f-strings"
   ]
  },
  {
   "cell_type": "markdown",
   "id": "69d54b92-d671-4ed9-8abe-d514137844a7",
   "metadata": {},
   "source": [
    "## Lists and dictionary comprehensions"
   ]
  },
  {
   "cell_type": "markdown",
   "id": "360da6b3-5d56-424d-b4e8-26713f55ce1f",
   "metadata": {},
   "source": [
    "Lists can be created iteratively"
   ]
  },
  {
   "cell_type": "code",
   "execution_count": null,
   "id": "07f1ed62-515d-4a08-a573-b39b7d8c2306",
   "metadata": {},
   "outputs": [],
   "source": [
    "phd_students_lower = []\n",
    "for student in phd_students:\n",
    "    phd_students_lower.append(student.lower())\n",
    "\n",
    "phd_students_lower"
   ]
  },
  {
   "cell_type": "markdown",
   "id": "0d262911-11c9-4e0c-968d-6f2aef8afda7",
   "metadata": {},
   "source": [
    "or in a single line called, using \"list comprehensions\""
   ]
  },
  {
   "cell_type": "code",
   "execution_count": null,
   "id": "9857213a-7558-4aa1-a32b-365bc382a88c",
   "metadata": {},
   "outputs": [],
   "source": [
    "[student.lower() for student in phd_students]"
   ]
  },
  {
   "cell_type": "markdown",
   "id": "1557a608-ebcb-4264-85df-9859ba21bc2f",
   "metadata": {},
   "source": [
    "Same applies to dictionaries"
   ]
  },
  {
   "cell_type": "code",
   "execution_count": null,
   "id": "7baa71bc-27d7-4a8b-b2e5-b1b65aed581a",
   "metadata": {},
   "outputs": [],
   "source": [
    "{student: supervisor for student, supervisor in zip(phd_students, phd_supervisors)}"
   ]
  },
  {
   "cell_type": "markdown",
   "id": "9cafaf97-7669-4903-b61a-451b2e99f6d3",
   "metadata": {},
   "source": [
    "But not tuples"
   ]
  },
  {
   "cell_type": "code",
   "execution_count": null,
   "id": "6cb160a7-9b4b-4005-9e16-681bb911cdef",
   "metadata": {},
   "outputs": [],
   "source": [
    "(student.lower() for student in phd_students)"
   ]
  },
  {
   "cell_type": "markdown",
   "id": "8ac24ae5-f4e8-4bce-b2e2-7e4358e42d24",
   "metadata": {},
   "source": [
    "## Classes, Packages, .py files\n",
    "In the repo there is a module defined, irfu library.  Python knows it's a library as it includes a specially named file, `__init__.py`.  In this simple example, we could also have just written everything in `irfu_library/` into a single file and called it `irfu_library.py`.  The code below wouldn't change.\n",
    "\n",
    "Using modules is probably smarter than writing all your code in `.ipynb` files, for example.\n",
    "\n",
    "It shows definition of a `class` object that represents a book.  Classes can be a good way to keep functions and data together."
   ]
  },
  {
   "cell_type": "code",
   "execution_count": null,
   "id": "208abd23-46fa-4252-a845-e57838ea9307",
   "metadata": {},
   "outputs": [],
   "source": [
    "import irfu_library\n",
    "for b in irfu_library.library:\n",
    "    print(b)\n",
    "\n",
    "new_book = irfu_library.Book(\"Fifty shades of reconnection\", \"Anonymous Space Physicist\", -101239)\n",
    "new_book.order_from_amazon()"
   ]
  },
  {
   "cell_type": "markdown",
   "id": "2d2b3b4e-c7cb-4caa-bec2-16137ba7fedf",
   "metadata": {},
   "source": [
    "---\n",
    "## Generators\n",
    "generators are lazy iterators which unlike lists do not store their contents in memory."
   ]
  },
  {
   "cell_type": "code",
   "execution_count": null,
   "id": "87809aba-172e-434b-be91-ec89b3d857a4",
   "metadata": {},
   "outputs": [],
   "source": [
    "phd_students_lower = (student.lower() for student in phd_students)\n",
    "phd_students_lower"
   ]
  },
  {
   "cell_type": "code",
   "execution_count": null,
   "id": "1d057db1-2937-4829-b6ad-987a74389f26",
   "metadata": {},
   "outputs": [],
   "source": [
    "import sys\n",
    "print(sys.getsizeof(phd_students_lower), sys.getsizeof(list(phd_students_lower)))"
   ]
  },
  {
   "cell_type": "markdown",
   "id": "bc0f0fd5-5142-44e5-bd48-4718efb45361",
   "metadata": {},
   "source": [
    "## Lambdas, maps, filters\n",
    "Lambda functions are just small functions, that only contain a single expression.  Nothing special otherwise."
   ]
  },
  {
   "cell_type": "code",
   "execution_count": null,
   "id": "e1537e1f-cc76-4bc1-bbb9-7f80d9946d74",
   "metadata": {},
   "outputs": [],
   "source": [
    "# Here's a short function:\n",
    "def get_student_name(item):\n",
    "    return item[0]\n",
    "\n",
    "# Applied over a list:\n",
    "[get_student_name(item) for item in phd_students_supervisor.items()]"
   ]
  },
  {
   "cell_type": "code",
   "execution_count": null,
   "id": "b5ab49d4-6305-49c6-b390-d784f94754f0",
   "metadata": {},
   "outputs": [],
   "source": [
    "# Here's a lambda function doing the same thing\n",
    "get_student_name = lambda item: item[0]\n",
    "[get_student_name(item) for item in phd_students_supervisor.items()]"
   ]
  },
  {
   "cell_type": "markdown",
   "id": "6a37f0a0-9346-4fb3-ae35-7e2104bd5a29",
   "metadata": {},
   "source": [
    "## Maps and filters\n",
    "`map` creates a generator object which uses lazy evaluation of a function/lambda over an iterable"
   ]
  },
  {
   "cell_type": "code",
   "execution_count": null,
   "id": "adb23a46-a8c9-4e02-8ba0-8b47b791d4b4",
   "metadata": {},
   "outputs": [],
   "source": [
    "phd_students_lower_map = map(str.lower, phd_students)\n",
    "print(phd_students_lower_map)\n",
    "print(list(phd_students_lower_map)) "
   ]
  },
  {
   "cell_type": "markdown",
   "id": "acb613b9-50af-4641-90b9-1391aabd702b",
   "metadata": {},
   "source": [
    "`filter` creates a generator object which uses lazy evaluation of a condition over an iterable"
   ]
  },
  {
   "cell_type": "code",
   "execution_count": null,
   "id": "8882a7cb-bbbb-4d3b-b3d2-49ffc575196d",
   "metadata": {},
   "outputs": [],
   "source": [
    "supervisor = \"Niklas\"\n",
    "matched_items = list(filter(lambda item: item[1] == supervisor, phd_students_supervisor.items()))\n",
    "matched_students = list(map(lambda item: item[0], matched_items))\n",
    "matched_students"
   ]
  },
  {
   "cell_type": "markdown",
   "id": "03a1eacd-0506-49a7-a0f9-4cc508a9663a",
   "metadata": {},
   "source": [
    "## Exceptions\n",
    "We've met a few already by now.  They are useful ways to structure your code.  Sometimes it's better to ask for forgiveness, rather than permission."
   ]
  },
  {
   "cell_type": "code",
   "execution_count": null,
   "id": "04038a7a-3b52-427f-89f6-87aed08217d5",
   "metadata": {},
   "outputs": [],
   "source": [
    "from typing import List\n",
    "# \n",
    "\n",
    "def get_phd_students(supervisor: str) -> List[int]:\n",
    "    r\"\"\"Get PhD students supervised by `supervisor`.\n",
    "\n",
    "    Parameters\n",
    "    ----------\n",
    "    supervisor : str\n",
    "        Name of supervisor.\n",
    "\n",
    "    Returns\n",
    "    -------\n",
    "    matched_students : list\n",
    "        List of the names of the students supervised by `supervisor`.\n",
    "\n",
    "    Raises\n",
    "    ------\n",
    "    ValueError\n",
    "        If `supervisor` is not a supervisor.\n",
    "\n",
    "    \"\"\"\n",
    "\n",
    "    if supervisor in phd_students_supervisor.values():\n",
    "        # Find items where the value is `supervisor`\n",
    "        matched_items = list(filter(lambda item: item[1] == supervisor, phd_students_supervisor.items()))\n",
    "\n",
    "        # Get the first element (key) of the items, i.e., the PhD student name\n",
    "        matched_students = list(map(lambda item: item[0], matched_items))\n",
    "    else:\n",
    "        raise ValueError(f\"{supervisor} has no PhD students\")\n",
    "\n",
    "    return matched_students\n",
    "    "
   ]
  },
  {
   "cell_type": "code",
   "execution_count": null,
   "id": "c720f128-4999-49ea-9ba5-2b670d693f06",
   "metadata": {},
   "outputs": [],
   "source": [
    "get_phd_students(\"Erik\")"
   ]
  },
  {
   "cell_type": "code",
   "execution_count": null,
   "id": "7307d430-42e4-4c21-b3c3-10328806f521",
   "metadata": {},
   "outputs": [],
   "source": [
    "scientists = [\"Andrew\", \"Dave\", \"Michiko\", \"Erik\", \"Jan-Erik\", \"Anders\", \"Stephan\", \"Daniel\", \"Emiliya\", \"Cecilia\", \"Yuri\"]\n",
    "scientists.sort()\n",
    "\n",
    "for scientist in scientists:\n",
    "    try: \n",
    "        result = get_phd_students(scientist)\n",
    "        print(f\"{scientist}'s PhD student{'s are' if len(result) > 1 else ' is'} {result}\")\n",
    "    except ValueError as err:\n",
    "        print(err)"
   ]
  },
  {
   "cell_type": "markdown",
   "id": "a52bdfff-52d2-4f51-ab6c-1e93e8b57ad9",
   "metadata": {},
   "source": [
    "---\n",
    "## Excercises\n",
    "Each of these cells is broken in some way.  Have a go at fixing them."
   ]
  },
  {
   "cell_type": "code",
   "execution_count": null,
   "id": "61502d4a-53c8-411a-a6b8-e0dfe3b023b2",
   "metadata": {},
   "outputs": [],
   "source": [
    "# There are two errors here.\n",
    "# This is conceptually a bit tricky, but illustrates a common mistake that can be about function default variable initialization\n",
    "def something(input_list = [], to_add = 'MMS'):\n",
    "    \"\"\"Function that appends `to_add` to the `input_list` and returns it.\"\"\"\n",
    "    return input_list.append(to_add)\n",
    "print(something())\n",
    "print(something())"
   ]
  },
  {
   "cell_type": "code",
   "execution_count": null,
   "id": "c0121924-0c17-4e62-a128-f3a9c205feab",
   "metadata": {},
   "outputs": [],
   "source": [
    "# Is this doing what you might expect?  What about using enumerate instead, somehow?\n",
    "def something(some_input):\n",
    "    \"\"\"Add four to everything in the array\"\"\"\n",
    "    for i in some_input:\n",
    "        i += 4\n",
    "\n",
    "    return some_input\n",
    "    \n",
    "x = [1,2,3,4]\n",
    "x2 = something(x)\n",
    "print(x)\n",
    "print(x2)\n",
    "print(x2 is x)"
   ]
  },
  {
   "cell_type": "code",
   "execution_count": null,
   "id": "e9fa1145-a5ea-4644-8a2a-0549d2fafde5",
   "metadata": {},
   "outputs": [],
   "source": [
    "# Clean up this mess using a (nested) list comprehension instead, together with `any()`, perhaps?\n",
    "scientists = [\"Andrew\", \"Dave\", \"Michiko\", \"Erik\", \"Jan-Erik\", \"Anders\", \"Stephan\", \"Daniel\", \"Emiliya\", \"Cecilia\", \"Yuri\"]\n",
    "some_scientists = []\n",
    "for s in scientists:\n",
    "    if \"Y\" in s.upper():\n",
    "        some_scientists.append(s)\n",
    "    elif \"J\" in s.upper():\n",
    "        some_scientists.append(s)\n",
    "print(some_scientists)"
   ]
  },
  {
   "cell_type": "code",
   "execution_count": null,
   "id": "cecf31fd-c7fb-49b7-850f-5578f316068f",
   "metadata": {},
   "outputs": [],
   "source": []
  }
 ],
 "metadata": {
  "kernelspec": {
   "display_name": "Python 3 (ipykernel)",
   "language": "python",
   "name": "python3"
  },
  "language_info": {
   "codemirror_mode": {
    "name": "ipython",
    "version": 3
   },
   "file_extension": ".py",
   "mimetype": "text/x-python",
   "name": "python",
   "nbconvert_exporter": "python",
   "pygments_lexer": "ipython3",
   "version": "3.10.13"
  }
 },
 "nbformat": 4,
 "nbformat_minor": 5
}
