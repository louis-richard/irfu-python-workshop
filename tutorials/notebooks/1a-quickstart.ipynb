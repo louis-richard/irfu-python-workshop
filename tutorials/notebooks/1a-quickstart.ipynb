{
 "cells": [
  {
   "cell_type": "markdown",
   "id": "7cd734b7-a95e-45e9-bb66-78e50bc69277",
   "metadata": {},
   "source": [
    "# IRF - Uppsala Python Workshop: Snakes in Space 🐍\n",
    "author: Louis Richard\n",
    "e-mail: louisr@irfu.se\n",
    "date: 29/02/2024"
   ]
  },
  {
   "cell_type": "markdown",
   "id": "12036d17-23be-4cfd-b388-a12eb5dcc663",
   "metadata": {},
   "source": [
    "## Quickstart:\n",
    "- How to import packages?\n",
    "- Name variable, name reference\n",
    "- Data structures: lists, dictionaries, tuples\n",
    "- Lists and dictionaries in comprehension\n",
    "- Generators\n",
    "- lambdas\n",
    "- maps and filters\n",
    "- exceptions"
   ]
  },
  {
   "cell_type": "markdown",
   "id": "1eba1b27-f7de-44a4-a42b-26b0009499cc",
   "metadata": {},
   "source": [
    "## How to import packages?"
   ]
  },
  {
   "cell_type": "code",
   "execution_count": 136,
   "id": "448979fe-46b4-4f22-b99b-eb0cb02ad45d",
   "metadata": {},
   "outputs": [
    {
     "data": {
      "text/plain": [
       "['/Users/dave/Desktop/JGR Planets - 2022 - Zhang - Three‐Dimensional Configuration of Induced Magnetic Fields Around Mars.pdf',\n",
       " '/Users/dave/Desktop/JGR Space Physics - 2018 - Collinson - Solar Wind Induced Waves in the Skies of Mars  Ionospheric Compression  Energization.pdf',\n",
       " '/Users/dave/Desktop/UL_Receipt UL_2024-02-14_09-57-45.pdf',\n",
       " '/Users/dave/Desktop/Venusflybys-9feb2024.pdf',\n",
       " '/Users/dave/Desktop/985130_0_unknown_upload_11792390_s7grj7_sc.pdf',\n",
       " '/Users/dave/Desktop/aa47279-23.pdf',\n",
       " '/Users/dave/Desktop/Granskad_sammanstallning_102654.pdf',\n",
       " '/Users/dave/Desktop/maven_sis_SWEA-2_6.pdf',\n",
       " '/Users/dave/Desktop/Block3Oral.pdf',\n",
       " '/Users/dave/Desktop/s10712-023-09813-9.pdf',\n",
       " '/Users/dave/Desktop/A_review_of_whistler-mode_ray-tracing_techniques_originated_from_the_work_by_J._Haselgrove.pdf',\n",
       " '/Users/dave/Desktop/985130_0_unknown_upload_11792398_s7grnc_sc.pdf',\n",
       " '/Users/dave/Desktop/985130_0_unknown_upload_11792399_s7grnf_sc.pdf',\n",
       " '/Users/dave/Desktop/JUI-ESAC-SGS-PL-006_Science_Data_Generation_Validation_and_Archiving_Plan_1.3_20231220.pdf',\n",
       " '/Users/dave/Desktop/science.291.5501.84.pdf',\n",
       " '/Users/dave/Desktop/2312.08669.pdf',\n",
       " '/Users/dave/Desktop/FULLTEXT01 (1).pdf',\n",
       " '/Users/dave/Desktop/IRF seminar talk.pdf',\n",
       " '/Users/dave/Desktop/HF-L1-data-structure.pdf',\n",
       " '/Users/dave/Desktop/Untitled Notebook.pdf',\n",
       " '/Users/dave/Desktop/ecale-et-al-2018-juice-interplanetary-operations-design-drivers-and-challenges.pdf',\n",
       " '/Users/dave/Desktop/JGR Planets - 2024 - Jakosky - Fate of an Earth‐Like Water Inventory on Mars.pdf',\n",
       " '/Users/dave/Desktop/(Series in plasma physics) D  G Swanson-Plasma waves-Institute of Physics Pub, CRC Press (2003).pdf',\n",
       " '/Users/dave/Desktop/art_253A10.1186_252FBF03353251.pdf']"
      ]
     },
     "execution_count": 136,
     "metadata": {},
     "output_type": "execute_result"
    }
   ],
   "source": [
    "import os, glob\n",
    "# os.getenv(\"USER\")\n",
    "# os.getcwd()\n",
    "# glob.glob(os.path.expanduser(\"~/Desktop/*.pdf\"))"
   ]
  },
  {
   "cell_type": "markdown",
   "id": "7d708377-9d16-4480-b32c-1d23108ea690",
   "metadata": {},
   "source": [
    "### To import a specific function or (sub-)module from a package"
   ]
  },
  {
   "cell_type": "code",
   "execution_count": 1,
   "id": "0f011f7c-44cb-4c6f-a1b3-2929becd5acc",
   "metadata": {},
   "outputs": [],
   "source": [
    "from scipy.signal import lombscargle\n",
    "from scipy.io import loadmat"
   ]
  },
  {
   "cell_type": "markdown",
   "id": "0290dbd5-796f-42f5-a45f-295de560d3b9",
   "metadata": {},
   "source": [
    "## Name variable, name reference"
   ]
  },
  {
   "cell_type": "code",
   "execution_count": 31,
   "id": "7d74b94e-e780-4ed2-b19c-c8376ab0f500",
   "metadata": {},
   "outputs": [],
   "source": [
    "a = 10\n",
    "b = 2"
   ]
  },
  {
   "cell_type": "code",
   "execution_count": 100,
   "id": "eed42026-1352-4ce6-86a9-e075df176153",
   "metadata": {},
   "outputs": [
    {
     "name": "stdout",
     "output_type": "stream",
     "text": [
      "10 2\n"
     ]
    }
   ],
   "source": [
    "print(a, b)  # print is a function"
   ]
  },
  {
   "cell_type": "code",
   "execution_count": 101,
   "id": "5cff45dd-eb35-4afa-837c-9de71ca4038a",
   "metadata": {},
   "outputs": [],
   "source": [
    "a, b = 10, 2  # Simultaneous assignment"
   ]
  },
  {
   "cell_type": "code",
   "execution_count": 102,
   "id": "2b2fd6d5-6b95-4b28-a99e-97e481fd135a",
   "metadata": {},
   "outputs": [
    {
     "name": "stdout",
     "output_type": "stream",
     "text": [
      "2 10\n"
     ]
    }
   ],
   "source": [
    "a, b = b, a\n",
    "print(a, b)"
   ]
  },
  {
   "cell_type": "markdown",
   "id": "ebcedb40-8ea0-4046-b04c-17356d212bd4",
   "metadata": {},
   "source": [
    "## Functions\n",
    "`def` to define a function.  Note; python forces you to use consistent indentation"
   ]
  },
  {
   "cell_type": "code",
   "execution_count": 12,
   "id": "44192c93-823c-4b64-84c2-d9b340fed595",
   "metadata": {},
   "outputs": [],
   "source": [
    "# A function definition:\n",
    "def something():\n",
    "    \"\"\"Functions should be documented\"\"\"\n",
    "    return False"
   ]
  },
  {
   "cell_type": "code",
   "execution_count": 13,
   "id": "e2b227be-f108-4030-8eb2-ea55096b0af7",
   "metadata": {},
   "outputs": [
    {
     "name": "stdout",
     "output_type": "stream",
     "text": [
      "False\n"
     ]
    }
   ],
   "source": [
    "# Call it:\n",
    "print(something())"
   ]
  },
  {
   "cell_type": "markdown",
   "id": "555f1fbe-04d8-4e87-be7e-7b417b343796",
   "metadata": {},
   "source": [
    "## Flow control\n",
    "If, else, ... etc."
   ]
  },
  {
   "cell_type": "code",
   "execution_count": 38,
   "id": "bc4de26a-79ee-4287-8e4b-ad63d8147a81",
   "metadata": {},
   "outputs": [
    {
     "name": "stdout",
     "output_type": "stream",
     "text": [
      "Too many sensors\n"
     ]
    }
   ],
   "source": [
    "swarm, mms, juice = 3, 4, 1\n",
    "\n",
    "# if, elif, else\n",
    "if swarm > mms:\n",
    "    print(\"Swarm\")\n",
    "elif mms > juice:\n",
    "    print(\"Too many sensors\")\n",
    "else:\n",
    "    print(\"Nope\")\n",
    "\n",
    "# Python >3.10 also has a `match ... case` switch thing as well.  "
   ]
  },
  {
   "cell_type": "code",
   "execution_count": 47,
   "id": "32011b4f-1519-4d22-ab30-f868bd485019",
   "metadata": {},
   "outputs": [
    {
     "name": "stdout",
     "output_type": "stream",
     "text": [
      "0\n",
      "1\n",
      "2\n",
      "3\n",
      "4\n",
      "5\n",
      "6\n",
      "7\n",
      "8\n",
      "9\n",
      "i\n",
      "r\n",
      "f\n",
      "u\n"
     ]
    }
   ],
   "source": [
    "# for ... in, loop. Tightly connected to iterators, generators ... (later)\n",
    "for i in range(10):\n",
    "    print(i)\n",
    "\n",
    "for c in \"irfu\":\n",
    "    print(c)"
   ]
  },
  {
   "cell_type": "markdown",
   "id": "3d5eae4a-89dc-47da-9bd6-ebc4fca39006",
   "metadata": {},
   "source": [
    "---\n",
    "## Lists, dictionaries, tuples, and sets"
   ]
  },
  {
   "cell_type": "markdown",
   "id": "2c80a8d1-04dc-400e-b892-f8f6cff8fd71",
   "metadata": {},
   "source": [
    "### Lists\n",
    "Lists in python are linked lists of items.  Anything can be put into a list.  They are _not_ arrays, matrices or anything of the sort."
   ]
  },
  {
   "cell_type": "code",
   "execution_count": 5,
   "id": "4e50e987-a721-493d-bb7c-52a3c352a5fc",
   "metadata": {},
   "outputs": [],
   "source": [
    "a_variable = 42\n",
    "a_list = [None, a_variable, \"Everything\", 0xDEADBEEF, [\"fido\", \"scooby\", \"laika\"]] \n",
    "phd_students = [\"Louis\", \"Ahmad\", \"Ida\", \"Jordi\", \"Konstantin\"]"
   ]
  },
  {
   "cell_type": "code",
   "execution_count": 6,
   "id": "eb87ad6d-43e0-479b-b18f-f707328b9224",
   "metadata": {},
   "outputs": [
    {
     "name": "stdout",
     "output_type": "stream",
     "text": [
      "Win\n",
      "a_new_list 0th element (1) is a <class 'int'>\n",
      "a_new_list 1th element (['Louis', 'Ahmad', 'Ida', 'Jordi', 'Konstantin']) is a <class 'list'>\n",
      "a_new_list 2th element (1000000.0) is a <class 'float'>\n",
      "a_new_list 3th element (False) is a <class 'bool'>\n",
      "a_new_list 4th element (None) is a <class 'NoneType'>\n",
      "a_new_list 5th element (42) is a <class 'int'>\n",
      "a_new_list 6th element (Everything) is a <class 'str'>\n",
      "a_new_list 7th element (3735928559) is a <class 'int'>\n",
      "a_new_list 8th element (['fido', 'scooby', 'laika']) is a <class 'list'>\n"
     ]
    }
   ],
   "source": [
    "a_new_list = [1, phd_students, 1e6, False, *a_list]\n",
    "\n",
    "for i, element in enumerate(a_new_list):\n",
    "    print(f\"a_new_list {i}th element ({element}) is a {type(element)}\")  # So-called \"f-strings\" are very helpful!"
   ]
  },
  {
   "cell_type": "markdown",
   "id": "f7d637d9-79db-47c0-815d-89857c95f79a",
   "metadata": {},
   "source": [
    "#### Index start at 0 not 1"
   ]
  },
  {
   "cell_type": "code",
   "execution_count": 19,
   "id": "5748519a-c74f-4b8d-b460-ac4d36aced07",
   "metadata": {},
   "outputs": [
    {
     "name": "stdout",
     "output_type": "stream",
     "text": [
      "The 'oldest' PhD student is Louis\n"
     ]
    }
   ],
   "source": [
    "print(f\"The 'oldest' PhD student is {phd_students[0]}\")"
   ]
  },
  {
   "cell_type": "markdown",
   "id": "106d4a46-9a3f-43c3-a8a8-764ab290497e",
   "metadata": {},
   "source": [
    "#### Remove elements from lists"
   ]
  },
  {
   "cell_type": "code",
   "execution_count": 29,
   "id": "b686c715-faf1-41a6-b389-79c613d118a4",
   "metadata": {},
   "outputs": [
    {
     "name": "stdout",
     "output_type": "stream",
     "text": [
      "There are 5 phd students\n",
      "Goodbye Louis!!\n",
      "There are 4 phd students\n"
     ]
    }
   ],
   "source": [
    "phd_students = [\"Louis\", \"Ahmad\", \"Ida\", \"Jordi\", \"Konstantin\"]\n",
    "print(f\"There are {len(phd_students)} phd students\")\n",
    "fired = phd_students.pop(0)\n",
    "print(f\"Goodbye {fired:s}!!\")\n",
    "print(f\"There are {len(phd_students)} phd students\")"
   ]
  },
  {
   "cell_type": "markdown",
   "id": "c9a97285-fc6f-485d-b9e0-6a4f7cfb43e5",
   "metadata": {},
   "source": [
    "#### Concatenate lists"
   ]
  },
  {
   "cell_type": "code",
   "execution_count": 4,
   "id": "7015788b-0a32-4e04-bb5a-e1afc1d1b2d2",
   "metadata": {},
   "outputs": [
    {
     "data": {
      "text/plain": [
       "['Louis', 'Ahmad', 'Ida', 'Jordi', 'Konstantin', 'Jack']"
      ]
     },
     "execution_count": 4,
     "metadata": {},
     "output_type": "execute_result"
    }
   ],
   "source": [
    "phd_students = [\"Louis\", \"Ahmad\", \"Ida\", \"Jordi\", \"Konstantin\"]\n",
    "phd_students + [\"Jack\"]"
   ]
  },
  {
   "cell_type": "markdown",
   "id": "74ead1eb-f3b2-4ad6-bc44-5fa4120098b1",
   "metadata": {},
   "source": [
    "or"
   ]
  },
  {
   "cell_type": "code",
   "execution_count": 5,
   "id": "d4b32464-0bd5-4a68-a562-d63ba52fdd31",
   "metadata": {},
   "outputs": [
    {
     "data": {
      "text/plain": [
       "['Louis', 'Ahmad', 'Ida', 'Jordi', 'Konstantin', 'Jack']"
      ]
     },
     "execution_count": 5,
     "metadata": {},
     "output_type": "execute_result"
    }
   ],
   "source": [
    "[*phd_students, \"Jack\"]"
   ]
  },
  {
   "cell_type": "code",
   "execution_count": 6,
   "id": "cfe2ce66-0ae5-47ef-88ca-84d3fde0d1b4",
   "metadata": {},
   "outputs": [
    {
     "name": "stdout",
     "output_type": "stream",
     "text": [
      "['Louis', 'Ahmad', 'Ida', 'Jordi', 'Konstantin', 'Jack', 'No \"Name\"', \"Another new 'victim'\"]\n",
      "True\n"
     ]
    }
   ],
   "source": [
    "phd_students.append(\"Jack\")\n",
    "phd_students.extend(['No \"Name\"', \"Another new 'victim'\"])  # Nested quotes\n",
    "print(phd_students)\n",
    "print(\"Jack\" in phd_students) # Test membership"
   ]
  },
  {
   "cell_type": "markdown",
   "id": "dbade43a-1678-4d7b-a190-2187e38bcab2",
   "metadata": {},
   "source": [
    "#### Lists allow negative indices to access the last elements"
   ]
  },
  {
   "cell_type": "code",
   "execution_count": 88,
   "id": "42d84f43-6db0-4d08-881b-322fe80e7f76",
   "metadata": {},
   "outputs": [
    {
     "data": {
      "text/plain": [
       "\"Welcome, Another new 'victim'!!\""
      ]
     },
     "execution_count": 88,
     "metadata": {},
     "output_type": "execute_result"
    }
   ],
   "source": [
    "f\"Welcome, {phd_students[-1]}!!\""
   ]
  },
  {
   "cell_type": "markdown",
   "id": "a316874e-cbb0-4dc5-8d3a-f5a6b79fc8ef",
   "metadata": {},
   "source": [
    "### Tuples"
   ]
  },
  {
   "cell_type": "markdown",
   "id": "22e21441-1979-4e19-8907-4cf4662fbbef",
   "metadata": {},
   "source": [
    "Tuples are immutable objects that can contain stuff."
   ]
  },
  {
   "cell_type": "code",
   "execution_count": 93,
   "id": "5b7beb3f-9af9-4b7b-8270-9fbbed0effdf",
   "metadata": {
    "scrolled": true
   },
   "outputs": [],
   "source": [
    "a_tuple = (1,2,3,4.123123)"
   ]
  },
  {
   "cell_type": "markdown",
   "id": "c7028b4d-ca3f-4f69-8e20-76d3929159ac",
   "metadata": {},
   "source": [
    "#### or "
   ]
  },
  {
   "cell_type": "code",
   "execution_count": 30,
   "id": "eca7227a-325e-49d9-93aa-267dd5159f71",
   "metadata": {},
   "outputs": [
    {
     "data": {
      "text/plain": [
       "('Ahmad', 'Ida', 'Jordi', 'Konstantin')"
      ]
     },
     "execution_count": 30,
     "metadata": {},
     "output_type": "execute_result"
    }
   ],
   "source": [
    "phd_students_tpl = tuple(phd_students)\n",
    "phd_students_tpl"
   ]
  },
  {
   "cell_type": "markdown",
   "id": "318a4626-da37-42c6-bd4a-8cbf1b3fadde",
   "metadata": {},
   "source": [
    "Immutable means, \"cannot be changed\":"
   ]
  },
  {
   "cell_type": "code",
   "execution_count": 31,
   "id": "c3eede79-d7a8-48c6-adca-7be578313cec",
   "metadata": {
    "scrolled": true
   },
   "outputs": [
    {
     "ename": "TypeError",
     "evalue": "'tuple' object does not support item assignment",
     "output_type": "error",
     "traceback": [
      "\u001b[0;31m---------------------------------------------------------------------------\u001b[0m",
      "\u001b[0;31mTypeError\u001b[0m                                 Traceback (most recent call last)",
      "Cell \u001b[0;32mIn[31], line 1\u001b[0m\n\u001b[0;32m----> 1\u001b[0m \u001b[43mphd_students_tpl\u001b[49m\u001b[43m[\u001b[49m\u001b[38;5;241;43m-\u001b[39;49m\u001b[38;5;241;43m2\u001b[39;49m\u001b[43m]\u001b[49m \u001b[38;5;241m=\u001b[39m \u001b[38;5;124m\"\u001b[39m\u001b[38;5;124mKim\u001b[39m\u001b[38;5;124m\"\u001b[39m\n",
      "\u001b[0;31mTypeError\u001b[0m: 'tuple' object does not support item assignment"
     ]
    }
   ],
   "source": [
    "phd_students_tpl[-2] = \"Kim\""
   ]
  },
  {
   "cell_type": "markdown",
   "id": "efe4ac43-5003-419e-bff1-d396a981505e",
   "metadata": {},
   "source": [
    "### Dictionaries\n",
    "Dictionaries are a map between unique \"keys\" and \"values\".  Powerful concept, to organize data.  In python, _most_ things can be keys, and anything can be a value."
   ]
  },
  {
   "cell_type": "code",
   "execution_count": 8,
   "id": "67917460-6849-4d6f-96ab-485cc95b0819",
   "metadata": {},
   "outputs": [],
   "source": [
    "something = {None:None, 42:\"Everything\", 0xDEADBEEF:\"MEAT\", \"dog\":\"cat\", \"various_dogs\":[\"fido\", \"scooby\", \"laika\"]}"
   ]
  },
  {
   "cell_type": "code",
   "execution_count": 9,
   "id": "9fa59f86-a2a2-49a2-974c-9c040ce84ab2",
   "metadata": {},
   "outputs": [],
   "source": [
    "phd_students_supervisor = {\"Ahmad\": \"Yuri\", \"Ida\": \"Emiliya\", \"Jordi\": \"Daniel\", \"Konstantin\": \"Niklas\", \"Jack\": \"Yuri\"}"
   ]
  },
  {
   "cell_type": "markdown",
   "id": "b80697fb-c55a-4990-ae4f-dd680ed4dd3a",
   "metadata": {},
   "source": [
    "or (with exactly the same result):"
   ]
  },
  {
   "cell_type": "code",
   "execution_count": 10,
   "id": "861bcf68-fc69-4e85-82d0-c64ac0b97117",
   "metadata": {},
   "outputs": [],
   "source": [
    "phd_students_supervisor = dict(Ahmad=\"Yuri\", Ida=\"Emiliya\", Jordi=\"Daniel\", Konstantin=\"Niklas\", Jack=\"Yuri\")\n"
   ]
  },
  {
   "cell_type": "markdown",
   "id": "02f3274f-3559-410a-ad66-44dbadaf83be",
   "metadata": {},
   "source": [
    "#### Dictionaries are indexed by keys"
   ]
  },
  {
   "cell_type": "code",
   "execution_count": 11,
   "id": "4ff56819-36bf-428b-8401-e1d3a73a0c20",
   "metadata": {},
   "outputs": [
    {
     "data": {
      "text/plain": [
       "'Emiliya'"
      ]
     },
     "execution_count": 11,
     "metadata": {},
     "output_type": "execute_result"
    }
   ],
   "source": [
    "phd_students_supervisor[\"Ida\"]"
   ]
  },
  {
   "cell_type": "code",
   "execution_count": 17,
   "id": "d3afced1-0737-49f4-9387-91f20234dc85",
   "metadata": {},
   "outputs": [
    {
     "name": "stdout",
     "output_type": "stream",
     "text": [
      "{'Yuri', 'Emiliya', 'Daniel', 'Niklas'}\n"
     ]
    },
    {
     "ename": "KeyError",
     "evalue": "'Louis'",
     "output_type": "error",
     "traceback": [
      "\u001b[0;31m---------------------------------------------------------------------------\u001b[0m",
      "\u001b[0;31mKeyError\u001b[0m                                  Traceback (most recent call last)",
      "Cell \u001b[0;32mIn[17], line 9\u001b[0m\n\u001b[1;32m      7\u001b[0m counters \u001b[38;5;241m=\u001b[39m {s:\u001b[38;5;241m0\u001b[39m \u001b[38;5;28;01mfor\u001b[39;00m s \u001b[38;5;129;01min\u001b[39;00m all_supervisors} \n\u001b[1;32m      8\u001b[0m \u001b[38;5;28;01mfor\u001b[39;00m s \u001b[38;5;129;01min\u001b[39;00m phd_students:\n\u001b[0;32m----> 9\u001b[0m     counters[s] \u001b[38;5;241m+\u001b[39m\u001b[38;5;241m=\u001b[39m \u001b[38;5;241m1\u001b[39m\n\u001b[1;32m     11\u001b[0m \u001b[38;5;28mprint\u001b[39m(counters)\n",
      "\u001b[0;31mKeyError\u001b[0m: 'Louis'"
     ]
    }
   ],
   "source": [
    "# Let's count:\n",
    "phd_students = [\"Louis\", \"Ahmad\", \"Ida\", \"Jordi\", \"Konstantin\", \"Jack\"]\n",
    "phd_students_supervisor = dict(Ahmad=\"Yuri\", Ida=\"Emiliya\", Jordi=\"Daniel\", Konstantin=\"Niklas\", Jack=\"Yuri\")\n",
    "\n",
    "all_supervisors = set(list(phd_students_supervisor.values()))\n",
    "print(all_supervisors)\n",
    "counters = {s:0 for s in all_supervisors} \n",
    "for s in phd_students:\n",
    "    counters[s] += 1\n",
    "\n",
    "print(counters)"
   ]
  },
  {
   "cell_type": "markdown",
   "id": "c654d407-7981-4c53-883a-eab779f19fba",
   "metadata": {},
   "source": [
    "#### To get the keys and values"
   ]
  },
  {
   "cell_type": "code",
   "execution_count": 11,
   "id": "e21265e1-f817-4e48-9432-9bf9f04f3280",
   "metadata": {},
   "outputs": [
    {
     "data": {
      "text/plain": [
       "dict_keys(['Ahmad', 'Ida', 'Jordi', 'Konstantin', 'Jack'])"
      ]
     },
     "execution_count": 11,
     "metadata": {},
     "output_type": "execute_result"
    }
   ],
   "source": [
    "phd_students_supervisor.keys()"
   ]
  },
  {
   "cell_type": "code",
   "execution_count": 12,
   "id": "689bacfa-8636-44b7-a941-cef210f0082f",
   "metadata": {},
   "outputs": [
    {
     "data": {
      "text/plain": [
       "dict_values(['Yuri', 'Emiliya', 'Daniel', 'Niklas', 'Yuri'])"
      ]
     },
     "execution_count": 12,
     "metadata": {},
     "output_type": "execute_result"
    }
   ],
   "source": [
    "phd_students_supervisor.values()"
   ]
  },
  {
   "cell_type": "code",
   "execution_count": 13,
   "id": "5f6de050-d8d9-4e98-a773-9626fa7be575",
   "metadata": {},
   "outputs": [
    {
     "data": {
      "text/plain": [
       "dict_items([('Ahmad', 'Yuri'), ('Ida', 'Emiliya'), ('Jordi', 'Daniel'), ('Konstantin', 'Niklas'), ('Jack', 'Yuri')])"
      ]
     },
     "execution_count": 13,
     "metadata": {},
     "output_type": "execute_result"
    }
   ],
   "source": [
    "phd_students_supervisor.items()"
   ]
  },
  {
   "cell_type": "code",
   "execution_count": 14,
   "id": "b4970db9-e7fc-4d3b-8f30-018e572e626b",
   "metadata": {
    "scrolled": true
   },
   "outputs": [
    {
     "name": "stdout",
     "output_type": "stream",
     "text": [
      "Ahmad's supervisor is Yuri\n",
      "Ida's supervisor is Emiliya\n",
      "Jordi's supervisor is Daniel\n",
      "Konstantin's supervisor is Niklas\n",
      "Jack's supervisor is Yuri\n"
     ]
    }
   ],
   "source": [
    "for student, supervisor in phd_students_supervisor.items():\n",
    "    print(f\"{student:s}'s supervisor is {supervisor:s}\")  # f-strings"
   ]
  },
  {
   "cell_type": "markdown",
   "id": "69d54b92-d671-4ed9-8abe-d514137844a7",
   "metadata": {},
   "source": [
    "## Lists and dictionary comprehensions"
   ]
  },
  {
   "cell_type": "markdown",
   "id": "360da6b3-5d56-424d-b4e8-26713f55ce1f",
   "metadata": {},
   "source": [
    "### Lists can be created iteratively"
   ]
  },
  {
   "cell_type": "code",
   "execution_count": 33,
   "id": "07f1ed62-515d-4a08-a573-b39b7d8c2306",
   "metadata": {},
   "outputs": [
    {
     "name": "stdout",
     "output_type": "stream",
     "text": [
      "['Ahmad', 'Ida', 'Jordi', 'Konstantin']\n"
     ]
    },
    {
     "data": {
      "text/plain": [
       "['ahmad', 'ida', 'jordi', 'konstantin']"
      ]
     },
     "execution_count": 33,
     "metadata": {},
     "output_type": "execute_result"
    }
   ],
   "source": [
    "phd_students_lower = []\n",
    "for student in phd_students:\n",
    "    phd_students_lower.append(student.lower())\n",
    "\n",
    "phd_students_lower"
   ]
  },
  {
   "cell_type": "markdown",
   "id": "0d262911-11c9-4e0c-968d-6f2aef8afda7",
   "metadata": {},
   "source": [
    "#### or in a single line called lists in comprehension"
   ]
  },
  {
   "cell_type": "code",
   "execution_count": 34,
   "id": "9857213a-7558-4aa1-a32b-365bc382a88c",
   "metadata": {},
   "outputs": [
    {
     "data": {
      "text/plain": [
       "['ahmad', 'ida', 'jordi', 'konstantin']"
      ]
     },
     "execution_count": 34,
     "metadata": {},
     "output_type": "execute_result"
    }
   ],
   "source": [
    "[student.lower() for student in phd_students]"
   ]
  },
  {
   "cell_type": "markdown",
   "id": "1557a608-ebcb-4264-85df-9859ba21bc2f",
   "metadata": {},
   "source": [
    "#### Same applies to dictionnaries"
   ]
  },
  {
   "cell_type": "code",
   "execution_count": 30,
   "id": "7baa71bc-27d7-4a8b-b2e5-b1b65aed581a",
   "metadata": {},
   "outputs": [
    {
     "data": {
      "text/plain": [
       "{'Ahmad': 'Yuri',\n",
       " 'Ida': 'Emiliya',\n",
       " 'Jordi': 'Daniel',\n",
       " 'Konstantin': 'Niklas',\n",
       " 'Jack': 'Yuri'}"
      ]
     },
     "execution_count": 30,
     "metadata": {},
     "output_type": "execute_result"
    }
   ],
   "source": [
    "{student: supervisor for student, supervisor in zip(phd_students, phd_supervisors)}"
   ]
  },
  {
   "cell_type": "markdown",
   "id": "9cafaf97-7669-4903-b61a-451b2e99f6d3",
   "metadata": {},
   "source": [
    "#### Warning: doesn't work for tuple"
   ]
  },
  {
   "cell_type": "code",
   "execution_count": 31,
   "id": "6cb160a7-9b4b-4005-9e16-681bb911cdef",
   "metadata": {},
   "outputs": [
    {
     "data": {
      "text/plain": [
       "<generator object <genexpr> at 0x110e2af80>"
      ]
     },
     "execution_count": 31,
     "metadata": {},
     "output_type": "execute_result"
    }
   ],
   "source": [
    "(student.lower() for student in phd_students)"
   ]
  },
  {
   "cell_type": "markdown",
   "id": "8ac24ae5-f4e8-4bce-b2e2-7e4358e42d24",
   "metadata": {},
   "source": [
    "## Classes, Packages, .py files\n",
    "In the repo there is a module defined, irfu library.  Python knows it's a library as it includes a specially named file, `__init__.py`.  In this simple example, we could also have just written everything in `irfu_library/` into a single file and called it `irfu_library.py`.  The code below wouldn't change.\n",
    "\n",
    "Using modules is probably smarter than writing all your code in `.ipynb` files, for example.\n",
    "\n",
    "It shows definition of a `class` object that represents a book.  Classes can be a good way to keep functions and data together."
   ]
  },
  {
   "cell_type": "code",
   "execution_count": 1,
   "id": "208abd23-46fa-4252-a845-e57838ea9307",
   "metadata": {},
   "outputs": [
    {
     "name": "stdout",
     "output_type": "stream",
     "text": [
      "\"Introduction to Space Plasmas\" by Baumjohann & Treumann [9123125124]\n",
      "\"Jerusalem\" by Alan Moore [192730178]\n"
     ]
    },
    {
     "ename": "NotImplementedError",
     "evalue": "Not written this code yet, and probably never should.",
     "output_type": "error",
     "traceback": [
      "\u001b[0;31m---------------------------------------------------------------------------\u001b[0m",
      "\u001b[0;31mNotImplementedError\u001b[0m                       Traceback (most recent call last)",
      "Cell \u001b[0;32mIn[1], line 6\u001b[0m\n\u001b[1;32m      3\u001b[0m     \u001b[38;5;28mprint\u001b[39m(b)\n\u001b[1;32m      5\u001b[0m new_book \u001b[38;5;241m=\u001b[39m irfu_library\u001b[38;5;241m.\u001b[39mBook(\u001b[38;5;124m\"\u001b[39m\u001b[38;5;124mFifty shades of reconnection\u001b[39m\u001b[38;5;124m\"\u001b[39m, \u001b[38;5;124m\"\u001b[39m\u001b[38;5;124mAnonymous Space Physicist\u001b[39m\u001b[38;5;124m\"\u001b[39m, \u001b[38;5;241m-\u001b[39m\u001b[38;5;241m101239\u001b[39m)\n\u001b[0;32m----> 6\u001b[0m \u001b[43mnew_book\u001b[49m\u001b[38;5;241;43m.\u001b[39;49m\u001b[43morder_from_amazon\u001b[49m\u001b[43m(\u001b[49m\u001b[43m)\u001b[49m\n",
      "File \u001b[0;32m~/code_projects/irfu-python-workshop/tutorials/notebooks/irfu_library/books.py:21\u001b[0m, in \u001b[0;36mBook.order_from_amazon\u001b[0;34m(self, copies)\u001b[0m\n\u001b[1;32m     20\u001b[0m \u001b[38;5;28;01mdef\u001b[39;00m \u001b[38;5;21morder_from_amazon\u001b[39m(\u001b[38;5;28mself\u001b[39m, copies \u001b[38;5;241m=\u001b[39m \u001b[38;5;241m1e99\u001b[39m):\n\u001b[0;32m---> 21\u001b[0m     \u001b[38;5;28;01mraise\u001b[39;00m \u001b[38;5;167;01mNotImplementedError\u001b[39;00m(\u001b[38;5;124m\"\u001b[39m\u001b[38;5;124mNot written this code yet, and probably never should.\u001b[39m\u001b[38;5;124m\"\u001b[39m)\n",
      "\u001b[0;31mNotImplementedError\u001b[0m: Not written this code yet, and probably never should."
     ]
    }
   ],
   "source": [
    "import irfu_library # relative import, .. gives us the parent directory\n",
    "for b in irfu_library.library:\n",
    "    print(b)\n",
    "\n",
    "new_book = irfu_library.Book(\"Fifty shades of reconnection\", \"Anonymous Space Physicist\", -101239)\n",
    "new_book.order_from_amazon()"
   ]
  },
  {
   "cell_type": "markdown",
   "id": "2d2b3b4e-c7cb-4caa-bec2-16137ba7fedf",
   "metadata": {},
   "source": [
    "---\n",
    "## Generators"
   ]
  },
  {
   "cell_type": "code",
   "execution_count": 32,
   "id": "87809aba-172e-434b-be91-ec89b3d857a4",
   "metadata": {},
   "outputs": [
    {
     "data": {
      "text/plain": [
       "<generator object <genexpr> at 0x110e2b0d0>"
      ]
     },
     "execution_count": 32,
     "metadata": {},
     "output_type": "execute_result"
    }
   ],
   "source": [
    "phd_students_lower = (student.lower() for student in phd_students)\n",
    "phd_students_lower"
   ]
  },
  {
   "cell_type": "markdown",
   "id": "b8edac31-365f-41da-a1a6-ac6dc07c1164",
   "metadata": {},
   "source": [
    "### generators are lazy iterators which unlike lists do not store their contents in memory."
   ]
  },
  {
   "cell_type": "code",
   "execution_count": 33,
   "id": "1d057db1-2937-4829-b6ad-987a74389f26",
   "metadata": {},
   "outputs": [
    {
     "name": "stdout",
     "output_type": "stream",
     "text": [
      "104 120\n"
     ]
    }
   ],
   "source": [
    "import sys\n",
    "print(sys.getsizeof(phd_students_lower), sys.getsizeof(list(phd_students_lower)))"
   ]
  },
  {
   "cell_type": "markdown",
   "id": "bc0f0fd5-5142-44e5-bd48-4718efb45361",
   "metadata": {},
   "source": [
    "## Lambdas, maps, filters\n",
    "Lambda functions are just small functions, that only contain a single expression.  Nothing special otherwise."
   ]
  },
  {
   "cell_type": "code",
   "execution_count": 34,
   "id": "e1537e1f-cc76-4bc1-bbb9-7f80d9946d74",
   "metadata": {},
   "outputs": [
    {
     "data": {
      "text/plain": [
       "['Ahmad', 'Ida', 'Jordi', 'Konstantin', 'Jack']"
      ]
     },
     "execution_count": 34,
     "metadata": {},
     "output_type": "execute_result"
    }
   ],
   "source": [
    "get_student_name = lambda item: item[0]\n",
    "[get_student_name(item) for item in phd_students_supervisor.items()]"
   ]
  },
  {
   "cell_type": "markdown",
   "id": "6a37f0a0-9346-4fb3-ae35-7e2104bd5a29",
   "metadata": {},
   "source": [
    "## Maps and filters"
   ]
  },
  {
   "cell_type": "markdown",
   "id": "8d7fb6e4-bd12-45fb-ab7e-5edec15de647",
   "metadata": {},
   "source": [
    "### map creates a generator object which uses lazy evaluation of a function/lambda over an iterable"
   ]
  },
  {
   "cell_type": "code",
   "execution_count": 35,
   "id": "adb23a46-a8c9-4e02-8ba0-8b47b791d4b4",
   "metadata": {},
   "outputs": [
    {
     "data": {
      "text/plain": [
       "<map at 0x111042590>"
      ]
     },
     "execution_count": 35,
     "metadata": {},
     "output_type": "execute_result"
    }
   ],
   "source": [
    "phd_students_lower_map = map(str.lower, phd_students)\n",
    "phd_students_lower_map"
   ]
  },
  {
   "cell_type": "markdown",
   "id": "acb613b9-50af-4641-90b9-1391aabd702b",
   "metadata": {},
   "source": [
    "### filter creates a generator object which uses lazy evaluation of a condition over an iterable"
   ]
  },
  {
   "cell_type": "code",
   "execution_count": 36,
   "id": "8882a7cb-bbbb-4d3b-b3d2-49ffc575196d",
   "metadata": {},
   "outputs": [
    {
     "data": {
      "text/plain": [
       "['Konstantin']"
      ]
     },
     "execution_count": 36,
     "metadata": {},
     "output_type": "execute_result"
    }
   ],
   "source": [
    "supervisor = \"Niklas\"\n",
    "matched_items = list(filter(lambda item: item[1] == supervisor, phd_students_supervisor.items()))\n",
    "matched_students = list(map(lambda item: item[0], matched_items))\n",
    "matched_students"
   ]
  },
  {
   "cell_type": "markdown",
   "id": "03a1eacd-0506-49a7-a0f9-4cc508a9663a",
   "metadata": {},
   "source": [
    "## Exceptions\n",
    "We've met a few already by now.  They are useful ways to structure your code.  Sometimes it's better to ask for forgiveness, rather than permission."
   ]
  },
  {
   "cell_type": "code",
   "execution_count": 37,
   "id": "04038a7a-3b52-427f-89f6-87aed08217d5",
   "metadata": {},
   "outputs": [],
   "source": [
    "from typing import List\n",
    "# \n",
    "\n",
    "def get_phd_students(supervisor: str) -> List[int]:\n",
    "    r\"\"\"Get PhD students supervised by `supervisor`.\n",
    "\n",
    "    Parameters\n",
    "    ----------\n",
    "    supervisor : str\n",
    "        Name of supervisor.\n",
    "\n",
    "    Returns\n",
    "    -------\n",
    "    matched_students : list\n",
    "        List of the names of the students supervised by `supervisor`.\n",
    "\n",
    "    Raises\n",
    "    ------\n",
    "    ValueError\n",
    "        If `supervisor` is not a supervisor.\n",
    "\n",
    "    \"\"\"\n",
    "\n",
    "    if supervisor in phd_students_supervisor.values():\n",
    "        # Find items where the value is `supervisor`\n",
    "        matched_items = list(filter(lambda item: item[1] == supervisor, phd_students_supervisor.items()))\n",
    "\n",
    "        # Get the first element (key) of the items, i.e., the PhD student name\n",
    "        matched_students = list(map(lambda item: item[0], matched_items))\n",
    "    else:\n",
    "        raise ValueError(f\"{supervisor} has no PhD students\")\n",
    "\n",
    "    return matched_students\n",
    "    "
   ]
  },
  {
   "cell_type": "code",
   "execution_count": 38,
   "id": "c720f128-4999-49ea-9ba5-2b670d693f06",
   "metadata": {},
   "outputs": [
    {
     "ename": "ValueError",
     "evalue": "Erik has not PhD students",
     "output_type": "error",
     "traceback": [
      "\u001b[0;31m---------------------------------------------------------------------------\u001b[0m",
      "\u001b[0;31mValueError\u001b[0m                                Traceback (most recent call last)",
      "Cell \u001b[0;32mIn[38], line 1\u001b[0m\n\u001b[0;32m----> 1\u001b[0m \u001b[43mget_phd_students\u001b[49m\u001b[43m(\u001b[49m\u001b[38;5;124;43m\"\u001b[39;49m\u001b[38;5;124;43mErik\u001b[39;49m\u001b[38;5;124;43m\"\u001b[39;49m\u001b[43m)\u001b[49m\n",
      "Cell \u001b[0;32mIn[37], line 30\u001b[0m, in \u001b[0;36mget_phd_students\u001b[0;34m(supervisor)\u001b[0m\n\u001b[1;32m     28\u001b[0m     matched_students \u001b[38;5;241m=\u001b[39m \u001b[38;5;28mlist\u001b[39m(\u001b[38;5;28mmap\u001b[39m(\u001b[38;5;28;01mlambda\u001b[39;00m item: item[\u001b[38;5;241m0\u001b[39m], matched_items))\n\u001b[1;32m     29\u001b[0m \u001b[38;5;28;01melse\u001b[39;00m:\n\u001b[0;32m---> 30\u001b[0m     \u001b[38;5;28;01mraise\u001b[39;00m \u001b[38;5;167;01mValueError\u001b[39;00m(\u001b[38;5;124mf\u001b[39m\u001b[38;5;124m\"\u001b[39m\u001b[38;5;132;01m{\u001b[39;00msupervisor\u001b[38;5;132;01m}\u001b[39;00m\u001b[38;5;124m has not PhD students\u001b[39m\u001b[38;5;124m\"\u001b[39m)\n\u001b[1;32m     32\u001b[0m \u001b[38;5;28;01mreturn\u001b[39;00m matched_students\n",
      "\u001b[0;31mValueError\u001b[0m: Erik has not PhD students"
     ]
    }
   ],
   "source": [
    "get_phd_students(\"Erik\")"
   ]
  },
  {
   "cell_type": "code",
   "execution_count": null,
   "id": "8bd26754-ca38-43a3-90bd-1f76f5e6f726",
   "metadata": {},
   "outputs": [],
   "source": []
  },
  {
   "cell_type": "code",
   "execution_count": 39,
   "id": "7307d430-42e4-4c21-b3c3-10328806f521",
   "metadata": {},
   "outputs": [
    {
     "name": "stdout",
     "output_type": "stream",
     "text": [
      "Anders has not PhD students\n",
      "Andrew has not PhD students\n",
      "Cecilia has not PhD students\n",
      "Daniel's PhD student is ['Jordi']\n",
      "Dave has not PhD students\n",
      "Emiliya's PhD student is ['Ida']\n",
      "Erik has not PhD students\n",
      "Jan-Erik has not PhD students\n",
      "Michiko has not PhD students\n",
      "Stephan has not PhD students\n",
      "Yuri's PhD students are ['Ahmad', 'Jack']\n"
     ]
    }
   ],
   "source": [
    "scientists = [\"Andrew\", \"Dave\", \"Michiko\", \"Erik\", \"Jan-Erik\", \"Anders\", \"Stephan\", \"Daniel\", \"Emiliya\", \"Cecilia\", \"Yuri\"]\n",
    "scientists.sort()\n",
    "\n",
    "for scientist in scientists:\n",
    "    try: \n",
    "        result = get_phd_students(scientist)\n",
    "        print(f\"{scientist}'s PhD student{'s are' if len(result) > 1 else ' is'} {result}\")\n",
    "    except ValueError as err:\n",
    "        print(err)"
   ]
  },
  {
   "cell_type": "markdown",
   "id": "a52bdfff-52d2-4f51-ab6c-1e93e8b57ad9",
   "metadata": {},
   "source": [
    "---\n",
    "## Excercises\n",
    "Each of these cells is broken in some way.  Have a go at fixing them."
   ]
  },
  {
   "cell_type": "code",
   "execution_count": 51,
   "id": "61502d4a-53c8-411a-a6b8-e0dfe3b023b2",
   "metadata": {},
   "outputs": [
    {
     "name": "stdout",
     "output_type": "stream",
     "text": [
      "['MMS']\n",
      "['MMS', 'MMS']\n"
     ]
    }
   ],
   "source": [
    "# There are two errors here.\n",
    "# This is conceptually a bit tricky, but illustrates a common mistake that can be about function default variable initialization\n",
    "def something(input_list = [], to_add = 'MMS'):\n",
    "    \"\"\"Function that appends `to_add` to the `input_list` and returns it.\"\"\"\n",
    "    return append(to_add)\n",
    "\n",
    "print(something())\n",
    "print(something())"
   ]
  },
  {
   "cell_type": "code",
   "execution_count": 56,
   "id": "c0121924-0c17-4e62-a128-f3a9c205feab",
   "metadata": {},
   "outputs": [
    {
     "name": "stdout",
     "output_type": "stream",
     "text": [
      "[5, 6, 7, 8]\n",
      "[5, 6, 7, 8]\n",
      "True\n"
     ]
    }
   ],
   "source": [
    "# Is this doing what you might expect?  What about using enumerate instead, somehow?\n",
    "def something(some_input):\n",
    "    \"\"\"Add four to everything in the array\"\"\"\n",
    "    for i in some_input:\n",
    "        i += 4\n",
    "\n",
    "    return some_input\n",
    "    \n",
    "x = [1,2,3,4]\n",
    "x2 = something(x)\n",
    "print(x)\n",
    "print(x2)\n",
    "print(x2 is x)"
   ]
  },
  {
   "cell_type": "code",
   "execution_count": 61,
   "id": "e9fa1145-a5ea-4644-8a2a-0549d2fafde5",
   "metadata": {},
   "outputs": [
    {
     "name": "stdout",
     "output_type": "stream",
     "text": [
      "['Jan-Erik', 'Emiliya', 'Yuri']\n"
     ]
    },
    {
     "data": {
      "text/plain": [
       "['Jan-Erik', 'Emiliya', 'Yuri']"
      ]
     },
     "execution_count": 61,
     "metadata": {},
     "output_type": "execute_result"
    }
   ],
   "source": [
    "# Clean up this mess using a (nested) list comprehension instead, together with `any()`, perhaps?\n",
    "scientists = [\"Andrew\", \"Dave\", \"Michiko\", \"Erik\", \"Jan-Erik\", \"Anders\", \"Stephan\", \"Daniel\", \"Emiliya\", \"Cecilia\", \"Yuri\"]\n",
    "some_scientists = []\n",
    "for s in scientists:\n",
    "    if \"Y\" in s.upper():\n",
    "        some_scientists.append(s)\n",
    "    elif \"J\" in s.upper():\n",
    "        some_scientists.append(s)\n",
    "print(some_scientists)"
   ]
  },
  {
   "cell_type": "code",
   "execution_count": null,
   "id": "cecf31fd-c7fb-49b7-850f-5578f316068f",
   "metadata": {},
   "outputs": [],
   "source": []
  }
 ],
 "metadata": {
  "kernelspec": {
   "display_name": "Python 3 (ipykernel)",
   "language": "python",
   "name": "python3"
  },
  "language_info": {
   "codemirror_mode": {
    "name": "ipython",
    "version": 3
   },
   "file_extension": ".py",
   "mimetype": "text/x-python",
   "name": "python",
   "nbconvert_exporter": "python",
   "pygments_lexer": "ipython3",
   "version": "3.10.13"
  }
 },
 "nbformat": 4,
 "nbformat_minor": 5
}
