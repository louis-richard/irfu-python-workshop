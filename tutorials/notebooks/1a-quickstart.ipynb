{
 "cells": [
  {
   "cell_type": "markdown",
   "id": "7cd734b7-a95e-45e9-bb66-78e50bc69277",
   "metadata": {},
   "source": [
    "# IRF - Uppsala Python Workshop: Snakes in Space 🐍\n",
    "author: Louis Richard\n",
    "e-mail: louisr@irfu.se\n",
    "date: 29/02/2024"
   ]
  },
  {
   "cell_type": "markdown",
   "id": "12036d17-23be-4cfd-b388-a12eb5dcc663",
   "metadata": {},
   "source": [
    "## Quickstart:\n",
    "- How to import packages?\n",
    "- Name variable, name reference\n",
    "- Data structures: dictionnaries, lists, tuples\n",
    "- Lists and dictionnaries in comprehension\n",
    "- Generators\n",
    "- lambdas\n",
    "- maps and filters\n",
    "- exceptions"
   ]
  },
  {
   "cell_type": "markdown",
   "id": "1eba1b27-f7de-44a4-a42b-26b0009499cc",
   "metadata": {},
   "source": [
    "## How to import packages?"
   ]
  },
  {
   "cell_type": "code",
   "execution_count": 45,
   "id": "448979fe-46b4-4f22-b99b-eb0cb02ad45d",
   "metadata": {},
   "outputs": [],
   "source": [
    "import os, glob"
   ]
  },
  {
   "cell_type": "markdown",
   "id": "7d708377-9d16-4480-b32c-1d23108ea690",
   "metadata": {},
   "source": [
    "### To import a specific function or (sub-)module from a package"
   ]
  },
  {
   "cell_type": "code",
   "execution_count": 2,
   "id": "0f011f7c-44cb-4c6f-a1b3-2929becd5acc",
   "metadata": {},
   "outputs": [],
   "source": [
    "from math import sqrt"
   ]
  },
  {
   "cell_type": "markdown",
   "id": "b1b66ebf-c21b-40ff-8239-d4d799da1d03",
   "metadata": {},
   "source": [
    "### one should NOT do that"
   ]
  },
  {
   "cell_type": "code",
   "execution_count": 3,
   "id": "c4788386-89bb-42e3-bda6-63accf68c5e0",
   "metadata": {},
   "outputs": [],
   "source": [
    "from math import *"
   ]
  },
  {
   "cell_type": "markdown",
   "id": "0290dbd5-796f-42f5-a45f-295de560d3b9",
   "metadata": {},
   "source": [
    "## Name variable, name reference"
   ]
  },
  {
   "cell_type": "code",
   "execution_count": 4,
   "id": "7d74b94e-e780-4ed2-b19c-c8376ab0f500",
   "metadata": {},
   "outputs": [],
   "source": [
    "a = 10\n",
    "b = 2"
   ]
  },
  {
   "cell_type": "code",
   "execution_count": 5,
   "id": "eed42026-1352-4ce6-86a9-e075df176153",
   "metadata": {},
   "outputs": [
    {
     "name": "stdout",
     "output_type": "stream",
     "text": [
      "2 2\n"
     ]
    }
   ],
   "source": [
    "a = b\n",
    "b = a\n",
    "print(a, b)"
   ]
  },
  {
   "cell_type": "code",
   "execution_count": 6,
   "id": "5cff45dd-eb35-4afa-837c-9de71ca4038a",
   "metadata": {},
   "outputs": [],
   "source": [
    "a = 10\n",
    "b = 2"
   ]
  },
  {
   "cell_type": "code",
   "execution_count": 7,
   "id": "2b2fd6d5-6b95-4b28-a99e-97e481fd135a",
   "metadata": {},
   "outputs": [
    {
     "name": "stdout",
     "output_type": "stream",
     "text": [
      "2 10\n"
     ]
    }
   ],
   "source": [
    "a, b = b, a\n",
    "print(a, b)"
   ]
  },
  {
   "cell_type": "markdown",
   "id": "869dba3e-6dee-46bf-9563-10cdec4c2b07",
   "metadata": {},
   "source": [
    "### Can you figure out why?"
   ]
  },
  {
   "cell_type": "markdown",
   "id": "3d5eae4a-89dc-47da-9bd6-ebc4fca39006",
   "metadata": {},
   "source": [
    "## Dictionnaries, lists, tuples, and sets"
   ]
  },
  {
   "cell_type": "markdown",
   "id": "efe4ac43-5003-419e-bff1-d396a981505e",
   "metadata": {},
   "source": [
    "### Dictionnaries"
   ]
  },
  {
   "cell_type": "code",
   "execution_count": 8,
   "id": "9fa59f86-a2a2-49a2-974c-9c040ce84ab2",
   "metadata": {},
   "outputs": [],
   "source": [
    "phd_students_supervisor = {\"Ahmad\": \"Yuri\", \"Ida\": \"Emiliya\", \"Jordi\": \"Daniel\", \"Konstantin\": \"Niklas\", \"Jack\": \"Yuri\"}"
   ]
  },
  {
   "cell_type": "markdown",
   "id": "b80697fb-c55a-4990-ae4f-dd680ed4dd3a",
   "metadata": {},
   "source": [
    "#### or"
   ]
  },
  {
   "cell_type": "code",
   "execution_count": 9,
   "id": "861bcf68-fc69-4e85-82d0-c64ac0b97117",
   "metadata": {},
   "outputs": [],
   "source": [
    "phd_students_supervisor = dict(Ahmad=\"Yuri\", Ida=\"Emiliya\", Jordi=\"Daniel\", Konstantin=\"Niklas\", Jack=\"Yuri\")"
   ]
  },
  {
   "cell_type": "markdown",
   "id": "02f3274f-3559-410a-ad66-44dbadaf83be",
   "metadata": {},
   "source": [
    "#### Dictionary are indexed by keys"
   ]
  },
  {
   "cell_type": "code",
   "execution_count": 10,
   "id": "4ff56819-36bf-428b-8401-e1d3a73a0c20",
   "metadata": {},
   "outputs": [
    {
     "data": {
      "text/plain": [
       "'Emiliya'"
      ]
     },
     "execution_count": 10,
     "metadata": {},
     "output_type": "execute_result"
    }
   ],
   "source": [
    "phd_students_supervisor[\"Ida\"]"
   ]
  },
  {
   "cell_type": "markdown",
   "id": "c654d407-7981-4c53-883a-eab779f19fba",
   "metadata": {},
   "source": [
    "#### To get the keys and values"
   ]
  },
  {
   "cell_type": "code",
   "execution_count": 11,
   "id": "e21265e1-f817-4e48-9432-9bf9f04f3280",
   "metadata": {},
   "outputs": [
    {
     "data": {
      "text/plain": [
       "dict_keys(['Ahmad', 'Ida', 'Jordi', 'Konstantin', 'Jack'])"
      ]
     },
     "execution_count": 11,
     "metadata": {},
     "output_type": "execute_result"
    }
   ],
   "source": [
    "phd_students_supervisor.keys()"
   ]
  },
  {
   "cell_type": "code",
   "execution_count": 12,
   "id": "689bacfa-8636-44b7-a941-cef210f0082f",
   "metadata": {},
   "outputs": [
    {
     "data": {
      "text/plain": [
       "dict_values(['Yuri', 'Emiliya', 'Daniel', 'Niklas', 'Yuri'])"
      ]
     },
     "execution_count": 12,
     "metadata": {},
     "output_type": "execute_result"
    }
   ],
   "source": [
    "phd_students_supervisor.values()"
   ]
  },
  {
   "cell_type": "code",
   "execution_count": 13,
   "id": "5f6de050-d8d9-4e98-a773-9626fa7be575",
   "metadata": {},
   "outputs": [
    {
     "data": {
      "text/plain": [
       "dict_items([('Ahmad', 'Yuri'), ('Ida', 'Emiliya'), ('Jordi', 'Daniel'), ('Konstantin', 'Niklas'), ('Jack', 'Yuri')])"
      ]
     },
     "execution_count": 13,
     "metadata": {},
     "output_type": "execute_result"
    }
   ],
   "source": [
    "phd_students_supervisor.items()"
   ]
  },
  {
   "cell_type": "code",
   "execution_count": null,
   "id": "66234111-65b6-4217-a117-f3a2057610a3",
   "metadata": {},
   "outputs": [],
   "source": []
  },
  {
   "cell_type": "code",
   "execution_count": 14,
   "id": "b4970db9-e7fc-4d3b-8f30-018e572e626b",
   "metadata": {
    "scrolled": true
   },
   "outputs": [
    {
     "name": "stdout",
     "output_type": "stream",
     "text": [
      "Ahmad's supervisor is Yuri\n",
      "Ida's supervisor is Emiliya\n",
      "Jordi's supervisor is Daniel\n",
      "Konstantin's supervisor is Niklas\n",
      "Jack's supervisor is Yuri\n"
     ]
    }
   ],
   "source": [
    "for student, supervisor in phd_students_supervisor.items():\n",
    "    print(f\"{student:s}'s supervisor is {supervisor:s}\")  # f-strings"
   ]
  },
  {
   "cell_type": "markdown",
   "id": "2c80a8d1-04dc-400e-b892-f8f6cff8fd71",
   "metadata": {},
   "source": [
    "### Lists"
   ]
  },
  {
   "cell_type": "code",
   "execution_count": 18,
   "id": "4e50e987-a721-493d-bb7c-52a3c352a5fc",
   "metadata": {},
   "outputs": [],
   "source": [
    "old_phd_students = [\"Louis\", \"Ahmad\", \"Ida\", \"Jordi\", \"Konstantin\"]"
   ]
  },
  {
   "cell_type": "markdown",
   "id": "e4a70593-4961-4ca3-ad81-43466583d12a",
   "metadata": {},
   "source": [
    "#### or"
   ]
  },
  {
   "cell_type": "code",
   "execution_count": 19,
   "id": "f10285ed-7e94-4150-a73b-96a37c883556",
   "metadata": {},
   "outputs": [],
   "source": [
    "phd_students = list(phd_students_supervisor.keys())\n",
    "phd_supervisors = list(phd_students_supervisor.values())"
   ]
  },
  {
   "cell_type": "markdown",
   "id": "1eda465f-0dec-4fef-bcde-ad1c1ad8db58",
   "metadata": {},
   "source": [
    "#### Lists can be inhomogeneous"
   ]
  },
  {
   "cell_type": "code",
   "execution_count": 20,
   "id": "eb87ad6d-43e0-479b-b18f-f707328b9224",
   "metadata": {},
   "outputs": [
    {
     "name": "stdout",
     "output_type": "stream",
     "text": [
      "my_list 0th element (1) is a <class 'int'>\n",
      "my_list 1th element (['Ahmad', 'Ida', 'Jordi', 'Konstantin', 'Jack']) is a <class 'list'>\n",
      "my_list 2th element (1000000.0) is a <class 'float'>\n",
      "my_list 3th element (False) is a <class 'bool'>\n"
     ]
    }
   ],
   "source": [
    "my_list = [1, phd_students, 1e6, False]\n",
    "\n",
    "for i, element in enumerate(my_list):\n",
    "    print(f\"my_list {i:d}th element ({element}) is a {type(element)}\")"
   ]
  },
  {
   "cell_type": "markdown",
   "id": "f7d637d9-79db-47c0-815d-89857c95f79a",
   "metadata": {},
   "source": [
    "#### Index start at 0 not 1"
   ]
  },
  {
   "cell_type": "code",
   "execution_count": 21,
   "id": "5748519a-c74f-4b8d-b460-ac4d36aced07",
   "metadata": {},
   "outputs": [
    {
     "data": {
      "text/plain": [
       "\"The 'oldest' PhD student is Ahmad\""
      ]
     },
     "execution_count": 21,
     "metadata": {},
     "output_type": "execute_result"
    }
   ],
   "source": [
    "f\"The 'oldest' PhD student is {phd_students[0]:s}\""
   ]
  },
  {
   "cell_type": "markdown",
   "id": "106d4a46-9a3f-43c3-a8a8-764ab290497e",
   "metadata": {},
   "source": [
    "#### Remove element from list"
   ]
  },
  {
   "cell_type": "code",
   "execution_count": 22,
   "id": "b686c715-faf1-41a6-b389-79c613d118a4",
   "metadata": {},
   "outputs": [
    {
     "name": "stdout",
     "output_type": "stream",
     "text": [
      "Goodbye Louis!!\n"
     ]
    }
   ],
   "source": [
    "fired = old_phd_students.pop(0)\n",
    "print(f\"Goodbye {fired:s}!!\")"
   ]
  },
  {
   "cell_type": "markdown",
   "id": "c9a97285-fc6f-485d-b9e0-6a4f7cfb43e5",
   "metadata": {},
   "source": [
    "#### Concatenate lists"
   ]
  },
  {
   "cell_type": "code",
   "execution_count": 23,
   "id": "7015788b-0a32-4e04-bb5a-e1afc1d1b2d2",
   "metadata": {},
   "outputs": [
    {
     "data": {
      "text/plain": [
       "['Ahmad', 'Ida', 'Jordi', 'Konstantin', 'Jack']"
      ]
     },
     "execution_count": 23,
     "metadata": {},
     "output_type": "execute_result"
    }
   ],
   "source": [
    "old_phd_students + [\"Jack\"]"
   ]
  },
  {
   "cell_type": "markdown",
   "id": "74ead1eb-f3b2-4ad6-bc44-5fa4120098b1",
   "metadata": {},
   "source": [
    "#### or"
   ]
  },
  {
   "cell_type": "code",
   "execution_count": 24,
   "id": "d4b32464-0bd5-4a68-a562-d63ba52fdd31",
   "metadata": {},
   "outputs": [
    {
     "data": {
      "text/plain": [
       "['Ahmad', 'Ida', 'Jordi', 'Konstantin', 'Jack']"
      ]
     },
     "execution_count": 24,
     "metadata": {},
     "output_type": "execute_result"
    }
   ],
   "source": [
    "[*old_phd_students, \"Jack\"]"
   ]
  },
  {
   "cell_type": "markdown",
   "id": "2247bee2-257d-4d23-be2d-a825c43dedeb",
   "metadata": {},
   "source": [
    "#### Lists allow items comparison"
   ]
  },
  {
   "cell_type": "code",
   "execution_count": 25,
   "id": "d87d1034-c05f-4e17-ac2f-c0949919018f",
   "metadata": {},
   "outputs": [
    {
     "data": {
      "text/plain": [
       "True"
      ]
     },
     "execution_count": 25,
     "metadata": {},
     "output_type": "execute_result"
    }
   ],
   "source": [
    "[*old_phd_students, \"Jack\"] == phd_students"
   ]
  },
  {
   "cell_type": "markdown",
   "id": "355818da-3213-4dc2-a7dd-eba20ad71cbf",
   "metadata": {},
   "source": [
    "#### Inplace list extension"
   ]
  },
  {
   "cell_type": "code",
   "execution_count": 26,
   "id": "f5c314cc-7e2b-47b4-a072-14b529c009d7",
   "metadata": {},
   "outputs": [
    {
     "data": {
      "text/plain": [
       "['Ahmad', 'Ida', 'Jordi', 'Konstantin', 'Jack']"
      ]
     },
     "execution_count": 26,
     "metadata": {},
     "output_type": "execute_result"
    }
   ],
   "source": [
    "old_phd_students.append(\"Jack\")\n",
    "old_phd_students"
   ]
  },
  {
   "cell_type": "markdown",
   "id": "dbade43a-1678-4d7b-a190-2187e38bcab2",
   "metadata": {},
   "source": [
    "#### Lists allow negative indices to access the last elements"
   ]
  },
  {
   "cell_type": "code",
   "execution_count": 27,
   "id": "42d84f43-6db0-4d08-881b-322fe80e7f76",
   "metadata": {},
   "outputs": [
    {
     "data": {
      "text/plain": [
       "'Welcome Jack!!'"
      ]
     },
     "execution_count": 27,
     "metadata": {},
     "output_type": "execute_result"
    }
   ],
   "source": [
    "f\"Welcome {phd_students[-1]:s}!!\""
   ]
  },
  {
   "cell_type": "markdown",
   "id": "a316874e-cbb0-4dc5-8d3a-f5a6b79fc8ef",
   "metadata": {},
   "source": [
    "### Tuples"
   ]
  },
  {
   "cell_type": "code",
   "execution_count": 28,
   "id": "5b7beb3f-9af9-4b7b-8270-9fbbed0effdf",
   "metadata": {
    "scrolled": true
   },
   "outputs": [],
   "source": [
    "phd_students = (\"Ahmad\", \"Ida\", \"Jordi\", \"Konstantin\", \"Jack\")"
   ]
  },
  {
   "cell_type": "markdown",
   "id": "c7028b4d-ca3f-4f69-8e20-76d3929159ac",
   "metadata": {},
   "source": [
    "#### or "
   ]
  },
  {
   "cell_type": "code",
   "execution_count": 29,
   "id": "eca7227a-325e-49d9-93aa-267dd5159f71",
   "metadata": {},
   "outputs": [
    {
     "data": {
      "text/plain": [
       "('Ahmad', 'Ida', 'Jordi', 'Konstantin', 'Jack')"
      ]
     },
     "execution_count": 29,
     "metadata": {},
     "output_type": "execute_result"
    }
   ],
   "source": [
    "phd_students = tuple(phd_students_supervisor.keys())\n",
    "phd_students"
   ]
  },
  {
   "cell_type": "markdown",
   "id": "318a4626-da37-42c6-bd4a-8cbf1b3fadde",
   "metadata": {},
   "source": [
    "#### Tuples are immutable"
   ]
  },
  {
   "cell_type": "code",
   "execution_count": 30,
   "id": "c3eede79-d7a8-48c6-adca-7be578313cec",
   "metadata": {
    "scrolled": true
   },
   "outputs": [
    {
     "ename": "TypeError",
     "evalue": "'tuple' object does not support item assignment",
     "output_type": "error",
     "traceback": [
      "\u001b[0;31m---------------------------------------------------------------------------\u001b[0m",
      "\u001b[0;31mTypeError\u001b[0m                                 Traceback (most recent call last)",
      "Cell \u001b[0;32mIn[30], line 1\u001b[0m\n\u001b[0;32m----> 1\u001b[0m \u001b[43mphd_students\u001b[49m\u001b[43m[\u001b[49m\u001b[38;5;241;43m-\u001b[39;49m\u001b[38;5;241;43m2\u001b[39;49m\u001b[43m]\u001b[49m \u001b[38;5;241m=\u001b[39m \u001b[38;5;124m\"\u001b[39m\u001b[38;5;124mKim\u001b[39m\u001b[38;5;124m\"\u001b[39m\n",
      "\u001b[0;31mTypeError\u001b[0m: 'tuple' object does not support item assignment"
     ]
    }
   ],
   "source": [
    "phd_students[-2] = \"Kim\""
   ]
  },
  {
   "cell_type": "code",
   "execution_count": null,
   "id": "a9836349-2ca9-4681-b975-bc7291841f36",
   "metadata": {},
   "outputs": [],
   "source": []
  },
  {
   "cell_type": "markdown",
   "id": "69d54b92-d671-4ed9-8abe-d514137844a7",
   "metadata": {},
   "source": [
    "## Lists and dictionnaries in comprehension"
   ]
  },
  {
   "cell_type": "markdown",
   "id": "360da6b3-5d56-424d-b4e8-26713f55ce1f",
   "metadata": {},
   "source": [
    "### Lists can be created iteratively"
   ]
  },
  {
   "cell_type": "code",
   "execution_count": 31,
   "id": "07f1ed62-515d-4a08-a573-b39b7d8c2306",
   "metadata": {},
   "outputs": [
    {
     "data": {
      "text/plain": [
       "['ahmad', 'ida', 'jordi', 'konstantin', 'jack']"
      ]
     },
     "execution_count": 31,
     "metadata": {},
     "output_type": "execute_result"
    }
   ],
   "source": [
    "phd_students_lower = []\n",
    "\n",
    "for student in phd_students:\n",
    "    phd_students_lower.append(student.lower())\n",
    "\n",
    "phd_students_lower"
   ]
  },
  {
   "cell_type": "markdown",
   "id": "0d262911-11c9-4e0c-968d-6f2aef8afda7",
   "metadata": {},
   "source": [
    "### or in a single line called lists in comprehension"
   ]
  },
  {
   "cell_type": "code",
   "execution_count": 34,
   "id": "9857213a-7558-4aa1-a32b-365bc382a88c",
   "metadata": {},
   "outputs": [
    {
     "data": {
      "text/plain": [
       "['ahmad', 'ida', 'jordi', 'konstantin', 'jack']"
      ]
     },
     "execution_count": 34,
     "metadata": {},
     "output_type": "execute_result"
    }
   ],
   "source": [
    "[student.lower() for student in phd_students]"
   ]
  },
  {
   "cell_type": "markdown",
   "id": "1557a608-ebcb-4264-85df-9859ba21bc2f",
   "metadata": {},
   "source": [
    "#### Same applies to dictionnaries"
   ]
  },
  {
   "cell_type": "code",
   "execution_count": 35,
   "id": "7baa71bc-27d7-4a8b-b2e5-b1b65aed581a",
   "metadata": {},
   "outputs": [
    {
     "data": {
      "text/plain": [
       "{'Ahmad': 'Yuri',\n",
       " 'Ida': 'Emiliya',\n",
       " 'Jordi': 'Daniel',\n",
       " 'Konstantin': 'Niklas',\n",
       " 'Jack': 'Yuri'}"
      ]
     },
     "execution_count": 35,
     "metadata": {},
     "output_type": "execute_result"
    }
   ],
   "source": [
    "{student: supervisor for student, supervisor in zip(phd_students, phd_supervisors)}"
   ]
  },
  {
   "cell_type": "markdown",
   "id": "9cafaf97-7669-4903-b61a-451b2e99f6d3",
   "metadata": {},
   "source": [
    "#### Warning: doesn't work for tuple"
   ]
  },
  {
   "cell_type": "code",
   "execution_count": 36,
   "id": "6cb160a7-9b4b-4005-9e16-681bb911cdef",
   "metadata": {},
   "outputs": [
    {
     "data": {
      "text/plain": [
       "<generator object <genexpr> at 0x115036c70>"
      ]
     },
     "execution_count": 36,
     "metadata": {},
     "output_type": "execute_result"
    }
   ],
   "source": [
    "(student.lower() for student in phd_students)"
   ]
  },
  {
   "cell_type": "markdown",
   "id": "bf035882-d5f8-4b27-8715-9ed23ff5035d",
   "metadata": {},
   "source": []
  },
  {
   "cell_type": "markdown",
   "id": "2d2b3b4e-c7cb-4caa-bec2-16137ba7fedf",
   "metadata": {},
   "source": [
    "## Generators"
   ]
  },
  {
   "cell_type": "code",
   "execution_count": 37,
   "id": "87809aba-172e-434b-be91-ec89b3d857a4",
   "metadata": {},
   "outputs": [
    {
     "data": {
      "text/plain": [
       "<generator object <genexpr> at 0x115036ff0>"
      ]
     },
     "execution_count": 37,
     "metadata": {},
     "output_type": "execute_result"
    }
   ],
   "source": [
    "phd_students_lower = (student.lower() for student in phd_students)\n",
    "phd_students_lower"
   ]
  },
  {
   "cell_type": "markdown",
   "id": "b8edac31-365f-41da-a1a6-ac6dc07c1164",
   "metadata": {},
   "source": [
    "### generators are lazy iterators which unlike lists do not store their contents in memory."
   ]
  },
  {
   "cell_type": "code",
   "execution_count": 38,
   "id": "1d057db1-2937-4829-b6ad-987a74389f26",
   "metadata": {},
   "outputs": [
    {
     "name": "stdout",
     "output_type": "stream",
     "text": [
      "104 120\n"
     ]
    }
   ],
   "source": [
    "import sys\n",
    "print(sys.getsizeof(phd_students_lower), sys.getsizeof(list(phd_students_lower)))"
   ]
  },
  {
   "cell_type": "code",
   "execution_count": null,
   "id": "07939220-aabf-4339-bfbb-20e94dc98823",
   "metadata": {},
   "outputs": [],
   "source": []
  },
  {
   "cell_type": "markdown",
   "id": "bc0f0fd5-5142-44e5-bd48-4718efb45361",
   "metadata": {},
   "source": [
    "## lambdas, maps, filters"
   ]
  },
  {
   "cell_type": "code",
   "execution_count": 39,
   "id": "e1537e1f-cc76-4bc1-bbb9-7f80d9946d74",
   "metadata": {},
   "outputs": [
    {
     "data": {
      "text/plain": [
       "['Ahmad', 'Ida', 'Jordi', 'Konstantin', 'Jack']"
      ]
     },
     "execution_count": 39,
     "metadata": {},
     "output_type": "execute_result"
    }
   ],
   "source": [
    "get_student_name = lambda item: item[0]\n",
    "[get_student_name(item) for item in phd_students_supervisor.items()]"
   ]
  },
  {
   "cell_type": "markdown",
   "id": "6a37f0a0-9346-4fb3-ae35-7e2104bd5a29",
   "metadata": {},
   "source": [
    "## Maps and filters"
   ]
  },
  {
   "cell_type": "markdown",
   "id": "8d7fb6e4-bd12-45fb-ab7e-5edec15de647",
   "metadata": {},
   "source": [
    "### map creates a generator object which uses lazy evaluation of a function/lambda over an iterable"
   ]
  },
  {
   "cell_type": "code",
   "execution_count": 40,
   "id": "adb23a46-a8c9-4e02-8ba0-8b47b791d4b4",
   "metadata": {},
   "outputs": [
    {
     "data": {
      "text/plain": [
       "<map at 0x11525c5e0>"
      ]
     },
     "execution_count": 40,
     "metadata": {},
     "output_type": "execute_result"
    }
   ],
   "source": [
    "phd_students_lower_map = map(str.lower, phd_students)\n",
    "phd_students_lower_map"
   ]
  },
  {
   "cell_type": "markdown",
   "id": "acb613b9-50af-4641-90b9-1391aabd702b",
   "metadata": {},
   "source": [
    "### filter creates a generator object which uses lazy evaluation of a condition over an iterable"
   ]
  },
  {
   "cell_type": "code",
   "execution_count": 41,
   "id": "8882a7cb-bbbb-4d3b-b3d2-49ffc575196d",
   "metadata": {},
   "outputs": [
    {
     "data": {
      "text/plain": [
       "['Konstantin']"
      ]
     },
     "execution_count": 41,
     "metadata": {},
     "output_type": "execute_result"
    }
   ],
   "source": [
    "supervisor = \"Niklas\"\n",
    "matched_items = list(filter(lambda item: item[1] == supervisor, phd_students_supervisor.items()))\n",
    "matched_students = list(map(lambda item: item[0], matched_items))\n",
    "matched_students"
   ]
  },
  {
   "cell_type": "markdown",
   "id": "03a1eacd-0506-49a7-a0f9-4cc508a9663a",
   "metadata": {},
   "source": [
    "## Exceptions"
   ]
  },
  {
   "cell_type": "code",
   "execution_count": 42,
   "id": "04038a7a-3b52-427f-89f6-87aed08217d5",
   "metadata": {},
   "outputs": [],
   "source": [
    "from typing import List\n",
    "\n",
    "def get_phd_students(supervisor: str) -> List[int]:\n",
    "    r\"\"\"Get PhD students supervised by `supervisor`.\n",
    "\n",
    "    Parameters\n",
    "    ----------\n",
    "    supervisor : str\n",
    "        Name of supervisor.\n",
    "\n",
    "    Returns\n",
    "    -------\n",
    "    matched_students : list\n",
    "        List of the names of the students supervised by `supervisor`.\n",
    "\n",
    "    Raises\n",
    "    ------\n",
    "    ValueError\n",
    "        If `supervisor` is not a supervisor.\n",
    "\n",
    "    \"\"\"\n",
    "\n",
    "    if supervisor in phd_students_supervisor.values():\n",
    "        # Find items where the value is `supervisor`\n",
    "        matched_items = list(filter(lambda item: item[1] == supervisor, phd_students_supervisor.items()))\n",
    "\n",
    "        # Get the first element (key) of the items, i.e., the PhD student name\n",
    "        matched_students = list(map(lambda item: item[0], matched_items))\n",
    "    else:\n",
    "        raise ValueError(f\"{supervisor} has not PhD students\")\n",
    "\n",
    "    return matched_students\n",
    "    "
   ]
  },
  {
   "cell_type": "code",
   "execution_count": 43,
   "id": "c720f128-4999-49ea-9ba5-2b670d693f06",
   "metadata": {},
   "outputs": [
    {
     "ename": "ValueError",
     "evalue": "Erik has not PhD students",
     "output_type": "error",
     "traceback": [
      "\u001b[0;31m---------------------------------------------------------------------------\u001b[0m",
      "\u001b[0;31mValueError\u001b[0m                                Traceback (most recent call last)",
      "Cell \u001b[0;32mIn[43], line 1\u001b[0m\n\u001b[0;32m----> 1\u001b[0m \u001b[43mget_phd_students\u001b[49m\u001b[43m(\u001b[49m\u001b[38;5;124;43m\"\u001b[39;49m\u001b[38;5;124;43mErik\u001b[39;49m\u001b[38;5;124;43m\"\u001b[39;49m\u001b[43m)\u001b[49m\n",
      "Cell \u001b[0;32mIn[42], line 30\u001b[0m, in \u001b[0;36mget_phd_students\u001b[0;34m(supervisor)\u001b[0m\n\u001b[1;32m     28\u001b[0m     matched_students \u001b[38;5;241m=\u001b[39m \u001b[38;5;28mlist\u001b[39m(\u001b[38;5;28mmap\u001b[39m(\u001b[38;5;28;01mlambda\u001b[39;00m item: item[\u001b[38;5;241m0\u001b[39m], matched_items))\n\u001b[1;32m     29\u001b[0m \u001b[38;5;28;01melse\u001b[39;00m:\n\u001b[0;32m---> 30\u001b[0m     \u001b[38;5;28;01mraise\u001b[39;00m \u001b[38;5;167;01mValueError\u001b[39;00m(\u001b[38;5;124mf\u001b[39m\u001b[38;5;124m\"\u001b[39m\u001b[38;5;132;01m{\u001b[39;00msupervisor\u001b[38;5;132;01m}\u001b[39;00m\u001b[38;5;124m has not PhD students\u001b[39m\u001b[38;5;124m\"\u001b[39m)\n\u001b[1;32m     32\u001b[0m \u001b[38;5;28;01mreturn\u001b[39;00m matched_students\n",
      "\u001b[0;31mValueError\u001b[0m: Erik has not PhD students"
     ]
    }
   ],
   "source": [
    "get_phd_students(\"Erik\")"
   ]
  },
  {
   "cell_type": "code",
   "execution_count": null,
   "id": "8bd26754-ca38-43a3-90bd-1f76f5e6f726",
   "metadata": {},
   "outputs": [],
   "source": []
  },
  {
   "cell_type": "code",
   "execution_count": 44,
   "id": "7307d430-42e4-4c21-b3c3-10328806f521",
   "metadata": {},
   "outputs": [
    {
     "name": "stdout",
     "output_type": "stream",
     "text": [
      "Anders has not PhD students\n",
      "Andrew has not PhD students\n",
      "Cecilia has not PhD students\n",
      "Daniel's PhD student is ['Jordi']\n",
      "Dave has not PhD students\n",
      "Emiliya's PhD student is ['Ida']\n",
      "Erik has not PhD students\n",
      "Jan-Erik has not PhD students\n",
      "Michiko has not PhD students\n",
      "Stephan has not PhD students\n",
      "Yuri's PhD students are ['Ahmad', 'Jack']\n"
     ]
    }
   ],
   "source": [
    "scientists = [\"Andrew\", \"Dave\", \"Michiko\", \"Erik\", \"Jan-Erik\", \"Anders\", \"Stephan\", \"Daniel\", \"Emiliya\", \"Cecilia\", \"Yuri\"]\n",
    "scientists.sort()\n",
    "\n",
    "for scientist in scientists:\n",
    "    try: \n",
    "        result = get_phd_students(scientist)\n",
    "        print(f\"{scientist}'s PhD student{'s are' if len(result) > 1 else ' is'} {result}\")\n",
    "    except ValueError as err:\n",
    "        print(err)"
   ]
  },
  {
   "cell_type": "code",
   "execution_count": null,
   "id": "d55a78c6-6822-4662-903e-9b1120d37018",
   "metadata": {},
   "outputs": [],
   "source": []
  }
 ],
 "metadata": {
  "kernelspec": {
   "display_name": "Python 3 (ipykernel)",
   "language": "python",
   "name": "python3"
  },
  "language_info": {
   "codemirror_mode": {
    "name": "ipython",
    "version": 3
   },
   "file_extension": ".py",
   "mimetype": "text/x-python",
   "name": "python",
   "nbconvert_exporter": "python",
   "pygments_lexer": "ipython3",
   "version": "3.10.13"
  }
 },
 "nbformat": 4,
 "nbformat_minor": 5
}
