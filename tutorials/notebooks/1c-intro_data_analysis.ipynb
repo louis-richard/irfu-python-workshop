{
 "cells": [
  {
   "cell_type": "markdown",
   "id": "422cb90b-9189-4a1e-bdf6-cc88eb31ce60",
   "metadata": {},
   "source": [
    "# IRF - Uppsala Python Workshop: Snakes in Space 🐍\n",
    "author: Louis Richard\n",
    "e-mail: louisr@irfu.se\n",
    "date: 29/02/2024"
   ]
  },
  {
   "cell_type": "markdown",
   "id": "4127e215-9af0-4f42-85b9-172503b34fc9",
   "metadata": {},
   "source": [
    "## Python for data analysis:\n",
    "- Numpy (https://numpy.org/doc/stable/index.html, https://numpy.org/doc/stable/user/numpy-for-matlab-users.html)\n",
    "- Matplotlib (https://matplotlib.org/stable/tutorials/pyplot.html)\n",
    "- Scipy (https://docs.scipy.org/doc/scipy/index.html)"
   ]
  },
  {
   "cell_type": "markdown",
   "id": "72b55549-b6b7-4456-a136-e17b9a24c06b",
   "metadata": {},
   "source": [
    "## Numpy"
   ]
  },
  {
   "cell_type": "code",
   "execution_count": 2,
   "id": "5fc0d691-8325-41da-83d7-aa819240baf1",
   "metadata": {},
   "outputs": [],
   "source": [
    "import numpy as np  # convention, shorter, saves writing numpy all the time"
   ]
  },
  {
   "cell_type": "markdown",
   "id": "5f9ecfea-a5d7-4480-8a5c-00aa189b1a2e",
   "metadata": {},
   "source": [
    "### Create an array\n",
    "numpy provides n-dimensional arrays, implemented at low-level for efficiency"
   ]
  },
  {
   "cell_type": "code",
   "execution_count": 34,
   "id": "c989b214-d9bc-4af0-bb32-e59c939f4542",
   "metadata": {},
   "outputs": [
    {
     "data": {
      "text/plain": [
       "array([[4.38230581, 4.07200501, 1.90197776],\n",
       "       [2.92363085, 0.04971818, 2.2235872 ],\n",
       "       [3.50811361, 3.10404297, 2.36857064]])"
      ]
     },
     "execution_count": 34,
     "metadata": {},
     "output_type": "execute_result"
    }
   ],
   "source": [
    "my_array = np.random.random((3, 3))\n",
    "\n",
    "# We can do maths directly with them\n",
    "my_array *= 5.\n",
    "\n",
    "\n",
    "another_array = np.zeros_like(my_array)\n",
    "a_range = np.linspace(0., 1., 64)\n",
    "another_range = np.arange(-1., 1., 0.1)\n",
    "\n",
    "my_array"
   ]
  },
  {
   "cell_type": "code",
   "execution_count": 31,
   "id": "d4181f36-7667-49fb-9fba-34e51667676b",
   "metadata": {},
   "outputs": [
    {
     "data": {
      "text/plain": [
       "array([[4.0533414, 0.9879607, 1.3324144],\n",
       "       [3.5060377, 1.2394149, 1.282555 ],\n",
       "       [2.9916131, 3.5414846, 4.733258 ]], dtype=float32)"
      ]
     },
     "execution_count": 31,
     "metadata": {},
     "output_type": "execute_result"
    }
   ],
   "source": [
    "my_array.astype(np.float32)"
   ]
  },
  {
   "cell_type": "code",
   "execution_count": 32,
   "id": "994a3bc7-0cfe-4606-ae02-458a771e64c4",
   "metadata": {},
   "outputs": [
    {
     "data": {
      "text/plain": [
       "array([[4, 0, 1],\n",
       "       [3, 1, 1],\n",
       "       [2, 3, 4]])"
      ]
     },
     "execution_count": 32,
     "metadata": {},
     "output_type": "execute_result"
    }
   ],
   "source": [
    "my_array.astype(np.int64)"
   ]
  },
  {
   "cell_type": "code",
   "execution_count": 33,
   "id": "f378f39a-3c2e-4fc9-b85d-c63ae6a0d480",
   "metadata": {},
   "outputs": [
    {
     "name": "stdout",
     "output_type": "stream",
     "text": [
      "my_array.std() = 1.3461038692267098\n",
      "Number of dimensions = 2, shape = (3, 3)\n"
     ]
    }
   ],
   "source": [
    "# Numpy arrays, like everything else, are objects, and have methods and attributes\n",
    "print(f\"{my_array.std() = }\")\n",
    "print(f\"Number of dimensions = {my_array.ndim}, shape = {my_array.shape}\")"
   ]
  },
  {
   "cell_type": "code",
   "execution_count": 48,
   "id": "2d30c9f2-f29d-425e-b034-9e5bced7fb93",
   "metadata": {},
   "outputs": [
    {
     "data": {
      "text/plain": [
       "(8, 3, 3)"
      ]
     },
     "execution_count": 48,
     "metadata": {},
     "output_type": "execute_result"
    }
   ],
   "source": [
    "# Broadcasting rules applied to numerical operations on ndarrays\n",
    "# Length-1 dimensions get expanded in e.g. element-by-element multiplication\n",
    "\n",
    "# You might want to check the shapes of these things to understand what is going on. \n",
    "id = np.identity(3)\n",
    "scalar = 3. + 1.0j\n",
    "vec = np.random.randn(8).reshape((8,1,1))\n",
    "\n",
    "(my_array * vec[:,...] * id + scalar).shape"
   ]
  },
  {
   "cell_type": "markdown",
   "id": "e0bd1481-35db-4a1f-b8c3-44d3842600bc",
   "metadata": {},
   "source": [
    "### Array slicing\n",
    "To extract / set parts of an array, re-order, re-shape.  But, such operations (generally) create only a \"view\" of the original array, not a deep copy!\n"
   ]
  },
  {
   "cell_type": "code",
   "execution_count": 49,
   "id": "9322eeaf-eb24-495f-97da-a09d668db0bc",
   "metadata": {},
   "outputs": [
    {
     "name": "stdout",
     "output_type": "stream",
     "text": [
      "[[ 3.50811361  3.10404297  2.36857064]\n",
      " [ 2.92363085 50.          2.2235872 ]\n",
      " [ 4.38230581  4.07200501  1.90197776]]\n",
      "[[ 4.38230581  4.07200501  1.90197776]\n",
      " [ 2.92363085 50.          2.2235872 ]\n",
      " [ 3.50811361  3.10404297  2.36857064]]\n"
     ]
    }
   ],
   "source": [
    "# What happens here?\n",
    "new_array = my_array \n",
    "new_array = new_array[::-1, :]\n",
    "new_array[1, 1] = 50\n",
    "print(new_array)\n",
    "print(my_array)"
   ]
  },
  {
   "cell_type": "code",
   "execution_count": 7,
   "id": "82a24240-b2f3-4d34-9fbb-2d0da6d4654a",
   "metadata": {},
   "outputs": [
    {
     "name": "stdout",
     "output_type": "stream",
     "text": [
      "[[ 0.52804931  0.80911579  0.8210062 ]\n",
      " [ 0.33164595 10.          0.06107297]\n",
      " [ 0.06135388  0.64595479  0.12943096]] [[ 0.06135388  0.64595479  0.12943096]\n",
      " [ 0.33164595 50.          0.06107297]\n",
      " [ 0.52804931  0.80911579  0.8210062 ]]\n"
     ]
    }
   ],
   "source": [
    "copy_array = my_array.copy() \n",
    "copy_array = copy_array[::-1, :]\n",
    "copy_array[1, 1] = 10\n",
    "print(copy_array, my_array)\n"
   ]
  },
  {
   "cell_type": "code",
   "execution_count": 61,
   "id": "62781e40-029d-452a-8853-87aabbb8fe54",
   "metadata": {},
   "outputs": [
    {
     "name": "stdout",
     "output_type": "stream",
     "text": [
      "[[0.39514488        nan 0.21791041]\n",
      " [0.40587476        nan        nan]\n",
      " [0.1710329         nan 0.39155376]]\n"
     ]
    }
   ],
   "source": [
    "# Using \"where\" to search and index.  \n",
    "my_array = np.random.random((3, 3))\n",
    "inx = np.where(my_array > 0.5)\n",
    "my_array[inx] = np.nan\n",
    "print(my_array)"
   ]
  },
  {
   "cell_type": "code",
   "execution_count": 87,
   "id": "20ebab51-bb41-4969-91c2-341c17d5a977",
   "metadata": {},
   "outputs": [
    {
     "data": {
      "text/plain": [
       "array([[ 3.95144875e-01, -1.00000000e+99,  2.17910412e-01],\n",
       "       [ 4.05874763e-01, -1.00000000e+99, -1.00000000e+99],\n",
       "       [ 1.71032900e-01, -1.00000000e+99,  3.91553762e-01]])"
      ]
     },
     "execution_count": 87,
     "metadata": {},
     "output_type": "execute_result"
    }
   ],
   "source": [
    "inx = np.isnan(my_array)\n",
    "my_array[inx] = -1e99\n",
    "my_array"
   ]
  },
  {
   "cell_type": "markdown",
   "id": "5b8548b2-f6e9-4b8d-944e-448885ee65ee",
   "metadata": {},
   "source": [
    "### Operating on arrays"
   ]
  },
  {
   "cell_type": "code",
   "execution_count": 83,
   "id": "6c90b2cf-34ba-4acb-a8dd-91818431f1f9",
   "metadata": {},
   "outputs": [
    {
     "data": {
      "text/plain": [
       "array([[ 0.8660254,  0.5      ,  0.       ],\n",
       "       [-0.5      ,  0.8660254,  0.       ],\n",
       "       [ 0.       ,  0.       ,  1.       ]])"
      ]
     },
     "execution_count": 83,
     "metadata": {},
     "output_type": "execute_result"
    }
   ],
   "source": [
    "theta = np.deg2rad(30)\n",
    "vec = np.array([1, 1, 1])\n",
    "mat = np.array([\n",
    "    [np.cos(theta), np.sin(theta), 0], \n",
    "    [-np.sin(theta), np.cos(theta), 0], \n",
    "    [0, 0, 1]])\n",
    "\n",
    "# Applies the broadcasting rules.  Vec gets treated as \n",
    "mat * vec"
   ]
  },
  {
   "cell_type": "code",
   "execution_count": 64,
   "id": "6b84c001-3e12-4571-b2fd-2d03907e2a46",
   "metadata": {},
   "outputs": [
    {
     "data": {
      "text/plain": [
       "array([ 0.8660254, -0.5      ,  0.       ])"
      ]
     },
     "execution_count": 64,
     "metadata": {},
     "output_type": "execute_result"
    }
   ],
   "source": [
    "np.matmul(mat, vec)"
   ]
  },
  {
   "cell_type": "code",
   "execution_count": 11,
   "id": "99c0c99c-bb28-41d3-b4e9-69d9f72ee41c",
   "metadata": {},
   "outputs": [],
   "source": [
    "r_mat = np.stack([np.array([[np.cos(theta), np.sin(theta), 0], [-np.sin(theta), np.cos(theta), 0], [0, 0, 1]]) for theta in np.random.rand(100)])"
   ]
  },
  {
   "cell_type": "code",
   "execution_count": 12,
   "id": "6d15d907-bb8c-444d-800f-32ab3313ec8f",
   "metadata": {},
   "outputs": [],
   "source": [
    "b = [1, 0, 0] * np.ones((100, 3))"
   ]
  },
  {
   "cell_type": "code",
   "execution_count": null,
   "id": "ed289839-d3b0-4bf7-a42d-8e2a1ed22894",
   "metadata": {},
   "outputs": [],
   "source": []
  },
  {
   "cell_type": "code",
   "execution_count": 13,
   "id": "bdd9fb67-25bc-4cc5-aaee-0c274ad96d00",
   "metadata": {},
   "outputs": [
    {
     "name": "stdout",
     "output_type": "stream",
     "text": [
      "(3, 4, 5, 6, 8)\n",
      "(3, 4, 5, 6, 8)\n",
      "(3, 4, 5, 6, 8)\n",
      "(100, 3, 4, 5, 6)\n",
      "(100, 3, 4, 6, 8)\n"
     ]
    }
   ],
   "source": [
    "m = np.random.rand(100, 3, 4, 5, 6, 8)\n",
    "print(m[0, :, :, :, :, :].shape)\n",
    "print(m[0].shape)\n",
    "print(m[0, ...].shape)\n",
    "print(m[..., 0].shape)\n",
    "print(m[..., 0, :, :].shape)"
   ]
  },
  {
   "cell_type": "code",
   "execution_count": 14,
   "id": "4af33818-bb6f-4625-8f40-71461348b637",
   "metadata": {},
   "outputs": [
    {
     "data": {
      "text/plain": [
       "array([ 0.76911028, -0.63911609,  0.        ])"
      ]
     },
     "execution_count": 14,
     "metadata": {},
     "output_type": "execute_result"
    }
   ],
   "source": [
    "np.matmul(r_mat[0, ...], b[0, :])"
   ]
  },
  {
   "cell_type": "code",
   "execution_count": 15,
   "id": "fdcd9a11-f42a-4ba9-b591-8e0edc079a84",
   "metadata": {},
   "outputs": [
    {
     "name": "stdout",
     "output_type": "stream",
     "text": [
      "(100, 3, 3) (100, 3) (100, 3, 1)\n"
     ]
    }
   ],
   "source": [
    "r_mat_b = np.matmul(r_mat, b[..., None])\n",
    "print(r_mat.shape, b.shape, r_mat_b.shape)"
   ]
  },
  {
   "cell_type": "markdown",
   "id": "59e968c5-39e9-4f43-9aaf-78b31b9f7d55",
   "metadata": {},
   "source": [
    "### datetime64"
   ]
  },
  {
   "cell_type": "code",
   "execution_count": 17,
   "id": "80bdbcc6-2162-46ab-ba23-2e21830176bf",
   "metadata": {},
   "outputs": [
    {
     "data": {
      "text/plain": [
       "'2017-08-07T00:00:00.000000000'"
      ]
     },
     "execution_count": 17,
     "metadata": {},
     "output_type": "execute_result"
    }
   ],
   "source": [
    "\"2017-08-07T00:00:00.000000000\""
   ]
  },
  {
   "cell_type": "code",
   "execution_count": 18,
   "id": "7d6240d8-2011-4f12-a4cd-b908c2bf7afc",
   "metadata": {},
   "outputs": [
    {
     "data": {
      "text/plain": [
       "numpy.datetime64('2017-08-07T00:00:00.000000000')"
      ]
     },
     "execution_count": 18,
     "metadata": {},
     "output_type": "execute_result"
    }
   ],
   "source": [
    "np.datetime64(\"2017-08-07T00:00:00.000000000\").astype(\"datetime64[ns]\")\n"
   ]
  },
  {
   "cell_type": "code",
   "execution_count": 19,
   "id": "b515da5e-4442-431b-b46d-b413ff764261",
   "metadata": {},
   "outputs": [
    {
     "data": {
      "text/plain": [
       "numpy.datetime64('2017')"
      ]
     },
     "execution_count": 19,
     "metadata": {},
     "output_type": "execute_result"
    }
   ],
   "source": [
    "np.datetime64(\"2017-08-07T00:00:00.000000000\").astype(\"datetime64[Y]\")"
   ]
  },
  {
   "cell_type": "code",
   "execution_count": 20,
   "id": "f0d70f07-d171-4979-8b0c-208dff2d9e1e",
   "metadata": {},
   "outputs": [
    {
     "data": {
      "text/plain": [
       "numpy.datetime64('1970-01-01T00:00:00.000000000')"
      ]
     },
     "execution_count": 20,
     "metadata": {},
     "output_type": "execute_result"
    }
   ],
   "source": [
    "np.datetime64(0, \"ns\")"
   ]
  },
  {
   "cell_type": "code",
   "execution_count": 21,
   "id": "60bc02db-2cda-4f24-bf5b-18bfb1eb7e2f",
   "metadata": {},
   "outputs": [
    {
     "name": "stdout",
     "output_type": "stream",
     "text": [
      "1970-01-01T00:00:00.000000000\n",
      "-5694969600000000000\n",
      "-5694969600000000000\n",
      "-5.6949696e+18\n"
     ]
    }
   ],
   "source": [
    "print(np.datetime64(0, \"ns\"))\n",
    "print(np.datetime64(\"1789-07-14T00:00:00.000000000\").astype(int))\n",
    "print(np.datetime64(\"1789-07-14T00:00:00.000000000\").astype(np.int64))\n",
    "print(np.datetime64(\"1789-07-14T00:00:00.000000000\").astype(np.float64))"
   ]
  },
  {
   "cell_type": "code",
   "execution_count": null,
   "id": "f3086065-46b7-4963-a3b5-3bdb91e43d9d",
   "metadata": {},
   "outputs": [],
   "source": []
  },
  {
   "cell_type": "code",
   "execution_count": 22,
   "id": "0d279bcc-feb1-4f55-9d74-9ad04cff5c20",
   "metadata": {},
   "outputs": [
    {
     "data": {
      "text/plain": [
       "1502064000000000000"
      ]
     },
     "execution_count": 22,
     "metadata": {},
     "output_type": "execute_result"
    }
   ],
   "source": [
    "np.datetime64(\"2017-08-07T00:00:00.000000000\").astype(\"datetime64[Y]\").astype(\"datetime64[m]\")\n",
    "\n",
    "np.datetime64(\"2017-08-07T00:00:00.000000000\").astype(int)"
   ]
  },
  {
   "cell_type": "markdown",
   "id": "f218bf59-36ea-4c73-b227-3312528a2822",
   "metadata": {},
   "source": [
    "---\n",
    "## Matplotlib\n",
    "Plotting library, heavily inspired by matlab (or, whatever matlab was like >>10 years ago)\n",
    "\n",
    "\n",
    "https://matplotlib.org/stable/gallery/index.html"
   ]
  },
  {
   "cell_type": "code",
   "execution_count": 80,
   "id": "8992159a-57ac-4bc4-af5e-d739658c2123",
   "metadata": {},
   "outputs": [
    {
     "data": {
      "text/plain": [
       "Text(0, 0.5, '$\\\\lambda_x$')"
      ]
     },
     "execution_count": 80,
     "metadata": {},
     "output_type": "execute_result"
    },
    {
     "data": {
      "application/vnd.jupyter.widget-view+json": {
       "model_id": "9428fec598b64b07aca84c59cc0b5e04",
       "version_major": 2,
       "version_minor": 0
      },
      "image/png": "[encoded data removed]",
      "text/html": [
       "\n",
       "            <div style=\"display: inline-block;\">\n",
       "                <div class=\"jupyter-widgets widget-label\" style=\"text-align: center;\">\n",
       "                    Figure\n",
       "                </div>\n",
       "                <img src='data:image/png;base64,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' width=640.0/>\n",
       "            </div>\n",
       "        "
      ],
      "text/plain": [
       "Canvas(toolbar=Toolbar(toolitems=[('Home', 'Reset original view', 'home', 'home'), ('Back', 'Back to previous …"
      ]
     },
     "metadata": {},
     "output_type": "display_data"
    }
   ],
   "source": [
    "# For interactive use inside a notebook:\n",
    "%matplotlib widget\n",
    "import matplotlib.pyplot as plt  # The most matlab-like interface to matplotlib\n",
    "\n",
    "fig = plt.figure()\n",
    "plt.plot(np.arange(10), marker = 'x', linestyle=\":\", color='yellow')\n",
    "plt.pcolormesh(np.random.randn(16*16).reshape(16,16))\n",
    "plt.colorbar().set_label(\"Noise\")\n",
    "plt.ylabel(r\"$\\lambda_x$\")\n",
    "# plt.savefig(\"something.pdf\")\n",
    "# plt.savefig(\"something.png\", dpi=300)"
   ]
  },
  {
   "cell_type": "markdown",
   "id": "d7879110-23f9-4793-b262-8ec2a5388112",
   "metadata": {},
   "source": [
    "---\n",
    "## SciPy\n",
    "A comprehensive package for data analysis...\n",
    "https://docs.scipy.org/doc/scipy/tutorial/index.html"
   ]
  },
  {
   "cell_type": "code",
   "execution_count": 69,
   "id": "efb8173e-7301-4565-83ef-217f6750235a",
   "metadata": {},
   "outputs": [],
   "source": [
    "from scipy.io import loadmat # To handle .mat files from matlab, for example\n",
    "from scipy.signal import welch"
   ]
  },
  {
   "cell_type": "code",
   "execution_count": 68,
   "id": "6803d863-3ecc-4985-ac02-45c982b0ed1c",
   "metadata": {},
   "outputs": [
    {
     "data": {
      "image/png": "[encoded data removed]",
      "text/plain": [
       "<Figure size 1000x600 with 1 Axes>"
      ]
     },
     "metadata": {},
     "output_type": "display_data"
    }
   ],
   "source": [
    "#  An example, putting all the above together:\n",
    "\n",
    "# Generate a sample signal (sine wave with noise)\n",
    "fs = 1000  # Sampling frequency\n",
    "t = np.arange(0, 10, 1/fs)  # Time vector from 0 to 10 seconds\n",
    "f1 = 50  # Frequency of the sine wave\n",
    "signal = np.sin(2*np.pi*f1*t) + 0.5*np.random.randn(len(t))  # Signal with added noise\n",
    "\n",
    "# Compute the Power Spectral Density (PSD) using Welch's method\n",
    "frequencies, psd = welch(signal, fs=fs, nperseg=256)\n",
    "\n",
    "# Plot the PSD\n",
    "plt.figure(figsize=(10, 6))\n",
    "plt.semilogy(frequencies, psd)\n",
    "plt.title('Power Spectral Density (PSD) using Welch\\'s Method')\n",
    "plt.xlabel('Frequency (Hz)')\n",
    "plt.ylabel('Power/Frequency (dB/Hz)')\n",
    "plt.grid(True)\n",
    "plt.show()"
   ]
  }
 ],
 "metadata": {
  "kernelspec": {
   "display_name": "Python 3 (ipykernel)",
   "language": "python",
   "name": "python3"
  },
  "language_info": {
   "codemirror_mode": {
    "name": "ipython",
    "version": 3
   },
   "file_extension": ".py",
   "mimetype": "text/x-python",
   "name": "python",
   "nbconvert_exporter": "python",
   "pygments_lexer": "ipython3",
   "version": "3.10.13"
  }
 },
 "nbformat": 4,
 "nbformat_minor": 5
}
