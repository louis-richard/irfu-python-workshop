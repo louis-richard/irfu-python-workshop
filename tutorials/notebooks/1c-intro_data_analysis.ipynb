{
 "cells": [
  {
   "cell_type": "markdown",
   "id": "422cb90b-9189-4a1e-bdf6-cc88eb31ce60",
   "metadata": {},
   "source": [
    "# IRF - Uppsala Python Workshop: Snakes in Space 🐍\n",
    "author: Louis Richard\n",
    "e-mail: louisr@irfu.se\n",
    "date: 29/02/2024"
   ]
  },
  {
   "cell_type": "markdown",
   "id": "4127e215-9af0-4f42-85b9-172503b34fc9",
   "metadata": {},
   "source": [
    "## Python for data analysis:\n",
    "- Numpy (https://numpy.org/doc/stable/index.html, https://numpy.org/doc/stable/user/numpy-for-matlab-users.html)\n",
    "- Matplotlib (https://matplotlib.org/stable/tutorials/pyplot.html)\n",
    "- Scipy (https://docs.scipy.org/doc/scipy/index.html)\n",
    "- Jupyter (https://jupyter.org/)\n",
    "These three modules are not included by default with python and will need to be installed somehow.  `pip install numpy matplotlib scipy jupyterlab`, for example"
   ]
  },
  {
   "cell_type": "markdown",
   "id": "72b55549-b6b7-4456-a136-e17b9a24c06b",
   "metadata": {},
   "source": [
    "## Numpy"
   ]
  },
  {
   "cell_type": "code",
   "execution_count": null,
   "id": "5fc0d691-8325-41da-83d7-aa819240baf1",
   "metadata": {},
   "outputs": [],
   "source": [
    "import numpy as np  # convention, shorter, saves writing numpy all the time"
   ]
  },
  {
   "cell_type": "markdown",
   "id": "5f9ecfea-a5d7-4480-8a5c-00aa189b1a2e",
   "metadata": {},
   "source": [
    "### Create an array\n",
    "numpy provides n-dimensional arrays, implemented at low-level for efficiency"
   ]
  },
  {
   "cell_type": "code",
   "execution_count": null,
   "id": "c989b214-d9bc-4af0-bb32-e59c939f4542",
   "metadata": {},
   "outputs": [],
   "source": [
    "my_array = np.random.random((3, 3))\n",
    "\n",
    "# We can do maths directly with them\n",
    "something_new = 5.0 * np.sin(my_array)**2.\n",
    "\n",
    "# There are many ways to create them.\n",
    "another_array = np.zeros_like(my_array)\n",
    "a_range = np.linspace(0., 1., 64)\n",
    "another_range = np.arange(-1., 1., 0.1)\n",
    "\n",
    "my_array"
   ]
  },
  {
   "cell_type": "code",
   "execution_count": null,
   "id": "d4181f36-7667-49fb-9fba-34e51667676b",
   "metadata": {},
   "outputs": [],
   "source": [
    "my_array.astype(np.float32)"
   ]
  },
  {
   "cell_type": "code",
   "execution_count": null,
   "id": "994a3bc7-0cfe-4606-ae02-458a771e64c4",
   "metadata": {},
   "outputs": [],
   "source": [
    "my_array.astype(np.float64) "
   ]
  },
  {
   "cell_type": "code",
   "execution_count": null,
   "id": "f378f39a-3c2e-4fc9-b85d-c63ae6a0d480",
   "metadata": {},
   "outputs": [],
   "source": [
    "# Numpy arrays, like everything else, are objects, and have methods and attributes\n",
    "print(f\"{my_array.std() = }\")\n",
    "print(f\"Number of dimensions = {my_array.ndim}, shape = {my_array.shape}\")"
   ]
  },
  {
   "cell_type": "markdown",
   "id": "2d30c9f2-f29d-425e-b034-9e5bced7fb93",
   "metadata": {},
   "source": [
    "**Broadcasting** rules applied to numerical operations on ndarrays. Length-1 dimensions get expanded in e.g. element-by-element multiplication.\n",
    "\n",
    "https://numpy.org/doc/stable/user/basics.broadcasting.html"
   ]
  },
  {
   "cell_type": "code",
   "execution_count": null,
   "id": "4ad20651",
   "metadata": {},
   "outputs": [],
   "source": [
    "\n",
    "\n",
    "# You might want to check the shapes of these things to understand what is going on. \n",
    "id_matrix = np.identity(3)\n",
    "scalar = 3. + 1.0j\n",
    "vec = np.random.randn(8).reshape((8,1,1))\n",
    "\n",
    "(my_array * vec[:,...] * id_matrix + scalar).shape"
   ]
  },
  {
   "cell_type": "markdown",
   "id": "e0bd1481-35db-4a1f-b8c3-44d3842600bc",
   "metadata": {},
   "source": [
    "### Array slicing\n",
    "To extract / set parts of an array, re-order, re-shape.  But, such operations (generally) create only a \"view\" of the original array, not a deep copy!\n"
   ]
  },
  {
   "cell_type": "code",
   "execution_count": null,
   "id": "9322eeaf-eb24-495f-97da-a09d668db0bc",
   "metadata": {},
   "outputs": [],
   "source": [
    "# What happens here?\n",
    "new_array = my_array \n",
    "new_array = new_array[::-1, :]\n",
    "new_array[1, 1] = 50\n",
    "print(new_array)\n",
    "print(my_array)"
   ]
  },
  {
   "cell_type": "code",
   "execution_count": null,
   "id": "82a24240-b2f3-4d34-9fbb-2d0da6d4654a",
   "metadata": {},
   "outputs": [],
   "source": [
    "copy_array = my_array.copy() \n",
    "copy_array = copy_array[::-1, :]\n",
    "copy_array[1, 1] = 10\n",
    "print(copy_array, my_array)\n"
   ]
  },
  {
   "cell_type": "code",
   "execution_count": null,
   "id": "62781e40-029d-452a-8853-87aabbb8fe54",
   "metadata": {},
   "outputs": [],
   "source": [
    "# Using \"where\" to search and index \n",
    "my_array = np.random.random((3, 3))\n",
    "inx = np.where(my_array > 0.5)\n",
    "my_array[inx] = np.nan\n",
    "print(my_array)"
   ]
  },
  {
   "cell_type": "code",
   "execution_count": null,
   "id": "20ebab51-bb41-4969-91c2-341c17d5a977",
   "metadata": {},
   "outputs": [],
   "source": [
    "inx = np.isnan(my_array)\n",
    "my_array[inx] = -1e99\n",
    "my_array"
   ]
  },
  {
   "cell_type": "markdown",
   "id": "5b8548b2-f6e9-4b8d-944e-448885ee65ee",
   "metadata": {},
   "source": [
    "### Operating on arrays"
   ]
  },
  {
   "cell_type": "code",
   "execution_count": null,
   "id": "6c90b2cf-34ba-4acb-a8dd-91818431f1f9",
   "metadata": {},
   "outputs": [],
   "source": [
    "theta = np.deg2rad(30)\n",
    "vec = np.array([1, 1, 1])\n",
    "mat = np.array([\n",
    "    [np.cos(theta), np.sin(theta), 0], \n",
    "    [-np.sin(theta), np.cos(theta), 0], \n",
    "    [0, 0, 1]])\n",
    "\n",
    "# Applies the broadcasting rules\n",
    "mat * vec"
   ]
  },
  {
   "cell_type": "code",
   "execution_count": null,
   "id": "6b84c001-3e12-4571-b2fd-2d03907e2a46",
   "metadata": {},
   "outputs": [],
   "source": [
    "np.matmul(mat, vec)"
   ]
  },
  {
   "cell_type": "code",
   "execution_count": null,
   "id": "99c0c99c-bb28-41d3-b4e9-69d9f72ee41c",
   "metadata": {},
   "outputs": [],
   "source": [
    "r_mat = np.stack([np.array([[np.cos(theta), np.sin(theta), 0], [-np.sin(theta), np.cos(theta), 0], [0, 0, 1]]) for theta in np.random.rand(100)])"
   ]
  },
  {
   "cell_type": "code",
   "execution_count": null,
   "id": "6d15d907-bb8c-444d-800f-32ab3313ec8f",
   "metadata": {},
   "outputs": [],
   "source": [
    "b = [1, 0, 0] * np.ones((100, 3))"
   ]
  },
  {
   "cell_type": "code",
   "execution_count": null,
   "id": "bdd9fb67-25bc-4cc5-aaee-0c274ad96d00",
   "metadata": {},
   "outputs": [],
   "source": [
    "m = np.random.rand(100, 3, 4, 5, 6, 8)\n",
    "print(m[0, :, :, :, :, :].shape)\n",
    "print(m[0].shape)\n",
    "print(m[0, ...].shape)\n",
    "print(m[..., 0].shape)\n",
    "print(m[..., 0, :, :].shape)"
   ]
  },
  {
   "cell_type": "code",
   "execution_count": null,
   "id": "4af33818-bb6f-4625-8f40-71461348b637",
   "metadata": {},
   "outputs": [],
   "source": [
    "np.matmul(r_mat[0, ...], b[0, :])"
   ]
  },
  {
   "cell_type": "code",
   "execution_count": null,
   "id": "fdcd9a11-f42a-4ba9-b591-8e0edc079a84",
   "metadata": {},
   "outputs": [],
   "source": [
    "r_mat_b = np.matmul(r_mat, b[..., None])\n",
    "print(r_mat.shape, b.shape, r_mat_b.shape)"
   ]
  },
  {
   "cell_type": "markdown",
   "id": "59e968c5-39e9-4f43-9aaf-78b31b9f7d55",
   "metadata": {},
   "source": [
    "## datetime64\n",
    "Python has the `datetime` module (\"batteries included\", remember?).  \n",
    "\n",
    "Within `numpy`, there is an implementation that can be used in array operations, `datetime64`.  Internally, dates are stored as a signed integer number of ticks of \\[precision\\], e.g. nanoseconds (giving about ±300 years of useable range from 1970).\n",
    "\n",
    "Unless you really know what you're doing, you probably want to try and stick to using nanosecond precision.\n",
    "\n",
    "Differences between `datetime64`s are implemnted as `timedelta64`s.\n"
   ]
  },
  {
   "cell_type": "code",
   "execution_count": null,
   "id": "80bdbcc6-2162-46ab-ba23-2e21830176bf",
   "metadata": {},
   "outputs": [],
   "source": [
    "# A time string\n",
    "\"2017-08-07T00:00:00.000000000\""
   ]
  },
  {
   "cell_type": "code",
   "execution_count": null,
   "id": "7d6240d8-2011-4f12-a4cd-b908c2bf7afc",
   "metadata": {},
   "outputs": [],
   "source": [
    "# Turned into a datetime64\n",
    "start = np.datetime64(\"2017-01-01T00:00:00.000000000\").astype(\"datetime64[ns]\")\n",
    "finish = np.datetime64(\"2019-01-01T00:00:00.000000000\").astype(\"datetime64[Y]\")\n",
    "print(f\"{finish - start} between {start} and {finish}\")\n",
    "finish - start"
   ]
  },
  {
   "cell_type": "code",
   "execution_count": null,
   "id": "f0d70f07-d171-4979-8b0c-208dff2d9e1e",
   "metadata": {},
   "outputs": [],
   "source": [
    "# But note, not leap-second aware!\n",
    "epoch_start = np.datetime64(0 , \"ns\")\n",
    "now = np.datetime64('now', \"ns\") \n",
    "print(epoch_start, now)"
   ]
  },
  {
   "cell_type": "code",
   "execution_count": null,
   "id": "1cde7b5a",
   "metadata": {},
   "outputs": [],
   "source": [
    "# Arithmetic using timedelta64\n",
    "one_second = np.timedelta64(1, 's')\n",
    "\n",
    "time_j2000 = np.datetime64(\"2000-01-01T12:00:00.0000\")\n",
    "time = np.datetime64(\"2024-01-01T12:00:00.0000\")\n",
    "\n",
    "dt = time - time_j2000\n",
    "elapsed_seconds = int(dt / one_second)\n",
    "print(f\"{elapsed_seconds} seconds between {time_j2000} and {time}\")\n",
    "print(f\"Note: {int(elapsed_seconds % (365.25 * 86400))} leapseconds\")  "
   ]
  },
  {
   "cell_type": "code",
   "execution_count": null,
   "id": "69d107f9-700b-4884-a720-f1cfe1e1202a",
   "metadata": {},
   "outputs": [],
   "source": [
    "# Make an array of times from start to finish\n",
    "np.arange(\n",
    "    start,\n",
    "    finish,\n",
    "    step=np.timedelta64(500, 'ms'), #step\n",
    "    dtype=\"datetime64[ns]\" # we want ns precision\n",
    ")[:2]  # show the first two only"
   ]
  },
  {
   "cell_type": "markdown",
   "id": "cdb6c656-ef08-4ace-9864-22d9c62ac36a",
   "metadata": {},
   "source": [
    "But `np.linspace` is probably best avoided, as it might give you a headache sometime"
   ]
  },
  {
   "cell_type": "code",
   "execution_count": null,
   "id": "6856e95f-f6e2-44df-8ac2-5496510e4385",
   "metadata": {},
   "outputs": [],
   "source": [
    "# OK, since linspace in this case returned an array of ints\n",
    "a = np.linspace(0, 1000, 64) * np.timedelta64(1,\"ms\") + np.datetime64(\"2024-01-01T00:00:00.000000000\")\n",
    "print(f\"a has shape {a.shape}, ranging from {a[0]} to {a[-1]} with step = {a[1] - a[0]}\")\n",
    "\n",
    "# Not ok, since we're trying to multiply our timedeltas by something less than one\n",
    "b = np.linspace(0., 1., 64) * np.timedelta64(1,\"s\") + np.datetime64(\"2024-01-01T00:00:00.000000000\")\n",
    "print(f\"b has shape {b.shape}, ranging from {b[0]} to {b[-1]} with step = {b[1] - b[0]}\")"
   ]
  },
  {
   "cell_type": "code",
   "execution_count": null,
   "id": "8d170f23-f6db-40ea-ad19-2235707939bb",
   "metadata": {},
   "outputs": [],
   "source": [
    "# To ensure e.g. nanosecond precision, timedelta64s can't be multiplied by something <1.\n",
    "print(np.linspace(0., 1., 4) * np.timedelta64(1,\"s\")) \n",
    "print(np.linspace(0., 1., 4) *1e9* np.timedelta64(1,\"ns\"))"
   ]
  },
  {
   "cell_type": "markdown",
   "id": "f218bf59-36ea-4c73-b227-3312528a2822",
   "metadata": {},
   "source": [
    "---\n",
    "## Matplotlib\n",
    "Plotting library, heavily inspired by matlab (or, whatever matlab was like >>10 years ago)\n",
    "\n",
    "\n",
    "https://matplotlib.org/stable/gallery/index.html"
   ]
  },
  {
   "cell_type": "code",
   "execution_count": null,
   "id": "8992159a-57ac-4bc4-af5e-d739658c2123",
   "metadata": {},
   "outputs": [],
   "source": [
    "# For interactive use inside a notebook:\n",
    "%matplotlib widget \n",
    "import matplotlib.pyplot as plt  # The most matlab-like interface to matplotlib"
   ]
  },
  {
   "cell_type": "code",
   "execution_count": null,
   "id": "4337a9e4",
   "metadata": {},
   "outputs": [],
   "source": [
    "fig = plt.figure()\n",
    "plt.plot(np.arange(10), marker = 'x', linestyle=\":\", color='yellow')\n",
    "plt.plot(np.arange(10), np.random.randn(10,3) + 12, linestyle=\"--\")\n",
    "plt.pcolormesh(np.random.randn(16*16).reshape(16,16))\n",
    "plt.colorbar().set_label(\"Noise\")\n",
    "plt.ylabel(r\"$\\lambda_x$\")\n",
    "plt.xlabel(\"X\")\n",
    "\n",
    "# plt.savefig(\"something.pdf\")\n",
    "# plt.savefig(\"something.png\", dpi=300)"
   ]
  },
  {
   "cell_type": "code",
   "execution_count": null,
   "id": "70414e5f",
   "metadata": {},
   "outputs": [],
   "source": [
    "# A more space-physics example\n",
    "\n",
    "from matplotlib.dates import ConciseDateFormatter, AutoDateLocator\n",
    "\n",
    "tarr = np.arange(\n",
    "    \"2017-01-01T00:00:00.000\",\n",
    "    \"2017-01-01T00:10:00.000\",\n",
    "    step=np.timedelta64(500, 'ms'), #step\n",
    "    dtype=\"datetime64[ns]\" # we want ns precision\n",
    ")\n",
    "\n",
    "dt = (tarr - tarr[0])/np.timedelta64(1,\"s\")\n",
    "\n",
    "\n",
    "# Panel size ratios\n",
    "ratios = [0.5, 2., 4., 1., 1.]\n",
    "\n",
    "# Make a figure with some subplots, which have a shared x-axis.\n",
    "fig, axs = plt.subplots(\n",
    "    len(ratios), 1, \n",
    "    sharex=True, \n",
    "    figsize=(12,6), \n",
    "    gridspec_kw=dict(height_ratios=ratios)\n",
    ")\n",
    "\n",
    "for ax in axs:\n",
    "    plt.sca(ax)    \n",
    "    plt.plot(tarr, np.sin(2. * np.pi * 0.1 * dt))\n",
    "\n",
    "# To provide control over formatting dates on an axis, we can use these locator/formatter classes:\n",
    "loc = AutoDateLocator()\n",
    "axs[-1].xaxis.set_major_locator(loc)\n",
    "axs[-1].xaxis.set_major_formatter(ConciseDateFormatter(loc))\n",
    "\n",
    "plt.tight_layout()\n"
   ]
  },
  {
   "cell_type": "markdown",
   "id": "3bb62464",
   "metadata": {},
   "source": [
    "## Anatomy of a figure\n",
    "This is a useful map of the naming of different components and some functions to modify them\n",
    "![Anatomy of a figure](https://matplotlib.org/stable/_images/sphx_glr_anatomy_001_2_00x.png)"
   ]
  },
  {
   "cell_type": "markdown",
   "id": "d7879110-23f9-4793-b262-8ec2a5388112",
   "metadata": {},
   "source": [
    "---\n",
    "## SciPy\n",
    "A comprehensive package for data analysis...\n",
    "https://docs.scipy.org/doc/scipy/tutorial/index.html"
   ]
  },
  {
   "cell_type": "code",
   "execution_count": null,
   "id": "efb8173e-7301-4565-83ef-217f6750235a",
   "metadata": {},
   "outputs": [],
   "source": [
    "from scipy.io import loadmat # To handle .mat files from matlab, for example\n",
    "from scipy.signal import welch"
   ]
  },
  {
   "cell_type": "code",
   "execution_count": null,
   "id": "6803d863-3ecc-4985-ac02-45c982b0ed1c",
   "metadata": {},
   "outputs": [],
   "source": [
    "#  An example, putting all the above together:\n",
    "\n",
    "# Generate a sample signal (sine wave with noise)\n",
    "fs = 1000  # Sampling frequency\n",
    "t = np.arange(0, 10, 1/fs)  # Time vector from 0 to 10 seconds\n",
    "f1 = 50  # Frequency of the sine wave\n",
    "signal = np.sin(2*np.pi*f1*t) + 0.5*np.random.randn(len(t))  # Signal with added noise\n",
    "\n",
    "# Compute the Power Spectral Density (PSD) using Welch's method\n",
    "frequencies, psd = welch(signal, fs=fs, nperseg=256)\n",
    "\n",
    "# Plot the PSD\n",
    "plt.figure(figsize=(10, 6))\n",
    "plt.semilogy(frequencies, psd)\n",
    "plt.title('Power Spectral Density (PSD) using Welch\\'s Method')\n",
    "plt.xlabel('Frequency (Hz)')\n",
    "plt.ylabel('Power/Frequency (dB/Hz)')\n",
    "plt.grid(True)\n",
    "plt.show()"
   ]
  }
 ],
 "metadata": {
  "kernelspec": {
   "display_name": "Python [conda env:snakes]",
   "language": "python",
   "name": "conda-env-snakes-py"
  },
  "language_info": {
   "codemirror_mode": {
    "name": "ipython",
    "version": 3
   },
   "file_extension": ".py",
   "mimetype": "text/x-python",
   "name": "python",
   "nbconvert_exporter": "python",
   "pygments_lexer": "ipython3",
   "version": "3.11.8"
  }
 },
 "nbformat": 4,
 "nbformat_minor": 5
}
