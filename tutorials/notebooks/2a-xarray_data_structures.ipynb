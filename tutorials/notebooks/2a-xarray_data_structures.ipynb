{
 "cells": [
  {
   "cell_type": "markdown",
   "id": "508bfc0b-ca05-450a-9be5-d941e4983093",
   "metadata": {},
   "source": [
    "# IRF - Uppsala Python Workshop: Snakes in Space 🐍\n",
    "author: Louis Richard\n",
    "e-mail: louisr@irfu.se\n",
    "date: 29/02/2024"
   ]
  },
  {
   "cell_type": "markdown",
   "id": "ae49afba-51cd-4140-b705-f46c8c1c8b5a",
   "metadata": {},
   "source": [
    "## Time series, spectrogram, VDFs, & co.\n",
    "Introduction to data structures for space plasma analysis:\n",
    "    - The xarray package\\\n",
    "    - DataArrays for time series and spectrograms.\\\n",
    "    - Datasets for velocity distribution functions."
   ]
  },
  {
   "cell_type": "code",
   "execution_count": null,
   "id": "6b77658b-9824-445b-be8f-3eb83cb90069",
   "metadata": {},
   "outputs": [],
   "source": []
  },
  {
   "cell_type": "code",
   "execution_count": null,
   "id": "739d876b-9fe0-4df0-ad8e-3455cee4326d",
   "metadata": {},
   "outputs": [],
   "source": []
  },
  {
   "cell_type": "code",
   "execution_count": null,
   "id": "e216126e-6e9c-495c-a7a4-c37ef7536d97",
   "metadata": {},
   "outputs": [],
   "source": []
  }
 ],
 "metadata": {
  "kernelspec": {
   "display_name": "Python 3 (ipykernel)",
   "language": "python",
   "name": "python3"
  },
  "language_info": {
   "codemirror_mode": {
    "name": "ipython",
    "version": 3
   },
   "file_extension": ".py",
   "mimetype": "text/x-python",
   "name": "python",
   "nbconvert_exporter": "python",
   "pygments_lexer": "ipython3",
   "version": "3.10.13"
  }
 },
 "nbformat": 4,
 "nbformat_minor": 5
}
