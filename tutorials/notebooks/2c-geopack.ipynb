{
 "cells": [
  {
   "cell_type": "markdown",
   "id": "9bc6f83d-9c49-4b48-94f0-fe6b752dac1e",
   "metadata": {},
   "source": [
    "# The geopack and Tsyganenko models in Python\n",
    "\n",
    "Developed by: Sheng Tian, Univ. of Minnesota, tianx138@umn.edu\n",
    "\n",
    "This python geopack has integrated two modules originally written in Fortran: \n",
    "- The geopack\n",
    "- The Tsyganenko models (T89, T96, T01, and T04).\n",
    "\n",
    "The Fortran geopack08 is available at https://geo.phys.spbu.ru/~tsyganenko/empirical-models/coordinate_systems/geopack\n",
    "\n",
    "The Fortran Tsyganenko models are available at https://geo.phys.spbu.ru/~tsyganenko/empirical-models/"
   ]
  },
  {
   "cell_type": "markdown",
   "id": "ae38ead0-c3d8-4a88-85b3-041534590402",
   "metadata": {},
   "source": [
    "# Installation\n",
    "\n",
    "The package requires Python pre-installed and depends on the numpy and scipy packages. I've only tested the Python geopack on Mac OS in Python 3.6. Performance on other platform and other versions of Python is unclear.\n",
    "\n",
    "To install the Python geopack through pip, type in the terminal: \n",
    "\n",
    "`foo@bar:~$ pip3 install geopack`\n",
    "\n"
   ]
  },
  {
   "cell_type": "code",
   "execution_count": 1,
   "id": "893d59b9-d4c2-4a60-864f-3919866fb68a",
   "metadata": {},
   "outputs": [
    {
     "name": "stdout",
     "output_type": "stream",
     "text": [
      "Load IGRF coefficients ...\n"
     ]
    }
   ],
   "source": [
    "# Load\n",
    "import datetime\n",
    "from dateutil import parser\n",
    "from geopack import geopack\n",
    "import numpy as np\n",
    "import matplotlib.pyplot as plt\n",
    "from matplotlib.patches import Wedge, Circle"
   ]
  },
  {
   "cell_type": "markdown",
   "id": "8d611c7e-db49-4f16-bb7b-08f7c9912a38",
   "metadata": {},
   "source": [
    "# The geopack\n",
    "\n",
    "* recalc: Re-calculate the dipole tilt angle (and other internal parameters) for a given **time**."
   ]
  },
  {
   "cell_type": "code",
   "execution_count": 2,
   "id": "bd7940b7-d10a-4e99-b974-9a481a50fb52",
   "metadata": {},
   "outputs": [
    {
     "data": {
      "text/plain": [
       "-0.5608233361157049"
      ]
     },
     "execution_count": 2,
     "metadata": {},
     "output_type": "execute_result"
    }
   ],
   "source": [
    "\n",
    "# ----------------------------------------------------------------\n",
    "# Time and Solar Wind velocicty GSE\n",
    "# ----------------------------------------------------------------\n",
    "t1 = datetime.datetime(2001,1,2,3,4,5)\n",
    "t0 = datetime.datetime(1970,1,1)\n",
    "ut = (t1-t0).total_seconds()\n",
    "vgse = [-400,0,10]                 # solar wind velocity in GSE.\n",
    "\n",
    "\n",
    "# -----------------------------------------------------------------\n",
    "# Recalc\n",
    "# -----------------------------------------------------------------\n",
    "'''\n",
    "ps =  geopack.geopack.recalc(ut)\n",
    "\n",
    "Input\n",
    "    ut: The given time in the universal time in second.\n",
    "    vxgse,vygse,vzgse: The solar wind velocity in GSE. If they are omitted, a default value of [-400,0,0] is used\n",
    "\n",
    "Return\n",
    "    ps: Dipole tilt angle in radian (defined in GSM, not GSW)\n",
    "    \n",
    "'''\n",
    "\n",
    "ps =  geopack.recalc(ut)\n",
    "ps =  geopack.recalc(ut, vgse[0],vgse[1],vgse[2])\n",
    "# or urse ps = geopack.recalc(ut, *vgse) \n",
    "ps"
   ]
  },
  {
   "cell_type": "markdown",
   "id": "171709de-2c07-4753-90fe-a132d697d023",
   "metadata": {},
   "source": [
    "# The Tsyganenko models\n",
    "\n",
    "Four models (T89, T96, T01, and T04) developed by Dr. Tsyganenko are implemented in the package.\n",
    "\n",
    "`bxgsm,bygsm,bzgsm = geopack.t96(par, ps, xgsm, ygsm, zgsm)`\n",
    "\n",
    "```python\n",
    "'''\n",
    "Input:\n",
    "    par: Is different for each model\n",
    "    ps:  Dipole tilt angle in radian\n",
    "    xgsm, ygsm, zgsm: The given position in cartesian GSM coordinate in Re\n",
    "\n",
    "Return: \n",
    "    bxgsm, bygsm, bzgsm: The external magnetic field from the Txx model for a given position and time, in the GSM coordinate\n",
    "    \n",
    "'''\n",
    "```\n",
    " \n",
    "\n",
    "<hr>\n",
    "\n",
    "* `t89:` Calculate the external magnetic field from the T89 model for a given position and time, in the GSM coordinate.\n",
    " \n",
    "    - **par:** A model parameter. It is an integer (1-7) maps to the Kp index\n",
    "  \n",
    "| par | 1    | 2       | 3       | 4       | 5       | 6       | 7       |\n",
    "|-----:|:------|---------|---------|---------|---------|---------|---------|\n",
    "| Kp  | 0,0+ | 1-,1,1+ | 2-,2,2+ | 3-,3,3+ | 4-,4,,+ | 5-,5,5+ | > 6-    |\n",
    "  \n",
    "  \n",
    "<hr>\n",
    "\n",
    "* `t96:` Calculate the external magnetic field from the T96 model for a given position and time, in the GSM coordinate.\n",
    "\n",
    "    + **par:** A model paramter. It is a 10-element array, whose elements are (1-10)\n",
    "    + **Pdyn:** is the solar wind dynamic pressure in nPa\n",
    "    + **Dst:** is the Dst index in nT\n",
    "    + **ByImf, BzImf:** are the y and z components of the IMF (interplanetary magnetif field) in GSM.\n",
    "  \n",
    "| par | 1    | 2       | 3-4         | 5-10    |\n",
    "|-----|------|---------|-----------  |---------|\n",
    "| Var | Pdyn | Dst     | ByIMF,BzIMF | not used|\n",
    "\n",
    "\n",
    "\n",
    "<hr>\n",
    "\n",
    "* `t01:` Calculate the external magnetic field from the T01 model for a given position and time, in the GSM coordinate.\n",
    "        \n",
    "    - **par:** A model paramter. It is a 10-element array, whose elements are (1-10)\n",
    "    - **Pdyn:** is the solar wind dynamic pressure in nPa\n",
    "    - **Dst:** is the Dst index in nT\n",
    "    - **ByImf, BzImf:** are the y and z components of the IMF (interplanetary magnetif field) in GSM\n",
    "    - **G1,G2:** are two indices defined in Tsyganenko (2001).[https://rbsp-ect.newmexicoconsortium.org/data_pub/QinDenton/]\n",
    "  \n",
    "| par |  1   |  2  |     3-4     |  5-6  |   7-10   |\n",
    "|-----|------|-----|-------------|-------|----------|\n",
    "| Var | Pdyn | Dst | ByIMF,BzIMF | G1,G2 | not used |\n",
    "  \n",
    "\n",
    "<hr>\n",
    "\n",
    "* `t04:` Calculate the external magnetic field from the T04 model for a given position and time, in the GSM coordinate.\n",
    "\n",
    "    - **par:** A model paramter. It is a 10-element array, whose elements are (1-10)\n",
    "    - **Pdyn:** is the solar wind dynamic pressure in nPa\n",
    "    - **Dst:** is the Dst index in nT\n",
    "    - **ByImf, BzImf:** are the y and z components of the IMF (interplanetary magnetif field) in GSM\n",
    "    - **W1,W2,...,W6:** are six indices defined in Tsyganenko (2005). https://rbsp-ect.newmexicoconsortium.org/data_pub/QinDenton/\n",
    "  \n",
    "| par |  1   |  2  |     3-4     |   5-10   |\n",
    "|-----|------|-----|-------------|----------|\n",
    "| Var | Pdyn | Dst | ByIMF,BzIMF | W1 to W6 |\n",
    "\n",
    "\n",
    "`Note: All 4 models share the same interface, but the meanings of par are very different.`"
   ]
  },
  {
   "cell_type": "markdown",
   "id": "64e5bed7-5e1f-4ff4-abbc-736b9135571c",
   "metadata": {},
   "source": [
    "# Example 1: Calculate the external magnetic field\n",
    "\n",
    "Calculate the external magnetic field from the Tsyganenko model for a given position and time, in the GSM coordinate."
   ]
  },
  {
   "cell_type": "code",
   "execution_count": 3,
   "id": "fbf63786-1578-4ffa-9e3d-185a2c919614",
   "metadata": {},
   "outputs": [
    {
     "name": "stdout",
     "output_type": "stream",
     "text": [
      "Bxgsm: 27.69\n",
      "Bygsm: 0.00\n",
      "Bzgsm: -20.65\n"
     ]
    }
   ],
   "source": [
    "# GSM position\n",
    "x_gsm,y_gsm,z_gsm = [-5, 0, 0.5]   # in Re\n",
    "\n",
    "bxgsm,bygsm,bzgsm = geopack.t89.t89(2, ps, x_gsm, y_gsm, z_gsm)\n",
    "\n",
    "print(\"Bxgsm: {:.2f}\\nBygsm: {:.2f}\\nBzgsm: {:.2f}\".format(bxgsm,bygsm,bzgsm))"
   ]
  },
  {
   "cell_type": "markdown",
   "id": "bbf92fd2-cb3d-4591-ae39-489169f0437e",
   "metadata": {},
   "source": [
    "# Example 2 : Trace along model magnetic fields: trace\n",
    "\n",
    "\n",
    "\n",
    "`x,y,z,xx,yy,zz = geopack.trace(x_gsm,y_gsm,z_gsm,dir=-1,rlim=100,r0=1,parmod=2,exname='t89',inname='igrf',maxloop=10000)`\n",
    "\n",
    "```python\n",
    "'''\n",
    "Input:\n",
    "\n",
    "    - x0gsm,y0gsm,z0gsm: The given position in cartesian GSM coordinate in Re (earth radii, 1 Re = 6371.2 km).\n",
    "    - dir:               Direction of tracing. dir = -1 for parallel; dir = 1 for anti-parallel.\n",
    "    - rlim:              Maximum tracing radius in Re. Default value is 10 Re.\n",
    "    - r0:                Minimum tracing radius in Re. Default value is 1 Re.\n",
    "    - inname:            A string specifies the internal model, one of 'dipole','igrf'. The default value is 'igrf'.\n",
    "    - exname:            A string specifies the external model, one of 't89','t96','t01','t04'.\n",
    "                         The default value is 't89' and its par is default to be 2.\n",
    "    - par:               The model parameter. Its dimension and the meaning depend on the external model. \n",
    "\n",
    "Return: \n",
    "\n",
    "    - x,y,z: footprint at r0\n",
    "    - xx, yy, zz: trace of the field line\n",
    "'''\n",
    "```"
   ]
  },
  {
   "cell_type": "markdown",
   "id": "32e73cf9-da02-41cc-a697-f08846d91ea7",
   "metadata": {},
   "source": [
    "## Calculate the trace"
   ]
  },
  {
   "cell_type": "code",
   "execution_count": 4,
   "id": "b0481251-5e09-4c81-9054-bc86c20376fb",
   "metadata": {},
   "outputs": [],
   "source": [
    "# obtain ps\n",
    "t1 = datetime.datetime(2001,1,2,3,4,5)\n",
    "t0 = datetime.datetime(1970,1,1)\n",
    "ut = (t1-t0).total_seconds()\n",
    "vgse = [-400,0,10]  \n",
    "\n",
    "ps = geopack.recalc(ut, vgse[0],vgse[1],vgse[2])\n",
    "\n",
    "# GSM position\n",
    "x_gsm,y_gsm,z_gsm = [-5, 0, 0.5]   # in Re\n",
    "\n",
    "# Tsyganenko T96\n",
    "model = 't96'\n",
    "par = [2.06, -0.5, 1.3, -1.8, np.nan, np.nan, np.nan, np.nan, np.nan,np.nan] # 10 values\n",
    "x,y,z,xx,yy,zz = geopack.trace(x_gsm,y_gsm,z_gsm,dir=1,rlim=100,r0=.99999,parmod=par,exname=model,inname='igrf',maxloop=10000)\n"
   ]
  },
  {
   "cell_type": "code",
   "execution_count": 5,
   "id": "79940e27-556e-48b2-905c-70d4d26c9b72",
   "metadata": {},
   "outputs": [
    {
     "data": {
      "text/plain": [
       "<matplotlib.collections.PathCollection at 0x12127e0e0>"
      ]
     },
     "execution_count": 5,
     "metadata": {},
     "output_type": "execute_result"
    },
    {
     "data": {
      "image/png": "[encoded data removed]",
      "text/plain": [
       "<Figure size 640x480 with 1 Axes>"
      ]
     },
     "metadata": {},
     "output_type": "display_data"
    }
   ],
   "source": [
    "# simple plot\n",
    "\n",
    "plt.scatter(xx,zz)"
   ]
  },
  {
   "cell_type": "markdown",
   "id": "1026842a-3327-4123-a3ee-17f9f68b6abc",
   "metadata": {},
   "source": [
    "## Define some plot functions"
   ]
  },
  {
   "cell_type": "code",
   "execution_count": 6,
   "id": "140c7598-cf77-437b-ab00-a03d4a1a9f23",
   "metadata": {},
   "outputs": [],
   "source": [
    "\n",
    "def dual_half_circle(center=(0,0), radius=1, angle=90, ax=None, colors=('w','k','k'),\n",
    "                     **kwargs):\n",
    "    \"\"\"\n",
    "    Add two half circles to the axes *ax* (or the current axes) with the \n",
    "    specified facecolors *colors* rotated at *angle* (in degrees).\n",
    "    \"\"\"\n",
    "    if ax is None:\n",
    "        ax = plt.gca()\n",
    "    theta1, theta2 = angle, angle + 180\n",
    "    #w1 = Wedge(center, radius, theta1, theta2, fc=colors[0], **kwargs)\n",
    "    #w2 = Wedge(center, radius, theta2, theta1, fc=colors[1], **kwargs)\n",
    "    \n",
    "    w1 = Wedge(center, radius, theta1, theta2, fc=colors[1], **kwargs)\n",
    "    w2 = Wedge(center, radius, theta2, theta1, fc=colors[0], **kwargs)\n",
    "   \n",
    "    cr = Circle(center, radius, fc=colors[2], fill=False, **kwargs)\n",
    "    for wedge in [w1, w2, cr]:\n",
    "        ax.add_artist(wedge)\n",
    "    return [w1, w2, cr]\n",
    "\n",
    "def setup_fig(ax, xlim=(10,-25),ylim=(-10,10), plane = 'xz'):\n",
    "    \"\"\"\n",
    "    Setup a figure with defined limits in any x, y or z direction\n",
    "    also implements dual_half_circle to include day/night circle \n",
    "    \"\"\"\n",
    "    ax.axvline(0,ls=':',color='k')\n",
    "    ax.axhline(0,ls=':',color='k')\n",
    "    ax.set_xlim(xlim)\n",
    "    ax.set_ylim(ylim)\n",
    "    if plane == 'xy':\n",
    "        xlabel='X GSM [Re]'\n",
    "        ylabel='Y GSM [Re]'\n",
    "    elif plane == 'xz':\n",
    "        xlabel='X GSM [Re]'\n",
    "        ylabel='Z GSM [Re]'\n",
    "    else:\n",
    "        print('Define a correct plane: xy, xz')\n",
    "\n",
    "    ax.set_xlabel(xlabel)\n",
    "    ax.set_ylabel(ylabel)\n",
    "    \n",
    "    ax.set_aspect('equal')\n",
    "    w1,w2,cr = dual_half_circle(ax=ax)\n",
    "    \n",
    "    return ax\n"
   ]
  },
  {
   "cell_type": "code",
   "execution_count": 7,
   "id": "09f8fef7-15e5-4b30-8317-ae540f17739a",
   "metadata": {},
   "outputs": [
    {
     "data": {
      "image/png": "[encoded data removed]",
      "text/plain": [
       "<Figure size 1200x500 with 1 Axes>"
      ]
     },
     "metadata": {},
     "output_type": "display_data"
    }
   ],
   "source": [
    "# make same plot\n",
    "fig = plt.figure(figsize=(12,5))\n",
    "ax  = fig.add_subplot(111)\n",
    "ax=setup_fig(ax, xlim=(10,-25),ylim=(-10,10), plane = 'xz')\n",
    "\n",
    "# x, y , z point in the dayside\n",
    "ax.scatter(x_gsm, z_gsm , marker = '*', s = 50, c = 'k')\n",
    "ax.plot(xx,zz)\n",
    "plt.show()"
   ]
  },
  {
   "cell_type": "markdown",
   "id": "05bd2b44-317f-4040-880a-84387a42ffb2",
   "metadata": {},
   "source": [
    "## Other examples"
   ]
  },
  {
   "cell_type": "code",
   "execution_count": 8,
   "id": "6a1af5d9-7a90-410b-bd74-523792be7d5e",
   "metadata": {},
   "outputs": [
    {
     "data": {
      "image/png": "[encoded data removed]",
      "text/plain": [
       "<Figure size 1200x500 with 1 Axes>"
      ]
     },
     "metadata": {},
     "output_type": "display_data"
    }
   ],
   "source": [
    "# obtain ps\n",
    "t1 = datetime.datetime(2001,6,15,3,4,5)\n",
    "t0 = datetime.datetime(1970,1,1)\n",
    "ut = (t1-t0).total_seconds()\n",
    "x_gsm,y_gsm,z_gsm = [-10, 0, 0.5]   # in Re\n",
    "vgse = [-400,0,10]  \n",
    "\n",
    "ps = geopack.recalc(ut, vgse[0],vgse[1],vgse[2])\n",
    "\n",
    "# Setup figure\n",
    "fig = plt.figure(figsize=(12,5))\n",
    "ax  = fig.add_subplot(111)\n",
    "ax=setup_fig(ax, xlim=(10,-25),ylim=(-10,10), plane = 'xz')\n",
    "\n",
    "# x, y , z point\n",
    "plt.scatter(x_gsm, z_gsm , marker = '*', s = 50, c = 'k')\n",
    "\n",
    "# Tsyganenko T89\n",
    "model = 't89'\n",
    "par = 1\n",
    "x,y,z,xx,yy,zz = geopack.trace(x_gsm,y_gsm,z_gsm,dir=-1,rlim=100,r0=.99999,parmod=par,exname=model,inname='igrf',maxloop=10000)\n",
    "ax.plot(xx,zz)\n",
    "\n",
    "x,y,z,xx,yy,zz = geopack.trace(x_gsm,y_gsm,z_gsm,dir=1,rlim=100,r0=.99999,parmod=par,exname=model,inname='igrf',maxloop=10000)\n",
    "ax.plot(xx,zz)\n",
    "\n",
    "# Tsyganenko T96\n",
    "model = 't96'\n",
    "par = [2.06, -0.5, 1.3, -1.8, np.nan, np.nan, np.nan, np.nan, np.nan,np.nan] # 10 values\n",
    "x,y,z,xx,yy,zz = geopack.trace(x_gsm,y_gsm,z_gsm,dir=-1,rlim=100,r0=.99999,parmod=par,exname=model,inname='igrf',maxloop=10000)\n",
    "ax.plot(xx,zz)\n",
    "\n",
    "x,y,z,xx,yy,zz = geopack.trace(x_gsm,y_gsm,z_gsm,dir=1,rlim=100,r0=.99999,parmod=par,exname=model,inname='igrf',maxloop=10000)\n",
    "ax.plot(xx,zz)\n",
    "\n",
    "\n",
    "# plot another example\n",
    "# x, y , z point in the dayside\n",
    "x_gsm,y_gsm,z_gsm = [5, 0, 0.5]   # in Re\n",
    "plt.scatter(x_gsm, z_gsm , marker = '*', s = 50, c = 'k')\n",
    "\n",
    "# Tsyganenko T89\n",
    "model = 't89'\n",
    "par = 1\n",
    "x,y,z,xx,yy,zz = geopack.trace(x_gsm,y_gsm,z_gsm,dir=-1,rlim=100,r0=.99999,parmod=par,exname=model,inname='igrf',maxloop=10000)\n",
    "ax.plot(xx,zz)\n",
    "\n",
    "x,y,z,xx,yy,zz = geopack.trace(x_gsm,y_gsm,z_gsm,dir=1,rlim=100,r0=.99999,parmod=par,exname=model,inname='igrf',maxloop=10000)\n",
    "ax.plot(xx,zz)\n",
    "\n",
    "# Tsyganenko T96\n",
    "model = 't96'\n",
    "par = [2.06, -0.5, 1.3, -1.8, np.nan, np.nan, np.nan, np.nan, np.nan,np.nan] # 10 values\n",
    "x,y,z,xx,yy,zz = geopack.trace(x_gsm,y_gsm,z_gsm,dir=-1,rlim=100,r0=.99999,parmod=par,exname=model,inname='igrf',maxloop=10000)\n",
    "ax.plot(xx,zz)\n",
    "\n",
    "x,y,z,xx,yy,zz = geopack.trace(x_gsm,y_gsm,z_gsm,dir=1,rlim=100,r0=.99999,parmod=par,exname=model,inname='igrf',maxloop=10000)\n",
    "ax.plot(xx,zz)\n",
    "\n",
    "plt.show()"
   ]
  },
  {
   "cell_type": "markdown",
   "id": "87fc8b3d-5779-42e2-97ff-c8f885e72068",
   "metadata": {},
   "source": [
    "# Plot footprint at Earth"
   ]
  },
  {
   "cell_type": "code",
   "execution_count": null,
   "id": "217036ba-d9d1-461f-9740-f99e2b4f79bf",
   "metadata": {},
   "outputs": [
    {
     "name": "stdout",
     "output_type": "stream",
     "text": [
      "2001-06-15 03:04:05\n",
      "Ticktock( [datetime.datetime(2001, 6, 15, 3, 4, 5)], dtype=UTC)\n",
      "[-51.00888971] [129.54642715]\n"
     ]
    }
   ],
   "source": [
    "%matplotlib inline\n",
    "\n",
    "import cartopy.crs as ccrs\n",
    "\n",
    "\n",
    "from spacepy import coordinates as coord\n",
    "from spacepy.time import Ticktock\n",
    "import spacepy as spc\n",
    "\n",
    "\n",
    "coord.DEFAULTS.set_values(use_irbem=False, itol=5)\n",
    "\n",
    "cvals = coord.Coords([x,y,z], 'GSM', 'car')\n",
    "cvals.ticks = Ticktock(t1, 'ISO') # add ticks\n",
    "print(t1)\n",
    "print(cvals.ticks)\n",
    "newcoord = cvals.convert('GDZ', 'sph')\n",
    "\n",
    "alt_N = newcoord.data[:,0]\n",
    "lat_N = newcoord.data[:,1]\n",
    "lon_N = newcoord.data[:,2]\n",
    "\n",
    "print(lat_N, lon_N)\n",
    "# From CartoPy Example: https://scitools.org.uk/cartopy/docs/latest/gallery/aurora_forecast.html#sphx-glr-gallery-aurora-forecast-py\n",
    "fig = plt.figure(figsize=[12, 12])\n",
    "\n",
    "projection = ccrs.Orthographic(180, -90)\n",
    "fig = plt.figure(figsize=(5,5))\n",
    "ax = fig.add_subplot(1, 1, 1, projection=projection)\n",
    "ax.coastlines(zorder=3)\n",
    "ax.stock_img()\n",
    "ax.gridlines()\n",
    "\n",
    "pxx,pyy = projection.transform_point(lon_N, lat_N,ccrs.Geodetic())\n",
    "\n",
    "ax.scatter([pxx],[pyy],marker='*',facecolor='y',edgecolor='k',s=500)\n",
    "ax.set_extent([0, 359.9999, -90, -50],crs=ccrs.PlateCarree())\n",
    "plt.show()\n"
   ]
  },
  {
   "cell_type": "code",
   "execution_count": null,
   "id": "c51a2bb2-3991-49b2-93c9-8458f845cf06",
   "metadata": {},
   "outputs": [],
   "source": []
  }
 ],
 "metadata": {
  "kernelspec": {
   "display_name": "Python 3 (ipykernel)",
   "language": "python",
   "name": "python3"
  },
  "language_info": {
   "codemirror_mode": {
    "name": "ipython",
    "version": 3
   },
   "file_extension": ".py",
   "mimetype": "text/x-python",
   "name": "python",
   "nbconvert_exporter": "python",
   "pygments_lexer": "ipython3",
   "version": "3.10.13"
  }
 },
 "nbformat": 4,
 "nbformat_minor": 5
}
