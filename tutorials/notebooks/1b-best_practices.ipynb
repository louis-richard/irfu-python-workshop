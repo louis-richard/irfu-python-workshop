{
 "cells": [
  {
   "cell_type": "markdown",
   "id": "1aba8e67-d305-4a22-be96-cd11a4e420dc",
   "metadata": {},
   "source": [
    "# IRF - Uppsala Python Workshop: Snakes in Space 🐍\n",
    "author: Louis Richard\\\n",
    "e-mail: louisr@irfu.se\\\n",
    "date: 18/03/2024"
   ]
  },
  {
   "cell_type": "markdown",
   "id": "25cfa998-5890-4b63-97d0-66faa2243309",
   "metadata": {},
   "source": [
    "## Best practices\n",
    "Introduction to best practices to keep your code nice and readable:\\\n",
    "    - PEP 8 - the Style Guide for Python Code\\\n",
    "    - docstrings\\\n",
    "    - linters\\\n",
    "    - code style tools: black, isort\\\n",
    "    - Packaging"
   ]
  },
  {
   "cell_type": "markdown",
   "id": "1b6dac95-0659-4c4a-8bb7-7d2c3e6f91a8",
   "metadata": {},
   "source": [
    "## PEP8 code style"
   ]
  },
  {
   "cell_type": "markdown",
   "id": "4cbd1a72-39c6-40ef-ba1a-d6d6b9a735e4",
   "metadata": {},
   "source": [
    "### imports should be on separate lines"
   ]
  },
  {
   "cell_type": "code",
   "execution_count": 3,
   "id": "b11a83a8-f5f4-455b-a940-776ee4359b2c",
   "metadata": {},
   "outputs": [],
   "source": [
    "import os\n",
    "import glob\n",
    "import numpy as np\n",
    "\n"
   ]
  },
  {
   "cell_type": "markdown",
   "id": "a58c6bd0-718d-4ccb-8fdb-9d063e28b7c5",
   "metadata": {},
   "source": [
    "### Avoid extraneous whitespaces after/before brackets, parenthesis, between trailing commas and closing parenthsis, etc."
   ]
  },
  {
   "cell_type": "code",
   "execution_count": 10,
   "id": "e3bf5700-b10e-4659-b5de-a764f4a9ed6f",
   "metadata": {},
   "outputs": [
    {
     "data": {
      "text/plain": [
       "array([0., 0., 0., 0., 0., 0., 0., 0., 0., 0.])"
      ]
     },
     "execution_count": 10,
     "metadata": {},
     "output_type": "execute_result"
    }
   ],
   "source": [
    "my_list = [1, 2, 3, 4]\n",
    "my_list[1]\n",
    "\n",
    "np.zeros((10,))"
   ]
  },
  {
   "cell_type": "markdown",
   "id": "7768455d-b55a-46ae-b780-68b6087220f7",
   "metadata": {},
   "source": [
    "### Name case"
   ]
  },
  {
   "cell_type": "markdown",
   "id": "fa1110b5-4014-4eab-856c-8cb0fbc018ac",
   "metadata": {},
   "source": [
    "#### Preferably follow the name case standards:\\\\\n",
    "- variable: lower_case\n",
    "- global variable: UPPER_CASE\n",
    "- function: lower_case (with underscore prefixes and suffixes for private methods)\n",
    "- class: CamelCase"
   ]
  },
  {
   "cell_type": "code",
   "execution_count": 11,
   "id": "a46c56f0-05f7-468e-be28-b490f02229d5",
   "metadata": {},
   "outputs": [
    {
     "data": {
      "text/plain": [
       "['__add__',\n",
       " '__class__',\n",
       " '__contains__',\n",
       " '__delattr__',\n",
       " '__dir__',\n",
       " '__doc__',\n",
       " '__eq__',\n",
       " '__format__',\n",
       " '__ge__',\n",
       " '__getattribute__',\n",
       " '__getitem__',\n",
       " '__getnewargs__',\n",
       " '__getstate__',\n",
       " '__gt__',\n",
       " '__hash__',\n",
       " '__init__',\n",
       " '__init_subclass__',\n",
       " '__iter__',\n",
       " '__le__',\n",
       " '__len__',\n",
       " '__lt__',\n",
       " '__mod__',\n",
       " '__mul__',\n",
       " '__ne__',\n",
       " '__new__',\n",
       " '__reduce__',\n",
       " '__reduce_ex__',\n",
       " '__repr__',\n",
       " '__rmod__',\n",
       " '__rmul__',\n",
       " '__setattr__',\n",
       " '__sizeof__',\n",
       " '__str__',\n",
       " '__subclasshook__',\n",
       " 'capitalize',\n",
       " 'casefold',\n",
       " 'center',\n",
       " 'count',\n",
       " 'encode',\n",
       " 'endswith',\n",
       " 'expandtabs',\n",
       " 'find',\n",
       " 'format',\n",
       " 'format_map',\n",
       " 'index',\n",
       " 'isalnum',\n",
       " 'isalpha',\n",
       " 'isascii',\n",
       " 'isdecimal',\n",
       " 'isdigit',\n",
       " 'isidentifier',\n",
       " 'islower',\n",
       " 'isnumeric',\n",
       " 'isprintable',\n",
       " 'isspace',\n",
       " 'istitle',\n",
       " 'isupper',\n",
       " 'join',\n",
       " 'ljust',\n",
       " 'lower',\n",
       " 'lstrip',\n",
       " 'maketrans',\n",
       " 'partition',\n",
       " 'removeprefix',\n",
       " 'removesuffix',\n",
       " 'replace',\n",
       " 'rfind',\n",
       " 'rindex',\n",
       " 'rjust',\n",
       " 'rpartition',\n",
       " 'rsplit',\n",
       " 'rstrip',\n",
       " 'split',\n",
       " 'splitlines',\n",
       " 'startswith',\n",
       " 'strip',\n",
       " 'swapcase',\n",
       " 'title',\n",
       " 'translate',\n",
       " 'upper',\n",
       " 'zfill']"
      ]
     },
     "execution_count": 11,
     "metadata": {},
     "output_type": "execute_result"
    }
   ],
   "source": [
    "dir(\"kayak\")"
   ]
  },
  {
   "cell_type": "code",
   "execution_count": 13,
   "id": "96df6373-12da-4903-bc88-9b1819045f1f",
   "metadata": {},
   "outputs": [
    {
     "data": {
      "text/plain": [
       "True"
      ]
     },
     "execution_count": 13,
     "metadata": {},
     "output_type": "execute_result"
    }
   ],
   "source": [
    "class Word(object):\n",
    "    def __init__(self, value):\n",
    "        self.value = value\n",
    "\n",
    "    def _flip(self):\n",
    "        return self.value[::-1]\n",
    "\n",
    "    def is_palindrome(self):\n",
    "        return self.value == self._flip()\n",
    "\n",
    "my_word = Word(\"kayak\")\n",
    "my_word.is_palindrome()"
   ]
  },
  {
   "cell_type": "markdown",
   "id": "0b988cc0-e967-4994-8ff6-2a81d4cf86e1",
   "metadata": {},
   "source": [
    "## Docstrings"
   ]
  },
  {
   "cell_type": "markdown",
   "id": "fa5dd960-545a-46a4-a227-79d3910786a2",
   "metadata": {},
   "source": [
    "### documentation should be formated using one of the Python standards: numpydoc, etc."
   ]
  },
  {
   "cell_type": "code",
   "execution_count": 15,
   "id": "6209b001-b17d-452e-90fa-f2fbd5862913",
   "metadata": {},
   "outputs": [],
   "source": [
    "def _recur_fibo(n):\n",
    "    if n <= 1:\n",
    "        result = n\n",
    "    else:\n",
    "        result = _recur_fibo(n - 1) + _recur_fibo(n - 2)\n",
    "\n",
    "    return result\n",
    "\n",
    "\n",
    "def fibonacci(n_terms, verbose: bool = False) -> list[int]:\n",
    "    r\"\"\"Calculate the `n_terms` first terms of the Fibonnaci sequence.\n",
    "\n",
    "    .. math::\n",
    "\n",
    "        F_0 = 0, \\quad F_1 = 1\n",
    "\n",
    "    and \n",
    "\n",
    "    .. math::\n",
    "\n",
    "        F_n = F_{n-1} + F_{n-2}\n",
    "        \n",
    "\n",
    "    Parameters\n",
    "    ----------\n",
    "    n_terms : int\n",
    "        Number of terms to return.\n",
    "    verbose : bool, Optional\n",
    "        Verbosity flag.\n",
    "\n",
    "    Returns\n",
    "    -------\n",
    "    result : list of int\n",
    "        List of the `n_terms`th first terms of the Fibonacci sequence.\n",
    "\n",
    "    Raises\n",
    "    ------\n",
    "    ValueError: if `n_terms` is lower than 1\n",
    "\n",
    "    \"\"\"\n",
    "\n",
    "    assert isinstance(n_terms, int), \"n_terms must be an integer!!\"\n",
    "\n",
    "    nterms = 10\n",
    "\n",
    "    # check if the number of terms is valid\n",
    "    if n_terms <= 0:\n",
    "        raise ValueError(\"Plese enter a positive integer\")\n",
    "\n",
    "    if verbose:\n",
    "        print(f\"Calculating the first {n_terms:d}th terms of the Fibonacci sequence\")\n",
    "\n",
    "    result = list(map(_recur_fibo, range(n_terms)))\n",
    "\n",
    "    return result"
   ]
  },
  {
   "cell_type": "markdown",
   "id": "8cc5407a-1a0d-415e-8014-b500ccf813c5",
   "metadata": {},
   "source": [
    "### This is very usefull with jupyter"
   ]
  },
  {
   "cell_type": "code",
   "execution_count": 16,
   "id": "1f731c28-aaf8-4784-8769-458a6f05eb37",
   "metadata": {},
   "outputs": [
    {
     "data": {
      "text/plain": [
       "\u001b[0;31mSignature:\u001b[0m \u001b[0mfibonacci\u001b[0m\u001b[0;34m(\u001b[0m\u001b[0mn_terms\u001b[0m\u001b[0;34m,\u001b[0m \u001b[0mverbose\u001b[0m\u001b[0;34m:\u001b[0m \u001b[0mbool\u001b[0m \u001b[0;34m=\u001b[0m \u001b[0;32mFalse\u001b[0m\u001b[0;34m)\u001b[0m \u001b[0;34m->\u001b[0m \u001b[0mlist\u001b[0m\u001b[0;34m[\u001b[0m\u001b[0mint\u001b[0m\u001b[0;34m]\u001b[0m\u001b[0;34m\u001b[0m\u001b[0;34m\u001b[0m\u001b[0m\n",
       "\u001b[0;31mDocstring:\u001b[0m\n",
       "Calculate the `n_terms` first terms of the Fibonnaci sequence.\n",
       "\n",
       ".. math::\n",
       "\n",
       "    F_0 = 0, \\quad F_1 = 1\n",
       "\n",
       "and \n",
       "\n",
       ".. math::\n",
       "\n",
       "    F_n = F_{n-1} + F_{n-2}\n",
       "    \n",
       "\n",
       "Parameters\n",
       "----------\n",
       "n_terms : int\n",
       "    Number of terms to return.\n",
       "verbose : bool, Optional\n",
       "    Verbosity flag.\n",
       "\n",
       "Returns\n",
       "-------\n",
       "result : list of int\n",
       "    List of the `n_terms`th first terms of the Fibonacci sequence.\n",
       "\n",
       "Raises\n",
       "------\n",
       "ValueError: if `n_terms` is lower than 1\n",
       "\u001b[0;31mFile:\u001b[0m      /var/folders/2t/0_80h219537d9f7j3ytlqtgh0000gn/T/ipykernel_6547/1191373669.py\n",
       "\u001b[0;31mType:\u001b[0m      function"
      ]
     },
     "metadata": {},
     "output_type": "display_data"
    }
   ],
   "source": [
    "fibonacci?"
   ]
  },
  {
   "cell_type": "code",
   "execution_count": 17,
   "id": "3ddb0b9c-6bce-47a0-8ea3-dc79317a176b",
   "metadata": {},
   "outputs": [
    {
     "data": {
      "text/plain": [
       "\u001b[0;31mSignature:\u001b[0m \u001b[0mfibonacci\u001b[0m\u001b[0;34m(\u001b[0m\u001b[0mn_terms\u001b[0m\u001b[0;34m,\u001b[0m \u001b[0mverbose\u001b[0m\u001b[0;34m:\u001b[0m \u001b[0mbool\u001b[0m \u001b[0;34m=\u001b[0m \u001b[0;32mFalse\u001b[0m\u001b[0;34m)\u001b[0m \u001b[0;34m->\u001b[0m \u001b[0mlist\u001b[0m\u001b[0;34m[\u001b[0m\u001b[0mint\u001b[0m\u001b[0;34m]\u001b[0m\u001b[0;34m\u001b[0m\u001b[0;34m\u001b[0m\u001b[0m\n",
       "\u001b[0;31mDocstring:\u001b[0m\n",
       "Calculate the `n_terms` first terms of the Fibonnaci sequence.\n",
       "\n",
       ".. math::\n",
       "\n",
       "    F_0 = 0, \\quad F_1 = 1\n",
       "\n",
       "and \n",
       "\n",
       ".. math::\n",
       "\n",
       "    F_n = F_{n-1} + F_{n-2}\n",
       "    \n",
       "\n",
       "Parameters\n",
       "----------\n",
       "n_terms : int\n",
       "    Number of terms to return.\n",
       "verbose : bool, Optional\n",
       "    Verbosity flag.\n",
       "\n",
       "Returns\n",
       "-------\n",
       "result : list of int\n",
       "    List of the `n_terms`th first terms of the Fibonacci sequence.\n",
       "\n",
       "Raises\n",
       "------\n",
       "ValueError: if `n_terms` is lower than 1\n",
       "\u001b[0;31mSource:\u001b[0m   \n",
       "\u001b[0;32mdef\u001b[0m \u001b[0mfibonacci\u001b[0m\u001b[0;34m(\u001b[0m\u001b[0mn_terms\u001b[0m\u001b[0;34m,\u001b[0m \u001b[0mverbose\u001b[0m\u001b[0;34m:\u001b[0m \u001b[0mbool\u001b[0m \u001b[0;34m=\u001b[0m \u001b[0;32mFalse\u001b[0m\u001b[0;34m)\u001b[0m \u001b[0;34m->\u001b[0m \u001b[0mlist\u001b[0m\u001b[0;34m[\u001b[0m\u001b[0mint\u001b[0m\u001b[0;34m]\u001b[0m\u001b[0;34m:\u001b[0m\u001b[0;34m\u001b[0m\n",
       "\u001b[0;34m\u001b[0m    \u001b[0;34mr\"\"\"Calculate the `n_terms` first terms of the Fibonnaci sequence.\u001b[0m\n",
       "\u001b[0;34m\u001b[0m\n",
       "\u001b[0;34m    .. math::\u001b[0m\n",
       "\u001b[0;34m\u001b[0m\n",
       "\u001b[0;34m        F_0 = 0, \\quad F_1 = 1\u001b[0m\n",
       "\u001b[0;34m\u001b[0m\n",
       "\u001b[0;34m    and \u001b[0m\n",
       "\u001b[0;34m\u001b[0m\n",
       "\u001b[0;34m    .. math::\u001b[0m\n",
       "\u001b[0;34m\u001b[0m\n",
       "\u001b[0;34m        F_n = F_{n-1} + F_{n-2}\u001b[0m\n",
       "\u001b[0;34m        \u001b[0m\n",
       "\u001b[0;34m\u001b[0m\n",
       "\u001b[0;34m    Parameters\u001b[0m\n",
       "\u001b[0;34m    ----------\u001b[0m\n",
       "\u001b[0;34m    n_terms : int\u001b[0m\n",
       "\u001b[0;34m        Number of terms to return.\u001b[0m\n",
       "\u001b[0;34m    verbose : bool, Optional\u001b[0m\n",
       "\u001b[0;34m        Verbosity flag.\u001b[0m\n",
       "\u001b[0;34m\u001b[0m\n",
       "\u001b[0;34m    Returns\u001b[0m\n",
       "\u001b[0;34m    -------\u001b[0m\n",
       "\u001b[0;34m    result : list of int\u001b[0m\n",
       "\u001b[0;34m        List of the `n_terms`th first terms of the Fibonacci sequence.\u001b[0m\n",
       "\u001b[0;34m\u001b[0m\n",
       "\u001b[0;34m    Raises\u001b[0m\n",
       "\u001b[0;34m    ------\u001b[0m\n",
       "\u001b[0;34m    ValueError: if `n_terms` is lower than 1\u001b[0m\n",
       "\u001b[0;34m\u001b[0m\n",
       "\u001b[0;34m    \"\"\"\u001b[0m\u001b[0;34m\u001b[0m\n",
       "\u001b[0;34m\u001b[0m\u001b[0;34m\u001b[0m\n",
       "\u001b[0;34m\u001b[0m    \u001b[0;32massert\u001b[0m \u001b[0misinstance\u001b[0m\u001b[0;34m(\u001b[0m\u001b[0mn_terms\u001b[0m\u001b[0;34m,\u001b[0m \u001b[0mint\u001b[0m\u001b[0;34m)\u001b[0m\u001b[0;34m,\u001b[0m \u001b[0;34m\"n_terms must be an integer!!\"\u001b[0m\u001b[0;34m\u001b[0m\n",
       "\u001b[0;34m\u001b[0m\u001b[0;34m\u001b[0m\n",
       "\u001b[0;34m\u001b[0m    \u001b[0mnterms\u001b[0m \u001b[0;34m=\u001b[0m \u001b[0;36m10\u001b[0m\u001b[0;34m\u001b[0m\n",
       "\u001b[0;34m\u001b[0m\u001b[0;34m\u001b[0m\n",
       "\u001b[0;34m\u001b[0m    \u001b[0;31m# check if the number of terms is valid\u001b[0m\u001b[0;34m\u001b[0m\n",
       "\u001b[0;34m\u001b[0m    \u001b[0;32mif\u001b[0m \u001b[0mn_terms\u001b[0m \u001b[0;34m<=\u001b[0m \u001b[0;36m0\u001b[0m\u001b[0;34m:\u001b[0m\u001b[0;34m\u001b[0m\n",
       "\u001b[0;34m\u001b[0m        \u001b[0;32mraise\u001b[0m \u001b[0mValueError\u001b[0m\u001b[0;34m(\u001b[0m\u001b[0;34m\"Plese enter a positive integer\"\u001b[0m\u001b[0;34m)\u001b[0m\u001b[0;34m\u001b[0m\n",
       "\u001b[0;34m\u001b[0m\u001b[0;34m\u001b[0m\n",
       "\u001b[0;34m\u001b[0m    \u001b[0;32mif\u001b[0m \u001b[0mverbose\u001b[0m\u001b[0;34m:\u001b[0m\u001b[0;34m\u001b[0m\n",
       "\u001b[0;34m\u001b[0m        \u001b[0mprint\u001b[0m\u001b[0;34m(\u001b[0m\u001b[0;34mf\"Calculating the first {n_terms:d}th terms of the Fibonacci sequence\"\u001b[0m\u001b[0;34m)\u001b[0m\u001b[0;34m\u001b[0m\n",
       "\u001b[0;34m\u001b[0m\u001b[0;34m\u001b[0m\n",
       "\u001b[0;34m\u001b[0m    \u001b[0mresult\u001b[0m \u001b[0;34m=\u001b[0m \u001b[0mlist\u001b[0m\u001b[0;34m(\u001b[0m\u001b[0mmap\u001b[0m\u001b[0;34m(\u001b[0m\u001b[0m_recur_fibo\u001b[0m\u001b[0;34m,\u001b[0m \u001b[0mrange\u001b[0m\u001b[0;34m(\u001b[0m\u001b[0mn_terms\u001b[0m\u001b[0;34m)\u001b[0m\u001b[0;34m)\u001b[0m\u001b[0;34m)\u001b[0m\u001b[0;34m\u001b[0m\n",
       "\u001b[0;34m\u001b[0m\u001b[0;34m\u001b[0m\n",
       "\u001b[0;34m\u001b[0m    \u001b[0;32mreturn\u001b[0m \u001b[0mresult\u001b[0m\u001b[0;34m\u001b[0m\u001b[0;34m\u001b[0m\u001b[0m\n",
       "\u001b[0;31mFile:\u001b[0m      /var/folders/2t/0_80h219537d9f7j3ytlqtgh0000gn/T/ipykernel_6547/1191373669.py\n",
       "\u001b[0;31mType:\u001b[0m      function"
      ]
     },
     "metadata": {},
     "output_type": "display_data"
    }
   ],
   "source": [
    "fibonacci??"
   ]
  },
  {
   "cell_type": "markdown",
   "id": "0f6864a8-5c31-4952-803e-f092e9649d16",
   "metadata": {},
   "source": [
    "### writing good docstrings helps to easily create your documentation (e.g., )"
   ]
  },
  {
   "cell_type": "code",
   "execution_count": 18,
   "id": "a48988ff-1805-45e9-a4d4-52c3964dc246",
   "metadata": {},
   "outputs": [
    {
     "name": "stdout",
     "output_type": "stream",
     "text": [
      "Requirement already satisfied: pylint in /usr/local/lib/python3.11/site-packages (3.1.0)\n",
      "Requirement already satisfied: platformdirs>=2.2.0 in /usr/local/lib/python3.11/site-packages (from pylint) (4.2.0)\n",
      "Requirement already satisfied: astroid<=3.2.0-dev0,>=3.1.0 in /usr/local/lib/python3.11/site-packages (from pylint) (3.1.0)\n",
      "Requirement already satisfied: isort!=5.13.0,<6,>=4.2.5 in /usr/local/lib/python3.11/site-packages (from pylint) (5.13.2)\n",
      "Requirement already satisfied: mccabe<0.8,>=0.6 in /usr/local/lib/python3.11/site-packages (from pylint) (0.7.0)\n",
      "Requirement already satisfied: tomlkit>=0.10.1 in /usr/local/lib/python3.11/site-packages (from pylint) (0.12.4)\n",
      "Requirement already satisfied: dill>=0.3.6 in /usr/local/lib/python3.11/site-packages (from pylint) (0.3.8)\n",
      "Note: you may need to restart the kernel to use updated packages.\n"
     ]
    }
   ],
   "source": [
    "pip install pylint"
   ]
  },
  {
   "cell_type": "markdown",
   "id": "f38ecd86-1bfe-4690-9bb0-63870a3186dd",
   "metadata": {},
   "source": [
    "## Linter"
   ]
  },
  {
   "cell_type": "markdown",
   "id": "1c1a86cc-65f7-4653-858c-cea77adfe429",
   "metadata": {},
   "source": [
    "### pylint https://www.pylint.org/"
   ]
  },
  {
   "cell_type": "code",
   "execution_count": 19,
   "id": "2b135f15-ca9c-47b2-8295-8164e8fba765",
   "metadata": {},
   "outputs": [
    {
     "name": "stdout",
     "output_type": "stream",
     "text": [
      "************* Module overview_plots\n",
      "/Users/louisr/Dropbox/Documents/python-workshop/codes/tutorials/scripts/overview_plots.py:63:0: C0304: Final newline missing (missing-final-newline)\n",
      "/Users/louisr/Dropbox/Documents/python-workshop/codes/tutorials/scripts/overview_plots.py:1:0: C0114: Missing module docstring (missing-module-docstring)\n",
      "/Users/louisr/Dropbox/Documents/python-workshop/codes/tutorials/scripts/overview_plots.py:6:0: C0103: Constant name \"shock_id\" doesn't conform to UPPER_CASE naming style (invalid-name)\n",
      "/Users/louisr/Dropbox/Documents/python-workshop/codes/tutorials/scripts/overview_plots.py:8:0: C0103: Constant name \"destpath\" doesn't conform to UPPER_CASE naming style (invalid-name)\n",
      "/Users/louisr/Dropbox/Documents/python-workshop/codes/tutorials/scripts/overview_plots.py:15:0: C0200: Consider using enumerate instead of iterating with range and len (consider-using-enumerate)\n",
      "/Users/louisr/Dropbox/Documents/python-workshop/codes/tutorials/scripts/overview_plots.py:42:0: C0200: Consider using enumerate instead of iterating with range and len (consider-using-enumerate)\n",
      "/Users/louisr/Dropbox/Documents/python-workshop/codes/tutorials/scripts/overview_plots.py:2:0: C0411: standard import \"os\" should be placed before third party import \"cdflib.CDF\" (wrong-import-order)\n",
      "\n",
      "------------------------------------------------------------------\n",
      "Your code has been rated at 8.44/10 (previous run: 8.89/10, -0.44)\n",
      "\n"
     ]
    }
   ],
   "source": [
    "!pylint '../scripts/overview_plots.py'"
   ]
  },
  {
   "cell_type": "markdown",
   "id": "f824f719-189e-4443-bbfa-9631263cf947",
   "metadata": {},
   "source": [
    "### flake8 https://flake8.pycqa.org/en/latest/ (with configuration file ../../.flake8)"
   ]
  },
  {
   "cell_type": "code",
   "execution_count": 20,
   "id": "bce8d1b0-7824-45e3-b288-8a8c76c21e59",
   "metadata": {
    "scrolled": true
   },
   "outputs": [
    {
     "name": "stdout",
     "output_type": "stream",
     "text": [
      "\u001b[1m../scripts/overview_plots.py\u001b[m\u001b[36m:\u001b[m1\u001b[36m:\u001b[m1\u001b[36m:\u001b[m \u001b[1m\u001b[31mD100\u001b[m Missing docstring in public module\n",
      "\u001b[1m../scripts/overview_plots.py\u001b[m\u001b[36m:\u001b[m63\u001b[36m:\u001b[m43\u001b[36m:\u001b[m \u001b[1m\u001b[31mW292\u001b[m no newline at end of file\n"
     ]
    }
   ],
   "source": [
    "!flake8 '../scripts/overview_plots.py'"
   ]
  },
  {
   "cell_type": "code",
   "execution_count": null,
   "id": "3db16595-fc05-42da-9e6b-fe0d5c0ebf69",
   "metadata": {},
   "outputs": [],
   "source": []
  },
  {
   "cell_type": "code",
   "execution_count": 21,
   "id": "7a1bc33a-50ab-4452-9263-0971b363cc37",
   "metadata": {},
   "outputs": [
    {
     "name": "stdout",
     "output_type": "stream",
     "text": [
      "Requirement already satisfied: black in /usr/local/lib/python3.11/site-packages (24.2.0)\n",
      "Requirement already satisfied: click>=8.0.0 in /usr/local/lib/python3.11/site-packages (from black) (8.1.7)\n",
      "Requirement already satisfied: mypy-extensions>=0.4.3 in /usr/local/lib/python3.11/site-packages (from black) (1.0.0)\n",
      "Requirement already satisfied: packaging>=22.0 in /usr/local/lib/python3.11/site-packages (from black) (23.1)\n",
      "Requirement already satisfied: pathspec>=0.9.0 in /usr/local/lib/python3.11/site-packages (from black) (0.12.1)\n",
      "Requirement already satisfied: platformdirs>=2 in /usr/local/lib/python3.11/site-packages (from black) (4.2.0)\n",
      "Note: you may need to restart the kernel to use updated packages.\n"
     ]
    }
   ],
   "source": [
    "pip install black"
   ]
  },
  {
   "cell_type": "markdown",
   "id": "c7f8df83-40de-4152-a075-47ba6ed8dbd6",
   "metadata": {},
   "source": [
    "## Code style formatters"
   ]
  },
  {
   "cell_type": "markdown",
   "id": "c05359df-ee32-4979-b380-74cc5f4f57a5",
   "metadata": {},
   "source": [
    "### black https://black.readthedocs.io/en/stable/index.html"
   ]
  },
  {
   "cell_type": "code",
   "execution_count": 22,
   "id": "85618c7a-bc36-40e7-91ca-0d49a1821f41",
   "metadata": {
    "scrolled": true
   },
   "outputs": [
    {
     "name": "stdout",
     "output_type": "stream",
     "text": [
      "\u001b[1mreformatted ../scripts/overview_plots.py\u001b[0m\n",
      "\n",
      "\u001b[1mAll done! ✨ 🍰 ✨\u001b[0m\n",
      "\u001b[34m\u001b[1m1 file \u001b[0m\u001b[1mreformatted\u001b[0m.\n"
     ]
    }
   ],
   "source": [
    "!black '../scripts/overview_plots.py' # the ! allows to run console command in the notebook"
   ]
  },
  {
   "cell_type": "markdown",
   "id": "dc86bf0d-7028-40c0-ac8a-0d61b10449a8",
   "metadata": {},
   "source": [
    "### isort https://pycqa.github.io/isort/"
   ]
  },
  {
   "cell_type": "code",
   "execution_count": 23,
   "id": "a4af0e93-b1d8-4a25-87c5-b294b8f08d06",
   "metadata": {},
   "outputs": [
    {
     "name": "stdout",
     "output_type": "stream",
     "text": [
      "Fixing /Users/louisr/Dropbox/Documents/python-workshop/codes/tutorials/scripts/overview_plots.py\n"
     ]
    }
   ],
   "source": [
    "!isort '../scripts/overview_plots.py'"
   ]
  },
  {
   "cell_type": "markdown",
   "id": "66770862-f09b-45fd-94be-a61893d7cc59",
   "metadata": {},
   "source": [
    "### helps but not magic"
   ]
  },
  {
   "cell_type": "code",
   "execution_count": 24,
   "id": "012aba41-0adb-4b52-ba87-90ed5954dc19",
   "metadata": {},
   "outputs": [
    {
     "name": "stdout",
     "output_type": "stream",
     "text": [
      "************* Module overview_plots\n",
      "/Users/louisr/Dropbox/Documents/python-workshop/codes/tutorials/scripts/overview_plots.py:1:0: C0114: Missing module docstring (missing-module-docstring)\n",
      "/Users/louisr/Dropbox/Documents/python-workshop/codes/tutorials/scripts/overview_plots.py:7:0: C0103: Constant name \"shock_id\" doesn't conform to UPPER_CASE naming style (invalid-name)\n",
      "/Users/louisr/Dropbox/Documents/python-workshop/codes/tutorials/scripts/overview_plots.py:9:0: C0103: Constant name \"destpath\" doesn't conform to UPPER_CASE naming style (invalid-name)\n",
      "/Users/louisr/Dropbox/Documents/python-workshop/codes/tutorials/scripts/overview_plots.py:16:0: C0200: Consider using enumerate instead of iterating with range and len (consider-using-enumerate)\n",
      "/Users/louisr/Dropbox/Documents/python-workshop/codes/tutorials/scripts/overview_plots.py:42:0: C0200: Consider using enumerate instead of iterating with range and len (consider-using-enumerate)\n",
      "\n",
      "------------------------------------------------------------------\n",
      "Your code has been rated at 8.89/10 (previous run: 8.44/10, +0.44)\n",
      "\n"
     ]
    }
   ],
   "source": [
    "!pylint '../scripts/overview_plots.py'"
   ]
  },
  {
   "cell_type": "code",
   "execution_count": null,
   "id": "b79b59a4-a69f-402c-a899-f83363b3d05d",
   "metadata": {},
   "outputs": [],
   "source": []
  },
  {
   "cell_type": "markdown",
   "id": "178e050c-4981-42b3-b0f8-69ff66b87608",
   "metadata": {},
   "source": [
    "## Packaging"
   ]
  },
  {
   "cell_type": "markdown",
   "id": "c587f867-f1c0-44c8-a4af-7e73ef9a4902",
   "metadata": {},
   "source": [
    "### see [mypackage](../scripts/mypackage)"
   ]
  },
  {
   "cell_type": "markdown",
   "id": "c3131fd2-304d-4a35-accd-9c9a835cfba9",
   "metadata": {},
   "source": [
    "### pip install your package"
   ]
  },
  {
   "cell_type": "code",
   "execution_count": 26,
   "id": "a75f4e1c-166e-47ec-bcdf-e70e50640d25",
   "metadata": {},
   "outputs": [
    {
     "name": "stdout",
     "output_type": "stream",
     "text": [
      "Processing /Users/louisr/Dropbox/Documents/python-workshop/codes/tutorials/scripts/mypackage\n",
      "  Installing build dependencies ... \u001b[?25ldone\n",
      "\u001b[?25h  Getting requirements to build wheel ... \u001b[?25ldone\n",
      "\u001b[?25h  Preparing metadata (pyproject.toml) ... \u001b[?25ldone\n",
      "\u001b[?25hBuilding wheels for collected packages: mypackage\n",
      "  Building wheel for mypackage (pyproject.toml) ... \u001b[?25ldone\n",
      "\u001b[?25h  Created wheel for mypackage: filename=mypackage-0.0.0-py3-none-any.whl size=2864 sha256=b1bc0cf49b2404e9d8faf30da3a68b8e2ae59b4782ab93d2875cc035520d2552\n",
      "  Stored in directory: /private/var/folders/2t/0_80h219537d9f7j3ytlqtgh0000gn/T/pip-ephem-wheel-cache-5b_x9hav/wheels/08/c5/af/affe11986cfe7f7287a82284926f7d8800eda27cf3ffa82a59\n",
      "Successfully built mypackage\n",
      "Installing collected packages: mypackage\n",
      "  Attempting uninstall: mypackage\n",
      "    Found existing installation: mypackage 0.0.0\n",
      "    Uninstalling mypackage-0.0.0:\n",
      "      Successfully uninstalled mypackage-0.0.0\n",
      "Successfully installed mypackage-0.0.0\n",
      "Note: you may need to restart the kernel to use updated packages.\n"
     ]
    }
   ],
   "source": [
    "pip install '../scripts/mypackage/'"
   ]
  },
  {
   "cell_type": "code",
   "execution_count": 25,
   "id": "10365e0f-a2f2-4c86-b852-5008165283e6",
   "metadata": {},
   "outputs": [
    {
     "name": "stdout",
     "output_type": "stream",
     "text": [
      "Requirement already satisfied: numpy in /usr/local/lib/python3.11/site-packages (1.24.3)\n",
      "Note: you may need to restart the kernel to use updated packages.\n"
     ]
    }
   ],
   "source": [
    "pip install numpy"
   ]
  },
  {
   "cell_type": "markdown",
   "id": "a5e88254-50c8-4a69-9188-e0c882452129",
   "metadata": {},
   "source": [
    "## it's here!!"
   ]
  },
  {
   "cell_type": "code",
   "execution_count": 27,
   "id": "63650f46-3669-45de-9899-052c8017bf5f",
   "metadata": {},
   "outputs": [],
   "source": [
    "import mypkg"
   ]
  },
  {
   "cell_type": "code",
   "execution_count": 28,
   "id": "67aa44d7-4b81-4cd4-8a23-87090e01dff9",
   "metadata": {},
   "outputs": [
    {
     "data": {
      "text/plain": [
       "[0,\n",
       " 1,\n",
       " 1,\n",
       " 2,\n",
       " 3,\n",
       " 5,\n",
       " 8,\n",
       " 13,\n",
       " 21,\n",
       " 34,\n",
       " 55,\n",
       " 89,\n",
       " 144,\n",
       " 233,\n",
       " 377,\n",
       " 610,\n",
       " 987,\n",
       " 1597,\n",
       " 2584,\n",
       " 4181]"
      ]
     },
     "execution_count": 28,
     "metadata": {},
     "output_type": "execute_result"
    }
   ],
   "source": [
    "mypkg.fibonacci(20)"
   ]
  },
  {
   "cell_type": "code",
   "execution_count": null,
   "id": "f3711c20-13b0-4fbd-aac1-934aeb23f018",
   "metadata": {},
   "outputs": [],
   "source": []
  }
 ],
 "metadata": {
  "kernelspec": {
   "display_name": "Python 3 (ipykernel)",
   "language": "python",
   "name": "python3"
  },
  "language_info": {
   "codemirror_mode": {
    "name": "ipython",
    "version": 3
   },
   "file_extension": ".py",
   "mimetype": "text/x-python",
   "name": "python",
   "nbconvert_exporter": "python",
   "pygments_lexer": "ipython3",
   "version": "3.11.8"
  }
 },
 "nbformat": 4,
 "nbformat_minor": 5
}
