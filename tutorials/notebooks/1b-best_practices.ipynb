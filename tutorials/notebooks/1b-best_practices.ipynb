{
 "cells": [
  {
   "cell_type": "markdown",
   "id": "1aba8e67-d305-4a22-be96-cd11a4e420dc",
   "metadata": {},
   "source": [
    "# IRF - Uppsala Python Workshop: Snakes in Space 🐍\n",
    "author: Louis Richard\n",
    "e-mail: louisr@irfu.se\n",
    "date: 29/02/2024"
   ]
  },
  {
   "cell_type": "markdown",
   "id": "25cfa998-5890-4b63-97d0-66faa2243309",
   "metadata": {},
   "source": [
    "## Best practices\n",
    "Introduction to best practices to keep your code nice and readable:\\\n",
    "    - PEP 8 - the Style Guide for Python Code\\\n",
    "    - docstrings\\\n",
    "    - linters\\\n",
    "    - code style tools: black, isort\\\n",
    "    - Packaging"
   ]
  },
  {
   "cell_type": "code",
   "execution_count": null,
   "id": "6407b16a-355a-4ae6-bb0e-28b9481e3c73",
   "metadata": {},
   "outputs": [],
   "source": []
  },
  {
   "cell_type": "code",
   "execution_count": null,
   "id": "a75f4e1c-166e-47ec-bcdf-e70e50640d25",
   "metadata": {},
   "outputs": [],
   "source": []
  },
  {
   "cell_type": "code",
   "execution_count": null,
   "id": "63650f46-3669-45de-9899-052c8017bf5f",
   "metadata": {},
   "outputs": [],
   "source": []
  }
 ],
 "metadata": {
  "kernelspec": {
   "display_name": "Python 3 (ipykernel)",
   "language": "python",
   "name": "python3"
  },
  "language_info": {
   "codemirror_mode": {
    "name": "ipython",
    "version": 3
   },
   "file_extension": ".py",
   "mimetype": "text/x-python",
   "name": "python",
   "nbconvert_exporter": "python",
   "pygments_lexer": "ipython3",
   "version": "3.10.13"
  }
 },
 "nbformat": 4,
 "nbformat_minor": 5
}
