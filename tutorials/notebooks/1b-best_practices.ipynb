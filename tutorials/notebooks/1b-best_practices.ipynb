{
 "cells": [
  {
   "cell_type": "markdown",
   "id": "1aba8e67-d305-4a22-be96-cd11a4e420dc",
   "metadata": {},
   "source": [
    "# IRF - Uppsala Python Workshop: Snakes in Space 🐍\n",
    "author: Louis Richard\n",
    "e-mail: louisr@irfu.se\n",
    "date: 29/02/2024"
   ]
  },
  {
   "cell_type": "markdown",
   "id": "25cfa998-5890-4b63-97d0-66faa2243309",
   "metadata": {},
   "source": [
    "## Best practices\n",
    "Introduction to best practices to keep your code nice and readable:\\\n",
    "    - PEP 8 - the Style Guide for Python Code\\\n",
    "    - docstrings\\\n",
    "    - linters\\\n",
    "    - code style tools: black, isort\\\n",
    "    - Packaging"
   ]
  },
  {
   "cell_type": "markdown",
   "id": "c3131fd2-304d-4a35-accd-9c9a835cfba9",
   "metadata": {},
   "source": [
    "## pip install your package"
   ]
  },
  {
   "cell_type": "code",
   "execution_count": 1,
   "id": "a75f4e1c-166e-47ec-bcdf-e70e50640d25",
   "metadata": {},
   "outputs": [
    {
     "name": "stdout",
     "output_type": "stream",
     "text": [
      "Processing /Users/louisr/Dropbox/Documents/python-workshop/codes/tutorials/scripts/mypackage\n",
      "  Installing build dependencies ... \u001b[?25ldone\n",
      "\u001b[?25h  Getting requirements to build wheel ... \u001b[?25ldone\n",
      "\u001b[?25h  Installing backend dependencies ... \u001b[?25ldone\n",
      "\u001b[?25h  Preparing metadata (pyproject.toml) ... \u001b[?25ldone\n",
      "\u001b[?25hBuilding wheels for collected packages: mypackage\n",
      "  Building wheel for mypackage (pyproject.toml) ... \u001b[?25ldone\n",
      "\u001b[?25h  Created wheel for mypackage: filename=mypackage-0.0.0-py3-none-any.whl size=2862 sha256=fd80280aa00c9c9b53b85518e21b7b59ddb5dba21ac4c02b8dcae287a0f6eb8c\n",
      "  Stored in directory: /private/var/folders/2t/0_80h219537d9f7j3ytlqtgh0000gn/T/pip-ephem-wheel-cache-a39g9zx0/wheels/08/c5/af/affe11986cfe7f7287a82284926f7d8800eda27cf3ffa82a59\n",
      "Successfully built mypackage\n",
      "Installing collected packages: mypackage\n",
      "  Attempting uninstall: mypackage\n",
      "    Found existing installation: mypackage 0.0.0\n",
      "    Uninstalling mypackage-0.0.0:\n",
      "      Successfully uninstalled mypackage-0.0.0\n",
      "Successfully installed mypackage-0.0.0\n",
      "Note: you may need to restart the kernel to use updated packages.\n"
     ]
    }
   ],
   "source": [
    "pip install ../scripts/mypackage/"
   ]
  },
  {
   "cell_type": "code",
   "execution_count": null,
   "id": "10365e0f-a2f2-4c86-b852-5008165283e6",
   "metadata": {},
   "outputs": [],
   "source": []
  },
  {
   "cell_type": "markdown",
   "id": "a5e88254-50c8-4a69-9188-e0c882452129",
   "metadata": {},
   "source": [
    "## it's here!!"
   ]
  },
  {
   "cell_type": "code",
   "execution_count": 2,
   "id": "63650f46-3669-45de-9899-052c8017bf5f",
   "metadata": {},
   "outputs": [],
   "source": [
    "import mypkg"
   ]
  },
  {
   "cell_type": "code",
   "execution_count": 3,
   "id": "67aa44d7-4b81-4cd4-8a23-87090e01dff9",
   "metadata": {},
   "outputs": [
    {
     "data": {
      "text/plain": [
       "[0,\n",
       " 1,\n",
       " 1,\n",
       " 2,\n",
       " 3,\n",
       " 5,\n",
       " 8,\n",
       " 13,\n",
       " 21,\n",
       " 34,\n",
       " 55,\n",
       " 89,\n",
       " 144,\n",
       " 233,\n",
       " 377,\n",
       " 610,\n",
       " 987,\n",
       " 1597,\n",
       " 2584,\n",
       " 4181]"
      ]
     },
     "execution_count": 3,
     "metadata": {},
     "output_type": "execute_result"
    }
   ],
   "source": [
    "mypkg.fibonacci(20)"
   ]
  },
  {
   "cell_type": "markdown",
   "id": "535571ed-0c4c-4ecc-93c8-824839b9e6bf",
   "metadata": {},
   "source": [
    "## Why bother with documentation?"
   ]
  },
  {
   "cell_type": "code",
   "execution_count": 4,
   "id": "ffd3c08d-f1d2-433a-bf6e-0a24d99ab285",
   "metadata": {},
   "outputs": [
    {
     "data": {
      "text/plain": [
       "\u001b[0;31mSignature:\u001b[0m \u001b[0mmypkg\u001b[0m\u001b[0;34m.\u001b[0m\u001b[0mfibonacci\u001b[0m\u001b[0;34m(\u001b[0m\u001b[0mn_terms\u001b[0m\u001b[0;34m,\u001b[0m \u001b[0mverbose\u001b[0m\u001b[0;34m:\u001b[0m \u001b[0mbool\u001b[0m \u001b[0;34m=\u001b[0m \u001b[0;32mFalse\u001b[0m\u001b[0;34m)\u001b[0m \u001b[0;34m->\u001b[0m \u001b[0mlist\u001b[0m\u001b[0;34m[\u001b[0m\u001b[0mint\u001b[0m\u001b[0;34m]\u001b[0m\u001b[0;34m\u001b[0m\u001b[0;34m\u001b[0m\u001b[0m\n",
       "\u001b[0;31mSource:\u001b[0m   \n",
       "\u001b[0;32mdef\u001b[0m \u001b[0mfibonacci\u001b[0m\u001b[0;34m(\u001b[0m\u001b[0mn_terms\u001b[0m\u001b[0;34m,\u001b[0m \u001b[0mverbose\u001b[0m\u001b[0;34m:\u001b[0m \u001b[0mbool\u001b[0m \u001b[0;34m=\u001b[0m \u001b[0;32mFalse\u001b[0m\u001b[0;34m)\u001b[0m \u001b[0;34m->\u001b[0m \u001b[0mlist\u001b[0m\u001b[0;34m[\u001b[0m\u001b[0mint\u001b[0m\u001b[0;34m]\u001b[0m\u001b[0;34m:\u001b[0m\u001b[0;34m\u001b[0m\n",
       "\u001b[0;34m\u001b[0m    \u001b[0;34mr\"\"\"Calculate the `n_terms` first terms of the Fibonnaci sequence.\u001b[0m\n",
       "\u001b[0;34m\u001b[0m\n",
       "\u001b[0;34m    Parameters\u001b[0m\n",
       "\u001b[0;34m    ----------\u001b[0m\n",
       "\u001b[0;34m    n_terms : int\u001b[0m\n",
       "\u001b[0;34m        Number of terms to return.\u001b[0m\n",
       "\u001b[0;34m    verbose : bool, Optional\u001b[0m\n",
       "\u001b[0;34m        Verbosity flag.\u001b[0m\n",
       "\u001b[0;34m\u001b[0m\n",
       "\u001b[0;34m    Returns\u001b[0m\n",
       "\u001b[0;34m    -------\u001b[0m\n",
       "\u001b[0;34m    result : list of int\u001b[0m\n",
       "\u001b[0;34m        List of the `n_terms`th first terms of the Fibonacci sequence.\u001b[0m\n",
       "\u001b[0;34m\u001b[0m\n",
       "\u001b[0;34m    \"\"\"\u001b[0m\u001b[0;34m\u001b[0m\n",
       "\u001b[0;34m\u001b[0m\u001b[0;34m\u001b[0m\n",
       "\u001b[0;34m\u001b[0m    \u001b[0;32massert\u001b[0m \u001b[0misinstance\u001b[0m\u001b[0;34m(\u001b[0m\u001b[0mn_terms\u001b[0m\u001b[0;34m,\u001b[0m \u001b[0mint\u001b[0m\u001b[0;34m)\u001b[0m\u001b[0;34m,\u001b[0m \u001b[0;34m\"n_terms must be an integer!!\"\u001b[0m\u001b[0;34m\u001b[0m\n",
       "\u001b[0;34m\u001b[0m\u001b[0;34m\u001b[0m\n",
       "\u001b[0;34m\u001b[0m    \u001b[0mnterms\u001b[0m \u001b[0;34m=\u001b[0m \u001b[0;36m10\u001b[0m\u001b[0;34m\u001b[0m\n",
       "\u001b[0;34m\u001b[0m\u001b[0;34m\u001b[0m\n",
       "\u001b[0;34m\u001b[0m    \u001b[0;31m# check if the number of terms is valid\u001b[0m\u001b[0;34m\u001b[0m\n",
       "\u001b[0;34m\u001b[0m    \u001b[0;32mif\u001b[0m \u001b[0mnterms\u001b[0m \u001b[0;34m<=\u001b[0m \u001b[0;36m0\u001b[0m\u001b[0;34m:\u001b[0m\u001b[0;34m\u001b[0m\n",
       "\u001b[0;34m\u001b[0m        \u001b[0;32mraise\u001b[0m \u001b[0mValueError\u001b[0m\u001b[0;34m(\u001b[0m\u001b[0;34m\"Plese enter a positive integer\"\u001b[0m\u001b[0;34m)\u001b[0m\u001b[0;34m\u001b[0m\n",
       "\u001b[0;34m\u001b[0m\u001b[0;34m\u001b[0m\n",
       "\u001b[0;34m\u001b[0m    \u001b[0;32mif\u001b[0m \u001b[0mverbose\u001b[0m\u001b[0;34m:\u001b[0m\u001b[0;34m\u001b[0m\n",
       "\u001b[0;34m\u001b[0m        \u001b[0mprint\u001b[0m\u001b[0;34m(\u001b[0m\u001b[0;34mf\"Calculating the first {n_terms:d}th terms of the Fibonacci sequence\"\u001b[0m\u001b[0;34m)\u001b[0m\u001b[0;34m\u001b[0m\n",
       "\u001b[0;34m\u001b[0m\u001b[0;34m\u001b[0m\n",
       "\u001b[0;34m\u001b[0m    \u001b[0mresult\u001b[0m \u001b[0;34m=\u001b[0m \u001b[0mlist\u001b[0m\u001b[0;34m(\u001b[0m\u001b[0mmap\u001b[0m\u001b[0;34m(\u001b[0m\u001b[0m_recur_fibo\u001b[0m\u001b[0;34m,\u001b[0m \u001b[0mrange\u001b[0m\u001b[0;34m(\u001b[0m\u001b[0mn_terms\u001b[0m\u001b[0;34m)\u001b[0m\u001b[0;34m)\u001b[0m\u001b[0;34m)\u001b[0m\u001b[0;34m\u001b[0m\n",
       "\u001b[0;34m\u001b[0m\u001b[0;34m\u001b[0m\n",
       "\u001b[0;34m\u001b[0m    \u001b[0;32mreturn\u001b[0m \u001b[0mresult\u001b[0m\u001b[0;34m\u001b[0m\u001b[0;34m\u001b[0m\u001b[0m\n",
       "\u001b[0;31mFile:\u001b[0m      /usr/local/lib/python3.11/site-packages/mypkg/example.py\n",
       "\u001b[0;31mType:\u001b[0m      function"
      ]
     },
     "metadata": {},
     "output_type": "display_data"
    }
   ],
   "source": [
    "mypkg.fibonacci??"
   ]
  },
  {
   "cell_type": "code",
   "execution_count": null,
   "id": "872aca94-46ed-4036-920f-4adf67b930c4",
   "metadata": {},
   "outputs": [],
   "source": []
  }
 ],
 "metadata": {
  "kernelspec": {
   "display_name": "Python 3 (ipykernel)",
   "language": "python",
   "name": "python3"
  },
  "language_info": {
   "codemirror_mode": {
    "name": "ipython",
    "version": 3
   },
   "file_extension": ".py",
   "mimetype": "text/x-python",
   "name": "python",
   "nbconvert_exporter": "python",
   "pygments_lexer": "ipython3",
   "version": "3.11.8"
  }
 },
 "nbformat": 4,
 "nbformat_minor": 5
}
