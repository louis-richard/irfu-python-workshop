{
 "cells": [
  {
   "cell_type": "markdown",
   "id": "422cb90b-9189-4a1e-bdf6-cc88eb31ce60",
   "metadata": {},
   "source": [
    "# IRF - Uppsala Python Workshop: Snakes in Space 🐍\n",
    "author: Louis Richard\n",
    "e-mail: louisr@irfu.se\n",
    "date: 29/02/2024"
   ]
  },
  {
   "cell_type": "markdown",
   "id": "4127e215-9af0-4f42-85b9-172503b34fc9",
   "metadata": {},
   "source": [
    "## Python for data analysis:\n",
    "- Numpy (https://numpy.org/doc/stable/index.html, https://numpy.org/doc/stable/user/numpy-for-matlab-users.html)\n",
    "- Matplotlib (https://matplotlib.org/stable/tutorials/pyplot.html)\n",
    "- Scipy (https://docs.scipy.org/doc/scipy/index.html)"
   ]
  },
  {
   "cell_type": "markdown",
   "id": "72b55549-b6b7-4456-a136-e17b9a24c06b",
   "metadata": {},
   "source": [
    "## Numpy"
   ]
  },
  {
   "cell_type": "markdown",
   "id": "5f9ecfea-a5d7-4480-8a5c-00aa189b1a2e",
   "metadata": {},
   "source": [
    "### Create an array"
   ]
  },
  {
   "cell_type": "code",
   "execution_count": 2,
   "id": "5fc0d691-8325-41da-83d7-aa819240baf1",
   "metadata": {},
   "outputs": [],
   "source": [
    "import numpy as np"
   ]
  },
  {
   "cell_type": "code",
   "execution_count": 3,
   "id": "c989b214-d9bc-4af0-bb32-e59c939f4542",
   "metadata": {},
   "outputs": [
    {
     "data": {
      "text/plain": [
       "array([[0.06135388, 0.64595479, 0.12943096],\n",
       "       [0.33164595, 0.74696515, 0.06107297],\n",
       "       [0.52804931, 0.80911579, 0.8210062 ]])"
      ]
     },
     "execution_count": 3,
     "metadata": {},
     "output_type": "execute_result"
    }
   ],
   "source": [
    "my_array = np.random.random((3, 3))\n",
    "my_array"
   ]
  },
  {
   "cell_type": "code",
   "execution_count": 4,
   "id": "d4181f36-7667-49fb-9fba-34e51667676b",
   "metadata": {},
   "outputs": [
    {
     "data": {
      "text/plain": [
       "array([[0.06135388, 0.6459548 , 0.12943096],\n",
       "       [0.33164594, 0.74696517, 0.06107297],\n",
       "       [0.5280493 , 0.80911577, 0.8210062 ]], dtype=float32)"
      ]
     },
     "execution_count": 4,
     "metadata": {},
     "output_type": "execute_result"
    }
   ],
   "source": [
    "my_array.astype(np.float32)"
   ]
  },
  {
   "cell_type": "code",
   "execution_count": 5,
   "id": "994a3bc7-0cfe-4606-ae02-458a771e64c4",
   "metadata": {},
   "outputs": [
    {
     "data": {
      "text/plain": [
       "array([[0.06135388, 0.64595479, 0.12943096],\n",
       "       [0.33164595, 0.74696515, 0.06107297],\n",
       "       [0.52804931, 0.80911579, 0.8210062 ]])"
      ]
     },
     "execution_count": 5,
     "metadata": {},
     "output_type": "execute_result"
    }
   ],
   "source": [
    "my_array.astype(np.float64)"
   ]
  },
  {
   "cell_type": "code",
   "execution_count": null,
   "id": "77403716-c7f9-4c16-a4ba-efbc40ed8516",
   "metadata": {},
   "outputs": [],
   "source": []
  },
  {
   "cell_type": "markdown",
   "id": "e0bd1481-35db-4a1f-b8c3-44d3842600bc",
   "metadata": {},
   "source": [
    "### Array slicing"
   ]
  },
  {
   "cell_type": "code",
   "execution_count": 6,
   "id": "9322eeaf-eb24-495f-97da-a09d668db0bc",
   "metadata": {},
   "outputs": [
    {
     "name": "stdout",
     "output_type": "stream",
     "text": [
      "[[ 0.52804931  0.80911579  0.8210062 ]\n",
      " [ 0.33164595 50.          0.06107297]\n",
      " [ 0.06135388  0.64595479  0.12943096]] [[ 0.06135388  0.64595479  0.12943096]\n",
      " [ 0.33164595 50.          0.06107297]\n",
      " [ 0.52804931  0.80911579  0.8210062 ]]\n"
     ]
    }
   ],
   "source": [
    "new_array = my_array\n",
    "new_array = new_array[::-1, :]\n",
    "new_array[1, 1] = 50\n",
    "print(new_array, my_array)"
   ]
  },
  {
   "cell_type": "code",
   "execution_count": 7,
   "id": "82a24240-b2f3-4d34-9fbb-2d0da6d4654a",
   "metadata": {},
   "outputs": [
    {
     "name": "stdout",
     "output_type": "stream",
     "text": [
      "[[ 0.52804931  0.80911579  0.8210062 ]\n",
      " [ 0.33164595 10.          0.06107297]\n",
      " [ 0.06135388  0.64595479  0.12943096]] [[ 0.06135388  0.64595479  0.12943096]\n",
      " [ 0.33164595 50.          0.06107297]\n",
      " [ 0.52804931  0.80911579  0.8210062 ]]\n"
     ]
    }
   ],
   "source": [
    "copy_array = my_array.copy()\n",
    "copy_array = copy_array[::-1, :]\n",
    "copy_array[1, 1] = 10\n",
    "print(copy_array, my_array)\n"
   ]
  },
  {
   "cell_type": "markdown",
   "id": "5b8548b2-f6e9-4b8d-944e-448885ee65ee",
   "metadata": {},
   "source": [
    "### Some functions"
   ]
  },
  {
   "cell_type": "code",
   "execution_count": 9,
   "id": "6c90b2cf-34ba-4acb-a8dd-91818431f1f9",
   "metadata": {},
   "outputs": [
    {
     "data": {
      "text/plain": [
       "array([[ 0.8660254,  0.       ,  0.       ],\n",
       "       [-0.5      ,  0.       ,  0.       ],\n",
       "       [ 0.       ,  0.       ,  0.       ]])"
      ]
     },
     "execution_count": 9,
     "metadata": {},
     "output_type": "execute_result"
    }
   ],
   "source": [
    "theta = np.deg2rad(30)\n",
    "np.multiply(np.array([[np.cos(theta), np.sin(theta), 0], [-np.sin(theta), np.cos(theta), 0], [0, 0, 1]]), np.array([1, 0, 0]))"
   ]
  },
  {
   "cell_type": "code",
   "execution_count": 10,
   "id": "6b84c001-3e12-4571-b2fd-2d03907e2a46",
   "metadata": {},
   "outputs": [
    {
     "data": {
      "text/plain": [
       "array([ 0.8660254, -0.5      ,  0.       ])"
      ]
     },
     "execution_count": 10,
     "metadata": {},
     "output_type": "execute_result"
    }
   ],
   "source": [
    "np.matmul(np.array([[np.cos(theta), np.sin(theta), 0], [-np.sin(theta), np.cos(theta), 0], [0, 0, 1]]), np.array([1, 0, 0]))"
   ]
  },
  {
   "cell_type": "code",
   "execution_count": 11,
   "id": "99c0c99c-bb28-41d3-b4e9-69d9f72ee41c",
   "metadata": {},
   "outputs": [],
   "source": [
    "r_mat = np.stack([np.array([[np.cos(theta), np.sin(theta), 0], [-np.sin(theta), np.cos(theta), 0], [0, 0, 1]]) for theta in np.random.rand(100)])"
   ]
  },
  {
   "cell_type": "code",
   "execution_count": 12,
   "id": "6d15d907-bb8c-444d-800f-32ab3313ec8f",
   "metadata": {},
   "outputs": [],
   "source": [
    "b = [1, 0, 0] * np.ones((100, 3))"
   ]
  },
  {
   "cell_type": "code",
   "execution_count": null,
   "id": "ed289839-d3b0-4bf7-a42d-8e2a1ed22894",
   "metadata": {},
   "outputs": [],
   "source": []
  },
  {
   "cell_type": "code",
   "execution_count": 13,
   "id": "bdd9fb67-25bc-4cc5-aaee-0c274ad96d00",
   "metadata": {},
   "outputs": [
    {
     "name": "stdout",
     "output_type": "stream",
     "text": [
      "(3, 4, 5, 6, 8)\n",
      "(3, 4, 5, 6, 8)\n",
      "(3, 4, 5, 6, 8)\n",
      "(100, 3, 4, 5, 6)\n",
      "(100, 3, 4, 6, 8)\n"
     ]
    }
   ],
   "source": [
    "m = np.random.rand(100, 3, 4, 5, 6, 8)\n",
    "print(m[0, :, :, :, :, :].shape)\n",
    "print(m[0].shape)\n",
    "print(m[0, ...].shape)\n",
    "print(m[..., 0].shape)\n",
    "print(m[..., 0, :, :].shape)"
   ]
  },
  {
   "cell_type": "code",
   "execution_count": 14,
   "id": "4af33818-bb6f-4625-8f40-71461348b637",
   "metadata": {},
   "outputs": [
    {
     "data": {
      "text/plain": [
       "array([ 0.76911028, -0.63911609,  0.        ])"
      ]
     },
     "execution_count": 14,
     "metadata": {},
     "output_type": "execute_result"
    }
   ],
   "source": [
    "np.matmul(r_mat[0, ...], b[0, :])"
   ]
  },
  {
   "cell_type": "code",
   "execution_count": 15,
   "id": "fdcd9a11-f42a-4ba9-b591-8e0edc079a84",
   "metadata": {},
   "outputs": [
    {
     "name": "stdout",
     "output_type": "stream",
     "text": [
      "(100, 3, 3) (100, 3) (100, 3, 1)\n"
     ]
    }
   ],
   "source": [
    "r_mat_b = np.matmul(r_mat, b[..., None])\n",
    "print(r_mat.shape, b.shape, r_mat_b.shape)"
   ]
  },
  {
   "cell_type": "markdown",
   "id": "59e968c5-39e9-4f43-9aaf-78b31b9f7d55",
   "metadata": {},
   "source": [
    "### datetime64"
   ]
  },
  {
   "cell_type": "code",
   "execution_count": 17,
   "id": "80bdbcc6-2162-46ab-ba23-2e21830176bf",
   "metadata": {},
   "outputs": [
    {
     "data": {
      "text/plain": [
       "'2017-08-07T00:00:00.000000000'"
      ]
     },
     "execution_count": 17,
     "metadata": {},
     "output_type": "execute_result"
    }
   ],
   "source": [
    "\"2017-08-07T00:00:00.000000000\""
   ]
  },
  {
   "cell_type": "code",
   "execution_count": 18,
   "id": "7d6240d8-2011-4f12-a4cd-b908c2bf7afc",
   "metadata": {},
   "outputs": [
    {
     "data": {
      "text/plain": [
       "numpy.datetime64('2017-08-07T00:00:00.000000000')"
      ]
     },
     "execution_count": 18,
     "metadata": {},
     "output_type": "execute_result"
    }
   ],
   "source": [
    "np.datetime64(\"2017-08-07T00:00:00.000000000\").astype(\"datetime64[ns]\")\n"
   ]
  },
  {
   "cell_type": "code",
   "execution_count": 19,
   "id": "b515da5e-4442-431b-b46d-b413ff764261",
   "metadata": {},
   "outputs": [
    {
     "data": {
      "text/plain": [
       "numpy.datetime64('2017')"
      ]
     },
     "execution_count": 19,
     "metadata": {},
     "output_type": "execute_result"
    }
   ],
   "source": [
    "np.datetime64(\"2017-08-07T00:00:00.000000000\").astype(\"datetime64[Y]\")"
   ]
  },
  {
   "cell_type": "code",
   "execution_count": 20,
   "id": "f0d70f07-d171-4979-8b0c-208dff2d9e1e",
   "metadata": {},
   "outputs": [
    {
     "data": {
      "text/plain": [
       "numpy.datetime64('1970-01-01T00:00:00.000000000')"
      ]
     },
     "execution_count": 20,
     "metadata": {},
     "output_type": "execute_result"
    }
   ],
   "source": [
    "np.datetime64(0, \"ns\")"
   ]
  },
  {
   "cell_type": "code",
   "execution_count": 21,
   "id": "60bc02db-2cda-4f24-bf5b-18bfb1eb7e2f",
   "metadata": {},
   "outputs": [
    {
     "name": "stdout",
     "output_type": "stream",
     "text": [
      "1970-01-01T00:00:00.000000000\n",
      "-5694969600000000000\n",
      "-5694969600000000000\n",
      "-5.6949696e+18\n"
     ]
    }
   ],
   "source": [
    "print(np.datetime64(0, \"ns\"))\n",
    "print(np.datetime64(\"1789-07-14T00:00:00.000000000\").astype(int))\n",
    "print(np.datetime64(\"1789-07-14T00:00:00.000000000\").astype(np.int64))\n",
    "print(np.datetime64(\"1789-07-14T00:00:00.000000000\").astype(np.float64))"
   ]
  },
  {
   "cell_type": "code",
   "execution_count": null,
   "id": "f3086065-46b7-4963-a3b5-3bdb91e43d9d",
   "metadata": {},
   "outputs": [],
   "source": []
  },
  {
   "cell_type": "code",
   "execution_count": 22,
   "id": "0d279bcc-feb1-4f55-9d74-9ad04cff5c20",
   "metadata": {},
   "outputs": [
    {
     "data": {
      "text/plain": [
       "1502064000000000000"
      ]
     },
     "execution_count": 22,
     "metadata": {},
     "output_type": "execute_result"
    }
   ],
   "source": [
    "np.datetime64(\"2017-08-07T00:00:00.000000000\").astype(\"datetime64[Y]\").astype(\"datetime64[m]\")\n",
    "\n",
    "np.datetime64(\"2017-08-07T00:00:00.000000000\").astype(int)"
   ]
  },
  {
   "cell_type": "code",
   "execution_count": null,
   "id": "0e060209-4081-436b-b1d0-b88371a9578c",
   "metadata": {},
   "outputs": [],
   "source": []
  },
  {
   "cell_type": "code",
   "execution_count": null,
   "id": "6d67a46a-1a00-4392-894d-2502fb9bbf00",
   "metadata": {},
   "outputs": [],
   "source": []
  }
 ],
 "metadata": {
  "kernelspec": {
   "display_name": "Python 3 (ipykernel)",
   "language": "python",
   "name": "python3"
  },
  "language_info": {
   "codemirror_mode": {
    "name": "ipython",
    "version": 3
   },
   "file_extension": ".py",
   "mimetype": "text/x-python",
   "name": "python",
   "nbconvert_exporter": "python",
   "pygments_lexer": "ipython3",
   "version": "3.10.13"
  }
 },
 "nbformat": 4,
 "nbformat_minor": 5
}
