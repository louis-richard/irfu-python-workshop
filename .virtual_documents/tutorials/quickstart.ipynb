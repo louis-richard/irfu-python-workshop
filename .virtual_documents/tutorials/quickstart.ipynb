








import os, glob





from math import sqrt





from math import *





a = 10
b = 2


a = b
b = a
print(a, b)


a = 10
b = 2


a, b = b, a
print(a, b)











phd_students_supervisor = {"Ahmad": "Yuri", "Ida": "Emiliya", "Jordi": "Daniel", "Konstantin": "Niklas", "Jack": "Yuri"}





phd_students_supervisor = dict(Ahmad="Yuri", Ida="Emiliya", Jordi="Daniel", Konstantin="Niklas", Jack="Yuri")





phd_students_supervisor["Ida"]





phd_students_supervisor.keys()


phd_students_supervisor.values()


phd_students_supervisor.items()





for student, supervisor in phd_students_supervisor.items():
    print(f"{student:s}'s supervisor is {supervisor:s}")  # f-strings





old_phd_students = ["Louis", "Ahmad", "Ida", "Jordi", "Konstantin"]





phd_students = list(phd_students_supervisor.keys())
phd_supervisors = list(phd_students_supervisor.values())





my_list = [1, phd_students, 1e6, False]

for i, element in enumerate(my_list):
    print(f"my_list {i:d}th element ({element}) is a {type(element)}")





f"The 'oldest' PhD student is {phd_students[0]:s}"





fired = old_phd_students.pop(0)
print(f"Goodbye {fired:s}!!")





old_phd_students + ["Jack"]





[*old_phd_students, "Jack"]





[*old_phd_students, "Jack"] == phd_students





old_phd_students.append("Jack")
old_phd_students





f"Welcome {phd_students[-1]:s}!!"





phd_students = ("Ahmad", "Ida", "Jordi", "Konstantin", "Jack")





phd_students = tuple(phd_students_supervisor.keys())
phd_students





phd_students[-2] = "Kim"











phd_students_lower = []

for student in phd_students:
    phd_students_lower.append(student.lower())

phd_students_lower





[student.lower() for student in phd_students]





{student: supervisor for student, supervisor in zip(phd_students, phd_supervisors)}





(student.lower() for student in phd_students)








phd_students_lower = (student.lower() for student in phd_students)
phd_students_lower





import sys
print(sys.getsizeof(phd_students_lower), sys.getsizeof(list(phd_students_lower)))








get_student_name = lambda item: item[0]
[get_student_name(item) for item in phd_students_supervisor.items()]








phd_students_lower_map = map(str.lower, phd_students)
phd_students_lower_map





supervisor = "Niklas"
matched_items = list(filter(lambda item: item[1] == supervisor, phd_students_supervisor.items()))
matched_students = list(map(lambda item: item[0], matched_items))
matched_students





from typing import List

def get_phd_students(supervisor: str) -> List[int]:
    r"""Get PhD students supervised by `supervisor`.

    Parameters
    ----------
    supervisor : str
        Name of supervisor.

    Returns
    -------
    matched_students : list
        List of the names of the students supervised by `supervisor`.

    Raises
    ------
    ValueError
        If `supervisor` is not a supervisor.

    """

    if supervisor in phd_students_supervisor.values():
        # Find items where the value is `supervisor`
        matched_items = list(filter(lambda item: item[1] == supervisor, phd_students_supervisor.items()))

        # Get the first element (key) of the items, i.e., the PhD student name
        matched_students = list(map(lambda item: item[0], matched_items))
    else:
        raise ValueError(f"{supervisor} has not PhD students")

    return matched_students
    


get_phd_students("Erik")





scientists = ["Andrew", "Dave", "Michiko", "Erik", "Jan-Erik", "Anders", "Stephan", "Daniel", "Emiliya", "Cecilia", "Yuri"]
scientists.sort()

for scientist in scientists:
    try: 
        result = get_phd_students(scientist)
        print(f"{scientist}'s PhD student{'s are' if len(result) > 1 else ' is'} {result}")
    except ValueError as err:
        print(err)



