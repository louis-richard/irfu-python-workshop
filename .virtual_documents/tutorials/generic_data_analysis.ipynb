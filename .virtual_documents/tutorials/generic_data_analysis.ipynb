











import numpy as np


my_array = np.random.random((3, 3))
my_array


my_array.astype(np.float32)


my_array.astype(np.float64)








new_array = my_array
new_array = new_array[::-1, :]
new_array[1, 1] = 50
print(new_array, my_array)


copy_array = my_array.copy()
copy_array = copy_array[::-1, :]
copy_array[1, 1] = 10
print(copy_array, my_array)






theta = np.deg2rad(30)
np.multiply(np.array([[np.cos(theta), np.sin(theta), 0], [-np.sin(theta), np.cos(theta), 0], [0, 0, 1]]), np.array([1, 0, 0]))


np.matmul(np.array([[np.cos(theta), np.sin(theta), 0], [-np.sin(theta), np.cos(theta), 0], [0, 0, 1]]), np.array([1, 0, 0]))


r_mat = np.stack([np.array([[np.cos(theta), np.sin(theta), 0], [-np.sin(theta), np.cos(theta), 0], [0, 0, 1]]) for theta in np.random.rand(100)])


b = [1, 0, 0] * np.ones((100, 3))





m = np.random.rand(100, 3, 4, 5, 6, 8)
print(m[0, :, :, :, :, :].shape)
print(m[0].shape)
print(m[0, ...].shape)
print(m[..., 0].shape)
print(m[..., 0, :, :].shape)


np.matmul(r_mat[0, ...], b[0, :])


r_mat_b = np.matmul(r_mat, b[..., None])
print(r_mat.shape, b.shape, r_mat_b.shape)





"2017-08-07T00:00:00.000000000"


np.datetime64("2017-08-07T00:00:00.000000000").astype("datetime64[ns]")



np.datetime64("2017-08-07T00:00:00.000000000").astype("datetime64[Y]")


np.datetime64(0, "ns")


print(np.datetime64(0, "ns"))
print(np.datetime64("1789-07-14T00:00:00.000000000").astype(int))
print(np.datetime64("1789-07-14T00:00:00.000000000").astype(np.int64))
print(np.datetime64("1789-07-14T00:00:00.000000000").astype(np.float64))





np.datetime64("2017-08-07T00:00:00.000000000").astype("datetime64[Y]").astype("datetime64[m]")

np.datetime64("2017-08-07T00:00:00.000000000").astype(int)






